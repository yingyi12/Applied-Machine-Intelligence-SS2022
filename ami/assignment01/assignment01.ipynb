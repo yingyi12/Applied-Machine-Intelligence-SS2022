{
 "cells": [
  {
   "cell_type": "markdown",
   "id": "c27afdea",
   "metadata": {
    "deletable": false,
    "editable": false,
    "nbgrader": {
     "cell_type": "markdown",
     "checksum": "cc3b2ac8185ea792a5e9eed7f60fcdfc",
     "grade": false,
     "grade_id": "intro",
     "locked": true,
     "schema_version": 3,
     "solution": false,
     "task": false
    }
   },
   "source": [
    "# First assignment\n",
    "The assignment provides problems regarding basic applications of linear algebra and machine learning. Use this Notebook to perform the computations and insert your comments into it. All the coding must be done in Python 3. \n",
    "\n",
    "The assignment has to be submitted individually!\n",
    "\n",
    "All your plots have to be labelled properly!  (Non-labeled plots will result in point deductions!)\n",
    "\n",
    "**Non running cells/tasks will not be considered!**\n",
    "\n",
    "The tasks/questions are 1.1), 1.2), 2.1), 2.2), 2.3), 2.4), 2.5) and 3.1). After each task description there is an answer cell for your code or text. For coding tasks they look like this:\n",
    "\n",
    "```\n",
    "# YOUR CODE HERE\n",
    "```\n",
    "(You can delete the \"YOUR CODE HERE\" comment, if you like.)\n",
    "\n",
    "For markdown (text) cells the response cell will include this:\n",
    "\n",
    "**WRITE YOUR ANSWER HERE**\n",
    "\n",
    "Sometimes they are followed by test cells. You can run the test cells after you finished the task. If these cells don't show any errors, your answer is right. You can't/shouldn't edit test cells!\n",
    "\n",
    "After you finished the notebook you can hit the \"Validate\" button on the top of the notebook to see if all test are good. You can also use the \"Validate\" button on the \"Assignment\" tap on the main page of python.ldv.ei.tum.de. Some tasks will be graded manually (e.g. plots, text answers). They don't have a following test cell. \n",
    "\n",
    "Please make sure to hit the \"Submit\" button on the \"Assignment\" tab on the main page of python.ldv.ei.tum.de before the deadline passes. You will get your final score after the deadline.\n",
    "\n",
    "**Some tips:**\n",
    "- Only change cells with `# YOUR CODE HERE` or **WRITE YOUR ANSWER HERE**\n",
    "- Do not change cell types or the notebook name.\n",
    "- Do not add other .ipynb files into the homework folder.\n",
    "- For every plot makes sure that axes are correctly labeled with original labels and not encoded ones. \n",
    "- If you are asked to provide multiple plots, make sure that the titles are clear. A plot should be self explanatory, we should not have to look at your code to know what is plotted. \n",
    "\n",
    "#### Date of submission: May 09, 2022, 23:55 hrs"
   ]
  },
  {
   "cell_type": "code",
   "execution_count": 1,
   "id": "500f2836",
   "metadata": {
    "deletable": false,
    "editable": false,
    "nbgrader": {
     "cell_type": "code",
     "checksum": "bf2b5ffe77b1d1aa844a88c1591bbad8",
     "grade": false,
     "grade_id": "import",
     "locked": true,
     "schema_version": 3,
     "solution": false,
     "task": false
    }
   },
   "outputs": [],
   "source": [
    "import pandas as pd\n",
    "import numpy as np"
   ]
  },
  {
   "cell_type": "markdown",
   "id": "dc4db0a8",
   "metadata": {
    "deletable": false,
    "editable": false,
    "nbgrader": {
     "cell_type": "markdown",
     "checksum": "5fd0f434e31217ea7e67f96a0e107185",
     "grade": false,
     "grade_id": "dataset-description",
     "locked": true,
     "schema_version": 3,
     "solution": false,
     "task": false
    }
   },
   "source": [
    "**Oktoberfest dataset**\n",
    "\n",
    "The following cell downloads a dataset from the statistical office of the city of Munich. The dataset contains informations about the Oktoberfest from 1985 to 2019. The cell also prints an overview of all the variables in this dataset."
   ]
  },
  {
   "cell_type": "code",
   "execution_count": 2,
   "id": "0396480a",
   "metadata": {
    "deletable": false,
    "editable": false,
    "nbgrader": {
     "cell_type": "code",
     "checksum": "8a73bbc06cd53bf0add8ecd00a0c26cb",
     "grade": false,
     "grade_id": "dataset-loader",
     "locked": true,
     "schema_version": 3,
     "solution": false,
     "task": false
    }
   },
   "outputs": [
    {
     "name": "stdout",
     "output_type": "stream",
     "text": [
      "<class 'pandas.core.frame.DataFrame'>\n",
      "RangeIndex: 35 entries, 0 to 34\n",
      "Data columns (total 8 columns):\n",
      " #   Column            Non-Null Count  Dtype  \n",
      "---  ------            --------------  -----  \n",
      " 0   year              35 non-null     int64  \n",
      " 1   duration          35 non-null     int64  \n",
      " 2   visitors_total    35 non-null     float64\n",
      " 3   visitors_day      35 non-null     int64  \n",
      " 4   beer_price        35 non-null     float64\n",
      " 5   beer_consumed     35 non-null     int64  \n",
      " 6   chicken_price     35 non-null     float64\n",
      " 7   chicken_consumed  35 non-null     int64  \n",
      "dtypes: float64(3), int64(5)\n",
      "memory usage: 2.3 KB\n",
      "None\n"
     ]
    }
   ],
   "source": [
    "url = 'https://opendata.muenchen.de/dataset/8d6c8251-7956-4f92-8c96-f79106aab828/resource/e0f664cf-6dd9-4743-bd2b-81a8b18bd1d2/download/oktoberfestgesamt19852019.csv'  \n",
    "wiesn = pd.read_csv(url)\n",
    "translation = {'jahr': 'year', 'dauer':'duration', 'besucher_gesamt':'visitors_total', 'besucher_tag': 'visitors_day', \n",
    "           'bier_preis': 'beer_price', 'bier_konsum': 'beer_consumed', 'hendl_preis':'chicken_price', 'hendl_konsum': 'chicken_consumed'\n",
    "       }\n",
    "wiesn.rename(columns=translation,inplace=True)\n",
    "print(wiesn.info())"
   ]
  },
  {
   "cell_type": "markdown",
   "id": "2de947bb",
   "metadata": {
    "deletable": false,
    "editable": false,
    "nbgrader": {
     "cell_type": "markdown",
     "checksum": "bb7b77ebd31cee2932e5223d181c09fc",
     "grade": false,
     "grade_id": "task1-1-description",
     "locked": true,
     "schema_version": 3,
     "solution": false,
     "task": false
    }
   },
   "source": [
    "**Task 1.1**\n",
    "    \n",
    "Calculate the pairwise pearson correlation between all pairs of variables. Save the highest positive correlation between a pair of variables into the variable `maxpos` and the maximum negative correlation into `maxneg`! "
   ]
  },
  {
   "cell_type": "code",
   "execution_count": 3,
   "id": "d7ef1322",
   "metadata": {
    "deletable": false,
    "nbgrader": {
     "cell_type": "code",
     "checksum": "79ffe9e5e3a4313b889d31d978ff1e03",
     "grade": false,
     "grade_id": "task1-1-solution",
     "locked": false,
     "schema_version": 3,
     "solution": true,
     "task": false
    }
   },
   "outputs": [
    {
     "name": "stdout",
     "output_type": "stream",
     "text": [
      "Highest positive correlation between two variables: 0.9948\n",
      "Highest negavtive correlation between two variables: -0.8461\n"
     ]
    }
   ],
   "source": [
    "# YOUR CODE HERE\n",
    "\n",
    "corr = wiesn.corr()\n",
    "corr[corr == 1] = 0\n",
    "\n",
    "maxpos = corr.max().sort_values(ascending=False)[0]\n",
    "maxneg = corr.min().sort_values(ascending=False)[-1]\n",
    "\n",
    "print(\"Highest positive correlation between two variables: {:.4f}\".format(maxpos))\n",
    "print(\"Highest negavtive correlation between two variables: {:.4f}\".format(maxneg))"
   ]
  },
  {
   "cell_type": "code",
   "execution_count": null,
   "id": "e265c38c",
   "metadata": {
    "deletable": false,
    "editable": false,
    "nbgrader": {
     "cell_type": "code",
     "checksum": "da22fb4c1ef4c00b1c1297cd25e852ee",
     "grade": true,
     "grade_id": "task1-1-test-1",
     "locked": true,
     "points": 1,
     "schema_version": 3,
     "solution": false,
     "task": false
    }
   },
   "outputs": [],
   "source": []
  },
  {
   "cell_type": "code",
   "execution_count": null,
   "id": "2c7d1985",
   "metadata": {
    "deletable": false,
    "editable": false,
    "nbgrader": {
     "cell_type": "code",
     "checksum": "bec3cc0863e5560c342f1aa21c113895",
     "grade": true,
     "grade_id": "task1-1-test-2",
     "locked": true,
     "points": 1,
     "schema_version": 3,
     "solution": false,
     "task": false
    }
   },
   "outputs": [],
   "source": []
  },
  {
   "cell_type": "markdown",
   "id": "4c4662d3",
   "metadata": {
    "deletable": false,
    "editable": false,
    "nbgrader": {
     "cell_type": "markdown",
     "checksum": "7d915c743cf44821175c89aa222955be",
     "grade": false,
     "grade_id": "task1-2-description",
     "locked": true,
     "schema_version": 3,
     "solution": false,
     "task": false
    }
   },
   "source": [
    "**Task 1.2**\n",
    "\n",
    "Provide two scatter plots. One has to show the two variables with the highest positive correlation and one will show the variables with the highest negative correlation. Take care that the axes are properly labelled!"
   ]
  },
  {
   "cell_type": "code",
   "execution_count": 4,
   "id": "ad9a2378",
   "metadata": {
    "deletable": false,
    "nbgrader": {
     "cell_type": "code",
     "checksum": "602c3127cd8c3e46a4b327d2c9ae5ea7",
     "grade": true,
     "grade_id": "task1-2-solution",
     "locked": false,
     "points": 4,
     "schema_version": 3,
     "solution": true,
     "task": false
    }
   },
   "outputs": [
    {
     "data": {
      "image/png": "[encoded data removed]",
      "text/plain": [
       "<Figure size 432x288 with 1 Axes>"
      ]
     },
     "metadata": {
      "needs_background": "light"
     },
     "output_type": "display_data"
    },
    {
     "data": {
      "image/png": "[encoded data removed]",
      "text/plain": [
       "<Figure size 432x288 with 1 Axes>"
      ]
     },
     "metadata": {
      "needs_background": "light"
     },
     "output_type": "display_data"
    }
   ],
   "source": [
    "# YOUR CODE HERE\n",
    "import matplotlib.pyplot as plt\n",
    "plt.scatter(wiesn.year, wiesn.beer_price)\n",
    "plt.title('two variables with the highest positive correlation')\n",
    "plt.xlabel('year')\n",
    "plt.ylabel('beer_price')\n",
    "plt.show()\n",
    "plt.scatter(wiesn.chicken_price, wiesn.chicken_consumed)\n",
    "plt.title(' the variables with the highest negative correlation')\n",
    "plt.xlabel('chicken_price')\n",
    "plt.ylabel('chicken_consumed')\n",
    "plt.show()"
   ]
  },
  {
   "cell_type": "code",
   "execution_count": null,
   "id": "2969dc0b",
   "metadata": {},
   "outputs": [],
   "source": []
  },
  {
   "cell_type": "markdown",
   "id": "19b47da8",
   "metadata": {
    "deletable": false,
    "editable": false,
    "nbgrader": {
     "cell_type": "markdown",
     "checksum": "5017e9e3f860d1185bcb82147b9d3358",
     "grade": false,
     "grade_id": "task2-1-description",
     "locked": true,
     "schema_version": 3,
     "solution": false,
     "task": false
    }
   },
   "source": [
    "**Task 2.1**\n",
    "\n",
    "Build a linear-affine model $y_i = ax_i + b$ , where y is the beer price, x is the year, a is the regression coefficient and b is the intercept. Use only the years till the year 2009 to calibrate/train your model. Name the variables `a` and `b`."
   ]
  },
  {
   "cell_type": "code",
   "execution_count": 5,
   "id": "18dc166f",
   "metadata": {
    "deletable": false,
    "nbgrader": {
     "cell_type": "code",
     "checksum": "c9f74c89c4a5b6116629f546c13ed20b",
     "grade": false,
     "grade_id": "task2-1-solution",
     "locked": false,
     "schema_version": 3,
     "solution": true,
     "task": false
    }
   },
   "outputs": [
    {
     "name": "stdout",
     "output_type": "stream",
     "text": [
      "Coefficient a: 0.2231 euro/year and Intercept b: -440.0288 euro.\n"
     ]
    }
   ],
   "source": [
    "# YOUR CODE HERE\n",
    "x = wiesn.year[0:25]\n",
    "y = wiesn.beer_price[0:25]\n",
    "xmean = np.mean(x)\n",
    "ymean = np.mean(y)\n",
    "xy = (x-xmean) * (y - ymean)\n",
    "xx = (x - xmean)**2\n",
    "\n",
    "a = xy.sum() / xx.sum()\n",
    "b = ymean - (a * xmean)\n",
    "\n",
    "print(\"Coefficient a: {:.4f} euro/year and Intercept b: {:.4f} euro.\".format(a,b))"
   ]
  },
  {
   "cell_type": "code",
   "execution_count": null,
   "id": "827c08dc",
   "metadata": {
    "deletable": false,
    "editable": false,
    "nbgrader": {
     "cell_type": "code",
     "checksum": "a73f11b30d46eebf50c1f33f540aa449",
     "grade": true,
     "grade_id": "task2-1-test-1",
     "locked": true,
     "points": 1,
     "schema_version": 3,
     "solution": false,
     "task": false
    }
   },
   "outputs": [],
   "source": []
  },
  {
   "cell_type": "code",
   "execution_count": null,
   "id": "6eb11f0f",
   "metadata": {
    "deletable": false,
    "editable": false,
    "nbgrader": {
     "cell_type": "code",
     "checksum": "613638d4a61639803fa138b26b73316d",
     "grade": true,
     "grade_id": "task2-1-test-2",
     "locked": true,
     "points": 1,
     "schema_version": 3,
     "solution": false,
     "task": false
    }
   },
   "outputs": [],
   "source": []
  },
  {
   "cell_type": "markdown",
   "id": "76bec17c",
   "metadata": {
    "deletable": false,
    "editable": false,
    "nbgrader": {
     "cell_type": "markdown",
     "checksum": "9ff02c2852d4ed30e69c4145c8b0982a",
     "grade": false,
     "grade_id": "task2-2-description",
     "locked": true,
     "schema_version": 3,
     "solution": false,
     "task": false
    }
   },
   "source": [
    "**Task 2.2**\n",
    "\n",
    "Given your model from Task 2.1: compute the prediction of the beer price for all available years (1985-2019) using your model. Use `beer_price_predicted` as variable name!"
   ]
  },
  {
   "cell_type": "code",
   "execution_count": 6,
   "id": "9ae1715d",
   "metadata": {
    "deletable": false,
    "nbgrader": {
     "cell_type": "code",
     "checksum": "d2c6224c7dc3900a926ae93d6c5ef14a",
     "grade": false,
     "grade_id": "task2-2-solution",
     "locked": false,
     "schema_version": 3,
     "solution": true,
     "task": false
    }
   },
   "outputs": [],
   "source": [
    "# YOUR CODE HERE\n",
    "beer_price_predicted  = a*wiesn.year+b\n"
   ]
  },
  {
   "cell_type": "code",
   "execution_count": null,
   "id": "9868dced",
   "metadata": {
    "deletable": false,
    "editable": false,
    "nbgrader": {
     "cell_type": "code",
     "checksum": "656c9543c439da8570289eccb472bc1b",
     "grade": true,
     "grade_id": "task2-2-test",
     "locked": true,
     "points": 2,
     "schema_version": 3,
     "solution": false,
     "task": false
    }
   },
   "outputs": [],
   "source": []
  },
  {
   "cell_type": "markdown",
   "id": "740a3e4f",
   "metadata": {
    "deletable": false,
    "editable": false,
    "nbgrader": {
     "cell_type": "markdown",
     "checksum": "3b780c1f732301faef15cd7fc4e0691b",
     "grade": false,
     "grade_id": "task2-3-description",
     "locked": true,
     "schema_version": 3,
     "solution": false,
     "task": false
    }
   },
   "source": [
    "Let us have a look how the prediction looks like - compared to the observed beer price.\n",
    "\n",
    "| |\n",
    "|:--:|\n",
    "|Beer price - predicted vs. observed|\n",
    "|![beer_price](beer_price_predicted_vs_observed.svg)|\n",
    "||\n",
    "\n",
    "\n",
    "**Task 2.3**\n",
    "\n",
    "Forecast the beer price in the year 2222 with your model from above (name the variable `beer_price2222`)"
   ]
  },
  {
   "cell_type": "code",
   "execution_count": 7,
   "id": "9116d60b",
   "metadata": {
    "deletable": false,
    "nbgrader": {
     "cell_type": "code",
     "checksum": "abab7a86b88ee911319c5ba8cd6e547a",
     "grade": false,
     "grade_id": "task2-3-solution",
     "locked": false,
     "schema_version": 3,
     "solution": true,
     "task": false
    }
   },
   "outputs": [
    {
     "name": "stdout",
     "output_type": "stream",
     "text": [
      "Predicted beer price in the year 2222: 55.75 euro.\n"
     ]
    }
   ],
   "source": [
    "# YOUR CODE HERE\n",
    "beer_price2222 = a*2222+b\n",
    "\n",
    "print(\"Predicted beer price in the year 2222: {:.2f} euro.\".format(beer_price2222))"
   ]
  },
  {
   "cell_type": "code",
   "execution_count": null,
   "id": "ccfecec7",
   "metadata": {
    "deletable": false,
    "editable": false,
    "nbgrader": {
     "cell_type": "code",
     "checksum": "625e7f514859d95a18f433a4f69502a5",
     "grade": true,
     "grade_id": "task2-3-test",
     "locked": true,
     "points": 1,
     "schema_version": 3,
     "solution": false,
     "task": false
    }
   },
   "outputs": [],
   "source": []
  },
  {
   "cell_type": "markdown",
   "id": "43853266",
   "metadata": {
    "deletable": false,
    "editable": false,
    "nbgrader": {
     "cell_type": "markdown",
     "checksum": "e834db665250036b588381ae0b88a1f3",
     "grade": false,
     "grade_id": "task2-4-description",
     "locked": true,
     "schema_version": 3,
     "solution": false,
     "task": false
    }
   },
   "source": [
    "**Task 2.4**\n",
    "\n",
    "According to your model, what was the beer price `beer_price1810` at the first Oktoberfest in the year 1810?\n"
   ]
  },
  {
   "cell_type": "code",
   "execution_count": 8,
   "id": "954d1dbe",
   "metadata": {
    "deletable": false,
    "nbgrader": {
     "cell_type": "code",
     "checksum": "d73b03e85ffc56eba6a25e3ae522935f",
     "grade": false,
     "grade_id": "task2-4-solution",
     "locked": false,
     "schema_version": 3,
     "solution": true,
     "task": false
    }
   },
   "outputs": [
    {
     "name": "stdout",
     "output_type": "stream",
     "text": [
      "Predicted beer price in the year 1810: -36.18 euro.\n"
     ]
    }
   ],
   "source": [
    "# YOUR CODE HERE\n",
    "beer_price1810 = a*1810+b\n",
    "print(\"Predicted beer price in the year 1810: {:.2f} euro.\".format(beer_price1810))"
   ]
  },
  {
   "cell_type": "code",
   "execution_count": null,
   "id": "83d52bbb",
   "metadata": {
    "deletable": false,
    "editable": false,
    "nbgrader": {
     "cell_type": "code",
     "checksum": "09a7eaa218bf2a38c8125f8a11c4777d",
     "grade": true,
     "grade_id": "task2-4-test",
     "locked": true,
     "points": 1,
     "schema_version": 3,
     "solution": false,
     "task": false
    }
   },
   "outputs": [],
   "source": []
  },
  {
   "cell_type": "markdown",
   "id": "37ad3e8f",
   "metadata": {
    "deletable": false,
    "editable": false,
    "nbgrader": {
     "cell_type": "markdown",
     "checksum": "bba3057bca5314bbba26613343af8b3a",
     "grade": false,
     "grade_id": "task2-5-description",
     "locked": true,
     "schema_version": 3,
     "solution": false,
     "task": false
    }
   },
   "source": [
    "**Task 2.5**\n",
    "\n",
    "Why is the pearson correlation between `beer_price_predicted` and `year` equal to 1.0?\n",
    "\n",
    "'a': The model reproduces the original data.\n",
    "\n",
    "'b': `beer_price_predicted` using your model is a linear combination of the variable year.\n",
    "\n",
    "'c': `beer_price_predicted` and `year` are statistically independent.\n",
    "\n",
    "'d': `beer_price` and `year` are statistically independent.\n",
    "\n",
    "*Use a variable* `x25` *and assign your answer of the question (if 'e' would be the correct answer your code should look like this:* `x25='e'`*. There is only one correct answer.* "
   ]
  },
  {
   "cell_type": "code",
   "execution_count": 9,
   "id": "39723dde",
   "metadata": {
    "deletable": false,
    "nbgrader": {
     "cell_type": "code",
     "checksum": "da188bfbcdee36df327200bf09ccfc33",
     "grade": false,
     "grade_id": "task2-5-solution",
     "locked": false,
     "schema_version": 3,
     "solution": true,
     "task": false
    }
   },
   "outputs": [
    {
     "name": "stdout",
     "output_type": "stream",
     "text": [
      "The answer is b.\n"
     ]
    }
   ],
   "source": [
    "# YOUR CODE HERE\n",
    "x25='b'\n",
    "print('The answer is ' + x25 + '.')"
   ]
  },
  {
   "cell_type": "code",
   "execution_count": null,
   "id": "cc1a6f83",
   "metadata": {
    "deletable": false,
    "editable": false,
    "nbgrader": {
     "cell_type": "code",
     "checksum": "6bab7bbf647183a01eb97a7c3403131d",
     "grade": true,
     "grade_id": "task2-5-test",
     "locked": true,
     "points": 1,
     "schema_version": 3,
     "solution": false,
     "task": false
    }
   },
   "outputs": [],
   "source": []
  },
  {
   "cell_type": "markdown",
   "id": "445c5bc5",
   "metadata": {
    "deletable": false,
    "editable": false,
    "nbgrader": {
     "cell_type": "markdown",
     "checksum": "1825bdc9ce92012689e05c6f3203c47a",
     "grade": false,
     "grade_id": "task3-1-description",
     "locked": true,
     "schema_version": 3,
     "solution": false,
     "task": false
    }
   },
   "source": [
    "**Task 3.1**\n",
    "\n",
    "You try to further optimize your model by adding more predictors to it. Let's add `beer_consumed` and in a second step also include `visitors_total`. The performance is measured as the mean squared error between the models' predictions and the true beer price on the held out years. Here are your results:\n",
    "\n",
    "| model  |  predictor(s) |mse   |\n",
    "|:---:|:---:|:---:|\n",
    "| 1  | `year`  |  0.596086 |\n",
    "| 2  | `year, beer_consumed` | 0.524344  |\n",
    "| 3  |`year, beer_consumed, visitors_total`  |0.526543   |\n",
    "\n",
    "\n",
    "As you can see the mse on the held out data decreases by adding `beer_consumed` to your model. \n",
    "Now you additionally include `visitors_total` to the model, this is model 3. Why is model 3 worse in terms of mean squared error as model 2?\n",
    "The given correlation loadings plot of a PCA on the dataset might help you to answer the question.\n",
    "\n",
    "'a': `visotors_total` is more correlated with the 2nd component (`r2`), while `beer_price` is strongly correlated with the 1st component (`r1`). As the principal components in PCA are perpendicular, `visitors_total` will not help to predict the `beer_price` and even degrades the performance.\n",
    "\n",
    "'b': Using more predictors increases the likelihhod to inclue the best predictor. This result from above is just a random effect and in general not true.\n",
    "\n",
    "'c': Due to the nature of the convex optimization used to compute the regression coefficients one can show that the optimum number of predictors in linear problems is 2.\n",
    "\n",
    "'d': `visitors_total` is negatively correlated to the 1st component of the PCA. Only variables which are positively correlated with the 1st components can be used as good predictors.\n",
    " \n",
    "| |\n",
    "|:--:|\n",
    "|PCA Correlation Loadings Plot|\n",
    "|![pca beer dataset](pca.svg \"PCA - Correlation Loadings Plot\")|\n",
    "||\n",
    "\n",
    "*Use a variable* `x31` *and assign your answer of the question (if 'e' would be the correct answer your code should look like this:* `x31='e'`*. There is only one correct answer.*"
   ]
  },
  {
   "cell_type": "code",
   "execution_count": 37,
   "id": "8f981668",
   "metadata": {
    "deletable": false,
    "nbgrader": {
     "cell_type": "code",
     "checksum": "370fbe5648ef53b92c7f6a65174d933e",
     "grade": false,
     "grade_id": "task3-1-solution",
     "locked": false,
     "schema_version": 3,
     "solution": true,
     "task": false
    }
   },
   "outputs": [
    {
     "name": "stdout",
     "output_type": "stream",
     "text": [
      "The answer is a.\n"
     ]
    }
   ],
   "source": [
    "# YOUR CODE HERE\n",
    "x31='a'\n",
    "print('The answer is ' + x31 + '.')"
   ]
  },
  {
   "cell_type": "code",
   "execution_count": null,
   "id": "34a6eb2f",
   "metadata": {
    "deletable": false,
    "editable": false,
    "nbgrader": {
     "cell_type": "code",
     "checksum": "0e7d8d051212f60a378ca49da50717b5",
     "grade": true,
     "grade_id": "task3-1-test",
     "locked": true,
     "points": 1,
     "schema_version": 3,
     "solution": false,
     "task": false
    }
   },
   "outputs": [],
   "source": []
  }
 ],
 "metadata": {
  "kernelspec": {
   "display_name": "Python 3 (ipykernel)",
   "language": "python",
   "name": "python3"
  },
  "language_info": {
   "codemirror_mode": {
    "name": "ipython",
    "version": 3
   },
   "file_extension": ".py",
   "mimetype": "text/x-python",
   "name": "python",
   "nbconvert_exporter": "python",
   "pygments_lexer": "ipython3",
   "version": "3.9.5"
  }
 },
 "nbformat": 4,
 "nbformat_minor": 5
}
