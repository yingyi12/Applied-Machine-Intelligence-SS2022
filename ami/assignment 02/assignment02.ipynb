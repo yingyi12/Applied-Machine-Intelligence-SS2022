{
 "cells": [
  {
   "cell_type": "markdown",
   "id": "7af07df1",
   "metadata": {
    "deletable": false,
    "editable": false,
    "nbgrader": {
     "cell_type": "markdown",
     "checksum": "ba819f16946d6dab864d088526f45fbb",
     "grade": false,
     "grade_id": "intro",
     "locked": true,
     "schema_version": 3,
     "solution": false,
     "task": false
    }
   },
   "source": [
    "# Second assignment\n",
    "The assignment provides problems regarding basic applications of linear algebra and machine learning. Use this Notebook to perform the computations and insert your comments into it. All the coding must be done in Python 3. \n",
    "\n",
    "The assignment has to be submitted individually!\n",
    "\n",
    "All your plots have to be labelled properly!  (Non-labeled plots will result in point deductions!)\n",
    "\n",
    "**Non running cells/tasks will not be considered!**\n",
    "\n",
    "The tasks/questions are 1.1), 1.2), 1.3), 1.4), 2.1), 2.2), 2.3), 2.4), 2.5), 3.1), 3.2), 3.3), 3.4), 3.5), 4.1), 4.2) and 4.3). After each task description there is an answer cell for your code or text. For coding tasks they look like this:\n",
    "\n",
    "```\n",
    "# YOUR CODE HERE\n",
    "```\n",
    "(You can delete the \"YOUR CODE HERE\" comment, if you like.)\n",
    "\n",
    "For markdown (text) cells the response cell will include this:\n",
    "\n",
    "**WRITE YOUR ANSWER HERE**\n",
    "\n",
    "Sometimes they are followed by test cells. You can run the test cells after you finished the task. If these cells don't show any errors, your answer is right. You can't/shouldn't edit test cells!\n",
    "\n",
    "After you finished the notebook you can hit the \"Validate\" button on the top of the notebook to see if all test are good. You can also use the \"Validate\" button on the \"Assignment\" tap on the main page of python.ldv.ei.tum.de. Some tasks will be graded manually (e.g. plots, text answers). They don't have a following test cell. \n",
    "\n",
    "Please make sure to hit the \"Submit\" button on the \"Assignment\" tab on the main page of python.ldv.ei.tum.de before the deadline passes. You will get your final score after the deadline.\n",
    "\n",
    "**Some tips:**\n",
    "- Only change cells with `# YOUR CODE HERE` or **WRITE YOUR ANSWER HERE**\n",
    "- Do not change cell types or the notebook name.\n",
    "- Do not add other .ipynb files into the homework folder.\n",
    "- For every plot makes sure that axes are correctly labeled with original labels and not encoded ones. \n",
    "- If you are asked to provide multiple plots, make sure that the titles are clear. A plot should be self explanatory, we should not have to look at your code to know what is plotted. \n",
    "\n",
    "#### Date of submission: May 17, 2022, 23:55 hrs"
   ]
  },
  {
   "cell_type": "markdown",
   "id": "71a1e246",
   "metadata": {
    "deletable": false,
    "editable": false,
    "nbgrader": {
     "cell_type": "markdown",
     "checksum": "df9249b3aa9040fd7ee721506153b7dd",
     "grade": false,
     "grade_id": "info",
     "locked": true,
     "schema_version": 3,
     "solution": false,
     "task": false
    }
   },
   "source": [
    "**INFO**\n",
    "\n",
    "Please be aware that we are currently using **scikit-learn version 0.24**.\n",
    "\n",
    "For the correct documentation please use this link: https://scikit-learn.org/0.24/"
   ]
  },
  {
   "cell_type": "code",
   "execution_count": 47,
   "id": "36a6d94f",
   "metadata": {
    "deletable": false,
    "editable": false,
    "nbgrader": {
     "cell_type": "code",
     "checksum": "bf2b5ffe77b1d1aa844a88c1591bbad8",
     "grade": false,
     "grade_id": "import",
     "locked": true,
     "schema_version": 3,
     "solution": false,
     "task": false
    }
   },
   "outputs": [],
   "source": [
    "import pandas as pd\n",
    "import numpy as np"
   ]
  },
  {
   "cell_type": "markdown",
   "id": "597e201c",
   "metadata": {
    "deletable": false,
    "editable": false,
    "nbgrader": {
     "cell_type": "markdown",
     "checksum": "08fe2c3b995f4ae472693ece7f2ec8b8",
     "grade": false,
     "grade_id": "dataset-description",
     "locked": true,
     "schema_version": 3,
     "solution": false,
     "task": false
    }
   },
   "source": [
    "#### Tent Dataset\n",
    "In this assignment you will deal with the preprocessing step of converting categorical data into numerical data to build a linear regression model. \n",
    "> _\"Categorical data, otherwise known as nominal, attribute, or discrete data, take on specific values that have no scale. Credit status (“good” or “bad”) or color (“red,”“blue,” etc.) are examples of these data.\"_ \n",
    "\n",
    "M.Kuhn and K. Johnson. Applied Predictive Modeling, Chapter 1, p.6.\n",
    "\n",
    "The task will be to predict the price of a tent, given some numerical and categorical descriptors."
   ]
  },
  {
   "cell_type": "code",
   "execution_count": 48,
   "id": "e0a9b85f",
   "metadata": {
    "deletable": false,
    "editable": false,
    "nbgrader": {
     "cell_type": "code",
     "checksum": "76a8cb2f9326cade4c26272831f1e2fb",
     "grade": false,
     "grade_id": "dataset-loader",
     "locked": true,
     "schema_version": 3,
     "solution": false,
     "task": false
    }
   },
   "outputs": [
    {
     "name": "stdout",
     "output_type": "stream",
     "text": [
      "<class 'pandas.core.frame.DataFrame'>\n",
      "RangeIndex: 90 entries, 0 to 89\n",
      "Data columns (total 7 columns):\n",
      " #   Column    Non-Null Count  Dtype  \n",
      "---  ------    --------------  -----  \n",
      " 0   brand     90 non-null     object \n",
      " 1   price     90 non-null     float64\n",
      " 2   weight    90 non-null     float64\n",
      " 3   height    90 non-null     int64  \n",
      " 4   bestuse   90 non-null     object \n",
      " 5   seasons   90 non-null     object \n",
      " 6   capacity  90 non-null     object \n",
      "dtypes: float64(2), int64(1), object(4)\n",
      "memory usage: 5.0+ KB\n",
      "\n",
      "The dataset contains the following categotical features: ['brand' 'bestuse' 'seasons' 'capacity'].\n"
     ]
    }
   ],
   "source": [
    "url = 'https://raw.githubusercontent.com/ucb-stat133/stat133-fall-2017/master/data/camping-tents.csv'\n",
    "data = pd.read_csv(url)\n",
    "data.drop(columns=['name'], inplace=True)\n",
    "data.info()\n",
    "cat_features = data.dtypes[data.dtypes=='object'].index.values\n",
    "print('\\nThe dataset contains the following categotical features: {}.'.format(cat_features))"
   ]
  },
  {
   "cell_type": "markdown",
   "id": "470a7503",
   "metadata": {
    "deletable": false,
    "editable": false,
    "nbgrader": {
     "cell_type": "markdown",
     "checksum": "1160a5db42c78c756976d9f1f33b9338",
     "grade": false,
     "grade_id": "task-1-1-descriptor",
     "locked": true,
     "schema_version": 3,
     "solution": false,
     "task": false
    }
   },
   "source": [
    "**Task 1.1**\n",
    "\n",
    "Set up a `ColumnTransformer()` object and store it to the variable `oe`. It should hold an `OrdinalEncoder()` as transformer, which should be named `'ordinal'` and should work on the columns in `cat_features`!"
   ]
  },
  {
   "cell_type": "code",
   "execution_count": 49,
   "id": "525305e2",
   "metadata": {
    "deletable": false,
    "nbgrader": {
     "cell_type": "code",
     "checksum": "b3a64d7ca5448cf6ff6cefd7f8729f93",
     "grade": false,
     "grade_id": "task-1-1-solution",
     "locked": false,
     "schema_version": 3,
     "solution": true,
     "task": false
    }
   },
   "outputs": [],
   "source": [
    "from sklearn.compose import ColumnTransformer\n",
    "from sklearn.preprocessing import OrdinalEncoder, OneHotEncoder\n",
    "# YOUR CODE HERE\n",
    "\n",
    "\n",
    "ordinal = OrdinalEncoder()\n",
    "t =  [('ordinal',ordinal,cat_features)]\n",
    "oe = ColumnTransformer(transformers =t ,remainder = 'passthrough')\n"
   ]
  },
  {
   "cell_type": "code",
   "execution_count": null,
   "id": "f7d866d9",
   "metadata": {
    "deletable": false,
    "editable": false,
    "nbgrader": {
     "cell_type": "code",
     "checksum": "b19494c1a7ed86bcd8fa0c73a2e9dc31",
     "grade": true,
     "grade_id": "task-1-1-test",
     "locked": true,
     "points": 1,
     "schema_version": 3,
     "solution": false,
     "task": false
    }
   },
   "outputs": [],
   "source": []
  },
  {
   "cell_type": "markdown",
   "id": "54c34bd7",
   "metadata": {
    "deletable": false,
    "editable": false,
    "nbgrader": {
     "cell_type": "markdown",
     "checksum": "f58c03c516d419894b383779f07e954e",
     "grade": false,
     "grade_id": "task-1-2-descriptor",
     "locked": true,
     "schema_version": 3,
     "solution": false,
     "task": false
    }
   },
   "source": [
    "**Task 1.2**\n",
    "\n",
    "Apply your transformer to the data. Overwrite the original values of the columns containing the categorical features with the encoded values. The new pandas DataFrame `data_oe` should have the same columns and contain also the numerical variables like the initial one. You do not have to maintain the original order of the columns."
   ]
  },
  {
   "cell_type": "code",
   "execution_count": 50,
   "id": "3af0fc92",
   "metadata": {
    "deletable": false,
    "nbgrader": {
     "cell_type": "code",
     "checksum": "5c24b9e50ae9964cee57cd4f8eeb3128",
     "grade": false,
     "grade_id": "task-1-2-solution",
     "locked": false,
     "schema_version": 3,
     "solution": true,
     "task": false
    }
   },
   "outputs": [
    {
     "data": {
      "text/html": [
       "<div>\n",
       "<style scoped>\n",
       "    .dataframe tbody tr th:only-of-type {\n",
       "        vertical-align: middle;\n",
       "    }\n",
       "\n",
       "    .dataframe tbody tr th {\n",
       "        vertical-align: top;\n",
       "    }\n",
       "\n",
       "    .dataframe thead th {\n",
       "        text-align: right;\n",
       "    }\n",
       "</style>\n",
       "<table border=\"1\" class=\"dataframe\">\n",
       "  <thead>\n",
       "    <tr style=\"text-align: right;\">\n",
       "      <th></th>\n",
       "      <th>brand</th>\n",
       "      <th>price</th>\n",
       "      <th>weight</th>\n",
       "      <th>height</th>\n",
       "      <th>bestuse</th>\n",
       "      <th>seasons</th>\n",
       "      <th>capacity</th>\n",
       "    </tr>\n",
       "  </thead>\n",
       "  <tbody>\n",
       "    <tr>\n",
       "      <th>0</th>\n",
       "      <td>0.0</td>\n",
       "      <td>349.95</td>\n",
       "      <td>960.0</td>\n",
       "      <td>96</td>\n",
       "      <td>0.0</td>\n",
       "      <td>1.0</td>\n",
       "      <td>1.0</td>\n",
       "    </tr>\n",
       "    <tr>\n",
       "      <th>1</th>\n",
       "      <td>0.0</td>\n",
       "      <td>449.95</td>\n",
       "      <td>1450.0</td>\n",
       "      <td>107</td>\n",
       "      <td>0.0</td>\n",
       "      <td>1.0</td>\n",
       "      <td>2.0</td>\n",
       "    </tr>\n",
       "    <tr>\n",
       "      <th>2</th>\n",
       "      <td>1.0</td>\n",
       "      <td>159.95</td>\n",
       "      <td>1700.0</td>\n",
       "      <td>102</td>\n",
       "      <td>0.0</td>\n",
       "      <td>1.0</td>\n",
       "      <td>1.0</td>\n",
       "    </tr>\n",
       "    <tr>\n",
       "      <th>3</th>\n",
       "      <td>0.0</td>\n",
       "      <td>359.95</td>\n",
       "      <td>2160.0</td>\n",
       "      <td>107</td>\n",
       "      <td>0.0</td>\n",
       "      <td>1.0</td>\n",
       "      <td>2.0</td>\n",
       "    </tr>\n",
       "    <tr>\n",
       "      <th>4</th>\n",
       "      <td>6.0</td>\n",
       "      <td>149.00</td>\n",
       "      <td>2210.0</td>\n",
       "      <td>107</td>\n",
       "      <td>0.0</td>\n",
       "      <td>1.0</td>\n",
       "      <td>1.0</td>\n",
       "    </tr>\n",
       "  </tbody>\n",
       "</table>\n",
       "</div>"
      ],
      "text/plain": [
       "   brand   price  weight  height  bestuse  seasons  capacity\n",
       "0    0.0  349.95   960.0      96      0.0      1.0       1.0\n",
       "1    0.0  449.95  1450.0     107      0.0      1.0       2.0\n",
       "2    1.0  159.95  1700.0     102      0.0      1.0       1.0\n",
       "3    0.0  359.95  2160.0     107      0.0      1.0       2.0\n",
       "4    6.0  149.00  2210.0     107      0.0      1.0       1.0"
      ]
     },
     "execution_count": 50,
     "metadata": {},
     "output_type": "execute_result"
    }
   ],
   "source": [
    "# YOUR CODE HERE\n",
    "data1= data\n",
    "data1[cat_features] = oe.fit_transform(data[cat_features ])\n",
    "data_oe = data1\n",
    "data_oe.head()\n"
   ]
  },
  {
   "cell_type": "code",
   "execution_count": null,
   "id": "065c1006",
   "metadata": {
    "deletable": false,
    "editable": false,
    "nbgrader": {
     "cell_type": "code",
     "checksum": "129e8efb8fb45ab1bc3017489b0e183e",
     "grade": true,
     "grade_id": "task-1-2-test-1",
     "locked": true,
     "points": 1,
     "schema_version": 3,
     "solution": false,
     "task": false
    }
   },
   "outputs": [],
   "source": []
  },
  {
   "cell_type": "code",
   "execution_count": null,
   "id": "6fd55fca",
   "metadata": {
    "deletable": false,
    "editable": false,
    "nbgrader": {
     "cell_type": "code",
     "checksum": "9883f6260ef11440ded1313807c708e4",
     "grade": true,
     "grade_id": "task-1-2-test-2",
     "locked": true,
     "points": 1,
     "schema_version": 3,
     "solution": false,
     "task": false
    }
   },
   "outputs": [],
   "source": []
  },
  {
   "cell_type": "markdown",
   "id": "9c97a22b",
   "metadata": {
    "deletable": false,
    "editable": false,
    "nbgrader": {
     "cell_type": "markdown",
     "checksum": "ac32112626cbaa5e8e1493ac8d427d7f",
     "grade": false,
     "grade_id": "task-1-3-descriptor",
     "locked": true,
     "schema_version": 3,
     "solution": false,
     "task": false
    }
   },
   "source": [
    "**Task 1.3**\n",
    "\n",
    "Now, split your data into training and test set using the sklearn function `train_test_split()`. The tent price will be the target y. The data split has to be 70/30, i.e. a `test_size=0.3` (30% of the data will be randomly picked for testing). In order to repeat your experiments (also important for us to grade it) apply `random_state=42` as argument to the `train_test_split()` function. \n",
    "\n",
    "Use the following names for the variables: \n",
    "- `X_train_oe`: Training features encoded with the `OrdinalEncoder()`\n",
    "- `X_test_oe`: Test features encoded with the `OrdinalEncoder()`\n",
    "- `y_train_oe`: Training target `price`\n",
    "- `y_test_oe`: Test target `price`"
   ]
  },
  {
   "cell_type": "code",
   "execution_count": 51,
   "id": "246638c2",
   "metadata": {
    "deletable": false,
    "nbgrader": {
     "cell_type": "code",
     "checksum": "72bc8402f23760271b9ae2d5d3f60497",
     "grade": false,
     "grade_id": "task-1-3-solution",
     "locked": false,
     "schema_version": 3,
     "solution": true,
     "task": false
    }
   },
   "outputs": [],
   "source": [
    "from sklearn.model_selection import train_test_split\n",
    "# YOUR CODE HERE\n",
    "X_column = data_oe.columns != 'price'\n",
    "X = data_oe.loc[:,X_column]\n",
    "y_column = data_oe.columns == 'price'\n",
    "y = data_oe.loc[:,y_column]\n",
    "\n",
    "X_train_oe,X_test_oe, y_train_oe, y_test_oe = train_test_split(X,y, test_size=0.3,random_state=42,shuffle=True)\n",
    "\n"
   ]
  },
  {
   "cell_type": "code",
   "execution_count": null,
   "id": "f9079afc",
   "metadata": {
    "deletable": false,
    "editable": false,
    "nbgrader": {
     "cell_type": "code",
     "checksum": "5c1491056eba9e19d76df57fbc69a17f",
     "grade": true,
     "grade_id": "task-1-3-test-1",
     "locked": true,
     "points": 1,
     "schema_version": 3,
     "solution": false,
     "task": false
    }
   },
   "outputs": [],
   "source": []
  },
  {
   "cell_type": "code",
   "execution_count": null,
   "id": "3e066b90",
   "metadata": {
    "deletable": false,
    "editable": false,
    "nbgrader": {
     "cell_type": "code",
     "checksum": "3d63bb8ef75112ad50e3e98e6beb1e42",
     "grade": true,
     "grade_id": "task-1-3-test-2",
     "locked": true,
     "points": 1,
     "schema_version": 3,
     "solution": false,
     "task": false
    }
   },
   "outputs": [],
   "source": []
  },
  {
   "cell_type": "markdown",
   "id": "5da68dca",
   "metadata": {
    "deletable": false,
    "editable": false,
    "nbgrader": {
     "cell_type": "markdown",
     "checksum": "ed24ad27029a18b2aff10e4046a3d8b9",
     "grade": false,
     "grade_id": "task-1-4-descriptor",
     "locked": true,
     "schema_version": 3,
     "solution": false,
     "task": false
    }
   },
   "source": [
    "**Task 1.4**\n",
    "\n",
    "Fit a `LinearRegression()` estimator with `X_train_oe` and `y_train_oe` and store it to the variable `lr_oe`. Check the performance measures printed below."
   ]
  },
  {
   "cell_type": "code",
   "execution_count": 52,
   "id": "eec91496",
   "metadata": {
    "deletable": false,
    "nbgrader": {
     "cell_type": "code",
     "checksum": "7cddc61ff109775afa162bdc82f3711a",
     "grade": false,
     "grade_id": "task-1-4-solution",
     "locked": false,
     "schema_version": 3,
     "solution": true,
     "task": false
    }
   },
   "outputs": [
    {
     "name": "stdout",
     "output_type": "stream",
     "text": [
      "RMSE (test) with ordinal encoded features: 108.60$.\n",
      "R^2 (test) with ordinal encoded features: 0.080\n",
      "\n",
      "coef: [[-2.49241864e+00  1.34344654e-02  1.66752801e-01 -2.53750130e+01\n",
      "   1.19011129e+02  1.00105909e+01]] \n",
      "intercept: [159.5503918]\n"
     ]
    }
   ],
   "source": [
    "# YOUR CODE HERE\n",
    "from sklearn.linear_model import LinearRegression\n",
    "from sklearn.metrics import mean_squared_error\n",
    "lr_oe = LinearRegression().fit(X_train_oe,y_train_oe)\n",
    "rmse_oe = np.sqrt(mean_squared_error(y_test_oe,lr_oe.predict(X_test_oe)))\n",
    "r2_oe = lr_oe.score(X_test_oe,y_test_oe)\n",
    "print('RMSE (test) with ordinal encoded features: {:.2f}$.'.format(rmse_oe))\n",
    "print('R^2 (test) with ordinal encoded features: {:.3f}'.format(r2_oe))\n",
    "print('\\ncoef:', lr_oe.coef_,'\\nintercept:',lr_oe.intercept_)"
   ]
  },
  {
   "cell_type": "code",
   "execution_count": null,
   "id": "9d38d0a4",
   "metadata": {
    "deletable": false,
    "editable": false,
    "nbgrader": {
     "cell_type": "code",
     "checksum": "c605e86ace3b162d5c07622340cb9380",
     "grade": true,
     "grade_id": "task-1-4-test",
     "locked": true,
     "points": 1,
     "schema_version": 3,
     "solution": false,
     "task": false
    }
   },
   "outputs": [],
   "source": []
  },
  {
   "cell_type": "markdown",
   "id": "e42ffa86",
   "metadata": {
    "deletable": false,
    "editable": false,
    "nbgrader": {
     "cell_type": "markdown",
     "checksum": "f4763a0d7817f9d07637244abc1e5bb9",
     "grade": false,
     "grade_id": "task-2-1-descriptor",
     "locked": true,
     "schema_version": 3,
     "solution": false,
     "task": false
    }
   },
   "source": [
    "**Task 2.1**\n",
    "\n",
    "Let us now repeat the whole process using a different encoding strategy.\n",
    "Set up a `ColumnTransformer()` object and store it to the variable `oh`. It should hold a `OneHotEncoder()` as transformer, which should be named `'one-hot'` and should work on the columns in `cat_features`! For easier (though less efficient) further processing set the agrument `sparse=False`."
   ]
  },
  {
   "cell_type": "code",
   "execution_count": 53,
   "id": "b8a42a90",
   "metadata": {
    "deletable": false,
    "nbgrader": {
     "cell_type": "code",
     "checksum": "d60616dba2f94860603ac6dd66889799",
     "grade": false,
     "grade_id": "task-2-1-solution",
     "locked": false,
     "schema_version": 3,
     "solution": true,
     "task": false
    }
   },
   "outputs": [],
   "source": [
    "# YOUR CODE HERE\n",
    "\n",
    "from sklearn.preprocessing import OneHotEncoder\n",
    "one_hot = OneHotEncoder(sparse=False)\n",
    "t= [('one-hot',one_hot,cat_features)]\n",
    "oh = ColumnTransformer(transformers =t,remainder = 'passthrough')"
   ]
  },
  {
   "cell_type": "code",
   "execution_count": null,
   "id": "31da5ff0",
   "metadata": {
    "deletable": false,
    "editable": false,
    "nbgrader": {
     "cell_type": "code",
     "checksum": "04f87948a561ecef88b33c2c323d0424",
     "grade": true,
     "grade_id": "task-2-1-test",
     "locked": true,
     "points": 1,
     "schema_version": 3,
     "solution": false,
     "task": false
    }
   },
   "outputs": [],
   "source": []
  },
  {
   "cell_type": "markdown",
   "id": "8eb9121f",
   "metadata": {
    "deletable": false,
    "editable": false,
    "nbgrader": {
     "cell_type": "markdown",
     "checksum": "0a045e8a074e1bb9736106e88dfe76af",
     "grade": false,
     "grade_id": "task-2-2-descriptor",
     "locked": true,
     "schema_version": 3,
     "solution": false,
     "task": false
    }
   },
   "source": [
    "**Task 2.2**\n",
    "\n",
    "\n",
    "Apply your transformer to the data. Drop the original columns containing the categorical features and append the new columns with your one-hot encoded features. The new pandas DataFrame `data_oh` will now have some new columns and contain also the numerical variables like the initial one."
   ]
  },
  {
   "cell_type": "code",
   "execution_count": 54,
   "id": "e784904c",
   "metadata": {
    "deletable": false,
    "nbgrader": {
     "cell_type": "code",
     "checksum": "a74aff44b46ce9f63751833af10f1325",
     "grade": false,
     "grade_id": "task-2-2-solution",
     "locked": false,
     "schema_version": 3,
     "solution": true,
     "task": false
    }
   },
   "outputs": [
    {
     "data": {
      "text/html": [
       "<div>\n",
       "<style scoped>\n",
       "    .dataframe tbody tr th:only-of-type {\n",
       "        vertical-align: middle;\n",
       "    }\n",
       "\n",
       "    .dataframe tbody tr th {\n",
       "        vertical-align: top;\n",
       "    }\n",
       "\n",
       "    .dataframe thead th {\n",
       "        text-align: right;\n",
       "    }\n",
       "</style>\n",
       "<table border=\"1\" class=\"dataframe\">\n",
       "  <thead>\n",
       "    <tr style=\"text-align: right;\">\n",
       "      <th></th>\n",
       "      <th>0</th>\n",
       "      <th>1</th>\n",
       "      <th>2</th>\n",
       "      <th>3</th>\n",
       "      <th>4</th>\n",
       "      <th>5</th>\n",
       "      <th>6</th>\n",
       "      <th>7</th>\n",
       "      <th>8</th>\n",
       "      <th>9</th>\n",
       "      <th>...</th>\n",
       "      <th>12</th>\n",
       "      <th>13</th>\n",
       "      <th>14</th>\n",
       "      <th>15</th>\n",
       "      <th>16</th>\n",
       "      <th>17</th>\n",
       "      <th>18</th>\n",
       "      <th>19</th>\n",
       "      <th>20</th>\n",
       "      <th>21</th>\n",
       "    </tr>\n",
       "  </thead>\n",
       "  <tbody>\n",
       "    <tr>\n",
       "      <th>0</th>\n",
       "      <td>1.0</td>\n",
       "      <td>0.0</td>\n",
       "      <td>0.0</td>\n",
       "      <td>0.0</td>\n",
       "      <td>0.0</td>\n",
       "      <td>0.0</td>\n",
       "      <td>0.0</td>\n",
       "      <td>0.0</td>\n",
       "      <td>1.0</td>\n",
       "      <td>0.0</td>\n",
       "      <td>...</td>\n",
       "      <td>1.0</td>\n",
       "      <td>0.0</td>\n",
       "      <td>0.0</td>\n",
       "      <td>1.0</td>\n",
       "      <td>0.0</td>\n",
       "      <td>0.0</td>\n",
       "      <td>0.0</td>\n",
       "      <td>349.95</td>\n",
       "      <td>960.0</td>\n",
       "      <td>96.0</td>\n",
       "    </tr>\n",
       "    <tr>\n",
       "      <th>1</th>\n",
       "      <td>1.0</td>\n",
       "      <td>0.0</td>\n",
       "      <td>0.0</td>\n",
       "      <td>0.0</td>\n",
       "      <td>0.0</td>\n",
       "      <td>0.0</td>\n",
       "      <td>0.0</td>\n",
       "      <td>0.0</td>\n",
       "      <td>1.0</td>\n",
       "      <td>0.0</td>\n",
       "      <td>...</td>\n",
       "      <td>1.0</td>\n",
       "      <td>0.0</td>\n",
       "      <td>0.0</td>\n",
       "      <td>0.0</td>\n",
       "      <td>1.0</td>\n",
       "      <td>0.0</td>\n",
       "      <td>0.0</td>\n",
       "      <td>449.95</td>\n",
       "      <td>1450.0</td>\n",
       "      <td>107.0</td>\n",
       "    </tr>\n",
       "    <tr>\n",
       "      <th>2</th>\n",
       "      <td>0.0</td>\n",
       "      <td>1.0</td>\n",
       "      <td>0.0</td>\n",
       "      <td>0.0</td>\n",
       "      <td>0.0</td>\n",
       "      <td>0.0</td>\n",
       "      <td>0.0</td>\n",
       "      <td>0.0</td>\n",
       "      <td>1.0</td>\n",
       "      <td>0.0</td>\n",
       "      <td>...</td>\n",
       "      <td>1.0</td>\n",
       "      <td>0.0</td>\n",
       "      <td>0.0</td>\n",
       "      <td>1.0</td>\n",
       "      <td>0.0</td>\n",
       "      <td>0.0</td>\n",
       "      <td>0.0</td>\n",
       "      <td>159.95</td>\n",
       "      <td>1700.0</td>\n",
       "      <td>102.0</td>\n",
       "    </tr>\n",
       "    <tr>\n",
       "      <th>3</th>\n",
       "      <td>1.0</td>\n",
       "      <td>0.0</td>\n",
       "      <td>0.0</td>\n",
       "      <td>0.0</td>\n",
       "      <td>0.0</td>\n",
       "      <td>0.0</td>\n",
       "      <td>0.0</td>\n",
       "      <td>0.0</td>\n",
       "      <td>1.0</td>\n",
       "      <td>0.0</td>\n",
       "      <td>...</td>\n",
       "      <td>1.0</td>\n",
       "      <td>0.0</td>\n",
       "      <td>0.0</td>\n",
       "      <td>0.0</td>\n",
       "      <td>1.0</td>\n",
       "      <td>0.0</td>\n",
       "      <td>0.0</td>\n",
       "      <td>359.95</td>\n",
       "      <td>2160.0</td>\n",
       "      <td>107.0</td>\n",
       "    </tr>\n",
       "    <tr>\n",
       "      <th>4</th>\n",
       "      <td>0.0</td>\n",
       "      <td>0.0</td>\n",
       "      <td>0.0</td>\n",
       "      <td>0.0</td>\n",
       "      <td>0.0</td>\n",
       "      <td>0.0</td>\n",
       "      <td>1.0</td>\n",
       "      <td>0.0</td>\n",
       "      <td>1.0</td>\n",
       "      <td>0.0</td>\n",
       "      <td>...</td>\n",
       "      <td>1.0</td>\n",
       "      <td>0.0</td>\n",
       "      <td>0.0</td>\n",
       "      <td>1.0</td>\n",
       "      <td>0.0</td>\n",
       "      <td>0.0</td>\n",
       "      <td>0.0</td>\n",
       "      <td>149.00</td>\n",
       "      <td>2210.0</td>\n",
       "      <td>107.0</td>\n",
       "    </tr>\n",
       "  </tbody>\n",
       "</table>\n",
       "<p>5 rows × 22 columns</p>\n",
       "</div>"
      ],
      "text/plain": [
       "    0    1    2    3    4    5    6    7    8    9   ...   12   13   14   15  \\\n",
       "0  1.0  0.0  0.0  0.0  0.0  0.0  0.0  0.0  1.0  0.0  ...  1.0  0.0  0.0  1.0   \n",
       "1  1.0  0.0  0.0  0.0  0.0  0.0  0.0  0.0  1.0  0.0  ...  1.0  0.0  0.0  0.0   \n",
       "2  0.0  1.0  0.0  0.0  0.0  0.0  0.0  0.0  1.0  0.0  ...  1.0  0.0  0.0  1.0   \n",
       "3  1.0  0.0  0.0  0.0  0.0  0.0  0.0  0.0  1.0  0.0  ...  1.0  0.0  0.0  0.0   \n",
       "4  0.0  0.0  0.0  0.0  0.0  0.0  1.0  0.0  1.0  0.0  ...  1.0  0.0  0.0  1.0   \n",
       "\n",
       "    16   17   18      19      20     21  \n",
       "0  0.0  0.0  0.0  349.95   960.0   96.0  \n",
       "1  1.0  0.0  0.0  449.95  1450.0  107.0  \n",
       "2  0.0  0.0  0.0  159.95  1700.0  102.0  \n",
       "3  1.0  0.0  0.0  359.95  2160.0  107.0  \n",
       "4  0.0  0.0  0.0  149.00  2210.0  107.0  \n",
       "\n",
       "[5 rows x 22 columns]"
      ]
     },
     "execution_count": 54,
     "metadata": {},
     "output_type": "execute_result"
    }
   ],
   "source": [
    "# YOUR CODE HERE\n",
    "data = pd.DataFrame(oh.fit_transform(data))\n",
    "data_oh = data\n",
    "data_oh.head()\n",
    "\n"
   ]
  },
  {
   "cell_type": "code",
   "execution_count": null,
   "id": "91fe1007",
   "metadata": {
    "deletable": false,
    "editable": false,
    "nbgrader": {
     "cell_type": "code",
     "checksum": "ae1783a8282068e402a8440d418c4171",
     "grade": true,
     "grade_id": "task-2-2-test-1",
     "locked": true,
     "points": 1,
     "schema_version": 3,
     "solution": false,
     "task": false
    }
   },
   "outputs": [],
   "source": []
  },
  {
   "cell_type": "code",
   "execution_count": null,
   "id": "3a2e53ad",
   "metadata": {
    "deletable": false,
    "editable": false,
    "nbgrader": {
     "cell_type": "code",
     "checksum": "69e2cc0e3325cb562b3cf6a9bf04af8f",
     "grade": true,
     "grade_id": "task-2-2-test-2",
     "locked": true,
     "points": 1,
     "schema_version": 3,
     "solution": false,
     "task": false
    }
   },
   "outputs": [],
   "source": []
  },
  {
   "cell_type": "markdown",
   "id": "b61fc4e6",
   "metadata": {
    "deletable": false,
    "editable": false,
    "nbgrader": {
     "cell_type": "markdown",
     "checksum": "447438126e4663047cdda591a543499d",
     "grade": false,
     "grade_id": "task-2-3-descriptor",
     "locked": true,
     "schema_version": 3,
     "solution": false,
     "task": false
    }
   },
   "source": [
    "**Task 2.3**\n",
    "\n",
    "Once again, split your data into training and test set using the sklearn function `train_test_split()`. The tent price will be the target y. The data split has to be 70/30, i.e. a `test_size` of 0.3 (30% of the data will be randomly picked for testing). In order to repeat your experiments (also important for us to grade it) apply `random_state=42` as argument to the `train_test_split()` function. \n",
    "\n",
    "Use the following names for the variables: \n",
    "- `X_train_oh`: Training features encoded with the `OneHotEncoder()`\n",
    "- `X_test_oh`: Test features encoded with the`OneHotEncoder()`\n",
    "- `y_train_oh`: Training target `price`\n",
    "- `y_test_oh`: Test target `price`"
   ]
  },
  {
   "cell_type": "code",
   "execution_count": 55,
   "id": "9599335d",
   "metadata": {
    "deletable": false,
    "nbgrader": {
     "cell_type": "code",
     "checksum": "f31c9368cf12ef29e770c58fcc621b1a",
     "grade": false,
     "grade_id": "task-2-3-solution",
     "locked": false,
     "schema_version": 3,
     "solution": true,
     "task": false
    }
   },
   "outputs": [],
   "source": [
    "\n",
    "from sklearn.model_selection import train_test_split\n",
    "# YOUR CODE HERE\n",
    "X_column = data_oh.columns !=19\n",
    "X = data_oh.loc[:,X_column]\n",
    "y_column = data_oh.columns ==19\n",
    "y = data_oh.loc[:,y_column]\n",
    "X_train_oh,X_test_oh, y_train_oh, y_test_oh = train_test_split(X,y, test_size=0.3,random_state=42,shuffle=True)"
   ]
  },
  {
   "cell_type": "code",
   "execution_count": null,
   "id": "0c841742",
   "metadata": {
    "deletable": false,
    "editable": false,
    "nbgrader": {
     "cell_type": "code",
     "checksum": "ccd3187710aa65063bb6f39238bf33f8",
     "grade": true,
     "grade_id": "task-2-3-test-1",
     "locked": true,
     "points": 1,
     "schema_version": 3,
     "solution": false,
     "task": false
    }
   },
   "outputs": [],
   "source": []
  },
  {
   "cell_type": "code",
   "execution_count": null,
   "id": "b0927920",
   "metadata": {
    "deletable": false,
    "editable": false,
    "nbgrader": {
     "cell_type": "code",
     "checksum": "83f390c5e9b0a7caf97a6bc3d3c0cd81",
     "grade": true,
     "grade_id": "task-2-3-test-2",
     "locked": true,
     "points": 1,
     "schema_version": 3,
     "solution": false,
     "task": false
    }
   },
   "outputs": [],
   "source": []
  },
  {
   "cell_type": "markdown",
   "id": "71b2bcc4",
   "metadata": {
    "deletable": false,
    "editable": false,
    "nbgrader": {
     "cell_type": "markdown",
     "checksum": "3680f84025b2379030e1ad348616b4d3",
     "grade": false,
     "grade_id": "task-2-4-descriptor",
     "locked": true,
     "schema_version": 3,
     "solution": false,
     "task": false
    }
   },
   "source": [
    "**Task 2.4**\n",
    "\n",
    "Fit a `LinearRegression()` estimator with the training data `X_train_oh` and `y_train_oh` and store it to the variable `lr_oh`. Watch the performance measures printed below."
   ]
  },
  {
   "cell_type": "code",
   "execution_count": 56,
   "id": "c1d18c90",
   "metadata": {
    "deletable": false,
    "nbgrader": {
     "cell_type": "code",
     "checksum": "b706411d66bbd3785929520cd45f0808",
     "grade": false,
     "grade_id": "task-2-4-solution",
     "locked": false,
     "schema_version": 3,
     "solution": true,
     "task": false
    }
   },
   "outputs": [
    {
     "name": "stdout",
     "output_type": "stream",
     "text": [
      "RMSE (test) with one-hot encoded features: 88.11$.\n",
      "R^2 (test) with one-hot encoded features: 0.394\n",
      "\n",
      "coef: [[ 3.35755388e+01 -1.02645143e+02  2.46897823e+01  1.21840809e+02\n",
      "   8.63434548e+01  3.74741272e+01 -7.99718307e+01 -1.21306739e+02\n",
      "   7.39737032e+01 -1.80211342e+02  1.06237639e+02  3.23401503e+01\n",
      "  -6.57134435e+01  3.33732932e+01 -5.45994353e+01 -5.28747309e+01\n",
      "  -1.59507449e+01  8.19061749e+01  4.15187363e+01  3.45552208e-02\n",
      "   1.45187403e+00]] \n",
      "intercept: [101.58234017]\n"
     ]
    }
   ],
   "source": [
    "# YOUR CODE HERE\n",
    "lr_oh = LinearRegression().fit(X_train_oh, y_train_oh)\n",
    "rmse_oh = np.sqrt(mean_squared_error(y_test_oh,lr_oh.predict(X_test_oh)))\n",
    "r2_oh = lr_oh.score(X_test_oh,y_test_oh)\n",
    "print('RMSE (test) with one-hot encoded features: {:.2f}$.'.format(rmse_oh))\n",
    "print('R^2 (test) with one-hot encoded features: {:.3f}'.format(r2_oh))\n",
    "print('\\ncoef:', lr_oh.coef_,'\\nintercept:',lr_oh.intercept_)"
   ]
  },
  {
   "cell_type": "code",
   "execution_count": null,
   "id": "b73818e4",
   "metadata": {
    "deletable": false,
    "editable": false,
    "nbgrader": {
     "cell_type": "code",
     "checksum": "94eb3c0ed1eb94135b73418f5ba7b138",
     "grade": true,
     "grade_id": "task-2-4-test",
     "locked": true,
     "points": 1,
     "schema_version": 3,
     "solution": false,
     "task": false
    }
   },
   "outputs": [],
   "source": []
  },
  {
   "cell_type": "markdown",
   "id": "d0d22b4f",
   "metadata": {
    "deletable": false,
    "editable": false,
    "nbgrader": {
     "cell_type": "markdown",
     "checksum": "604a8e38a0412875cbf97fca10d83db0",
     "grade": false,
     "grade_id": "task-2-5-descriptor",
     "locked": true,
     "schema_version": 3,
     "solution": false,
     "task": false
    }
   },
   "source": [
    "**Task 2.5**\n",
    "\n",
    "\n",
    "Which of the following statements is true?\n",
    "\n",
    "'a': It can be proven that one-hot encoding is superior to ordinal encoding.\n",
    "\n",
    "'b': Ordinal encoding implies an natural order of the data which might not be true for all categorical variables.\n",
    "\n",
    "'c': One-hot coding with values of {-1,1} generally leads to a centered variable (i.e. zero mean).\n",
    "\n",
    "'d': For regression problems, one-hot encoding could also be applied to the target value.\n",
    "\n",
    "*Use a variable* `x25` *and assign your answer of the question (if 'e' would be the correct answer your code should look like this:* `x25='e'`*. There is only one correct answer.* "
   ]
  },
  {
   "cell_type": "code",
   "execution_count": 57,
   "id": "57341cc8",
   "metadata": {
    "deletable": false,
    "nbgrader": {
     "cell_type": "code",
     "checksum": "831a690a79e20b825fedeffbd20af7b3",
     "grade": false,
     "grade_id": "task-2-5-solution",
     "locked": false,
     "schema_version": 3,
     "solution": true,
     "task": false
    }
   },
   "outputs": [
    {
     "name": "stdout",
     "output_type": "stream",
     "text": [
      "The answer is b.\n"
     ]
    }
   ],
   "source": [
    "# YOUR CODE HERE\n",
    "x25='b'\n",
    "print('The answer is ' + x25 + '.')"
   ]
  },
  {
   "cell_type": "code",
   "execution_count": null,
   "id": "17142270",
   "metadata": {
    "deletable": false,
    "editable": false,
    "nbgrader": {
     "cell_type": "code",
     "checksum": "9e9f43a89f3016dbb5a37bd552e85820",
     "grade": true,
     "grade_id": "task-2-5-test",
     "locked": true,
     "points": 1,
     "schema_version": 3,
     "solution": false,
     "task": false
    }
   },
   "outputs": [],
   "source": []
  },
  {
   "cell_type": "markdown",
   "id": "2cbfbbc7",
   "metadata": {
    "deletable": false,
    "editable": false,
    "nbgrader": {
     "cell_type": "markdown",
     "checksum": "93384698316823d76ec81d7a4916c89b",
     "grade": false,
     "grade_id": "task-3-1-descriptor",
     "locked": true,
     "schema_version": 3,
     "solution": false,
     "task": false
    }
   },
   "source": [
    "**Task 3.1**\n",
    "\n",
    "Now that you've used both encoding methods, it's time to throw them in the shaker and mix them properly. Try to improve your model by encoding some of the categorical variables ordinally and some one-hot. Define 3 lists of strings, namely `oe_features` containing the names of ordinal encoded features, `oh_features` with one-hot coded features and the numerical variables `cont_features`."
   ]
  },
  {
   "cell_type": "code",
   "execution_count": 58,
   "id": "61afb963",
   "metadata": {
    "deletable": false,
    "nbgrader": {
     "cell_type": "code",
     "checksum": "afa856afb81bf4d3fb2696455a6b07f1",
     "grade": false,
     "grade_id": "task-3-1-solution",
     "locked": false,
     "schema_version": 3,
     "solution": true,
     "task": false
    }
   },
   "outputs": [
    {
     "name": "stdout",
     "output_type": "stream",
     "text": [
      "One-hot-encoded features: ['seasons', 'brand', 'bestuse']\n",
      "Ordinal-encoded features: ['capacity']\n",
      "Numerical features: ['price', 'weight', 'height']\n"
     ]
    }
   ],
   "source": [
    "# YOUR CODE HERE\n",
    "oe_features = ['capacity']\n",
    "oh_features = ['seasons','brand','bestuse']\n",
    "cont_features = ['price','weight','height']\n",
    "\n",
    "\n",
    "print(f\"One-hot-encoded features: {oh_features}\")\n",
    "print(f\"Ordinal-encoded features: {oe_features}\")\n",
    "print(f\"Numerical features: {cont_features}\")"
   ]
  },
  {
   "cell_type": "code",
   "execution_count": null,
   "id": "75b6bc6a",
   "metadata": {
    "deletable": false,
    "editable": false,
    "nbgrader": {
     "cell_type": "code",
     "checksum": "414ad15e4e65449fb7b7c2d5d4a1020a",
     "grade": true,
     "grade_id": "task-3-1-test",
     "locked": true,
     "points": 1,
     "schema_version": 3,
     "solution": false,
     "task": false
    }
   },
   "outputs": [],
   "source": []
  },
  {
   "cell_type": "markdown",
   "id": "0101c0bc",
   "metadata": {
    "deletable": false,
    "editable": false,
    "nbgrader": {
     "cell_type": "markdown",
     "checksum": "40fe604935ee8ff2cb8fce1533b54c10",
     "grade": false,
     "grade_id": "task-3-2-descriptor",
     "locked": true,
     "schema_version": 3,
     "solution": false,
     "task": false
    }
   },
   "source": [
    "**Task 3.2**\n",
    "\n",
    "Set up a `ColumnTransformer()` object and store it to the variable `mx`. It should hold an `OrdinalEncoder()`named `'ordinal'` working in the `oe_features` and an `OneHotEncoder()` as transformer, which should be named `'one-hot'`. and should work on the columns in `oe_features`! For easier (though less efficient) further processing set the agrument `sparse=False` for the one-hot coder."
   ]
  },
  {
   "cell_type": "code",
   "execution_count": 59,
   "id": "31f50a09",
   "metadata": {},
   "outputs": [
    {
     "data": {
      "text/html": [
       "<div>\n",
       "<style scoped>\n",
       "    .dataframe tbody tr th:only-of-type {\n",
       "        vertical-align: middle;\n",
       "    }\n",
       "\n",
       "    .dataframe tbody tr th {\n",
       "        vertical-align: top;\n",
       "    }\n",
       "\n",
       "    .dataframe thead th {\n",
       "        text-align: right;\n",
       "    }\n",
       "</style>\n",
       "<table border=\"1\" class=\"dataframe\">\n",
       "  <thead>\n",
       "    <tr style=\"text-align: right;\">\n",
       "      <th></th>\n",
       "      <th>0</th>\n",
       "      <th>1</th>\n",
       "      <th>2</th>\n",
       "      <th>3</th>\n",
       "      <th>4</th>\n",
       "      <th>5</th>\n",
       "      <th>6</th>\n",
       "      <th>7</th>\n",
       "      <th>8</th>\n",
       "      <th>9</th>\n",
       "      <th>...</th>\n",
       "      <th>12</th>\n",
       "      <th>13</th>\n",
       "      <th>14</th>\n",
       "      <th>15</th>\n",
       "      <th>16</th>\n",
       "      <th>17</th>\n",
       "      <th>18</th>\n",
       "      <th>19</th>\n",
       "      <th>20</th>\n",
       "      <th>21</th>\n",
       "    </tr>\n",
       "  </thead>\n",
       "  <tbody>\n",
       "    <tr>\n",
       "      <th>0</th>\n",
       "      <td>1.0</td>\n",
       "      <td>0.0</td>\n",
       "      <td>0.0</td>\n",
       "      <td>0.0</td>\n",
       "      <td>0.0</td>\n",
       "      <td>0.0</td>\n",
       "      <td>0.0</td>\n",
       "      <td>0.0</td>\n",
       "      <td>1.0</td>\n",
       "      <td>0.0</td>\n",
       "      <td>...</td>\n",
       "      <td>1.0</td>\n",
       "      <td>0.0</td>\n",
       "      <td>0.0</td>\n",
       "      <td>1.0</td>\n",
       "      <td>0.0</td>\n",
       "      <td>0.0</td>\n",
       "      <td>0.0</td>\n",
       "      <td>349.95</td>\n",
       "      <td>960.0</td>\n",
       "      <td>96.0</td>\n",
       "    </tr>\n",
       "    <tr>\n",
       "      <th>1</th>\n",
       "      <td>1.0</td>\n",
       "      <td>0.0</td>\n",
       "      <td>0.0</td>\n",
       "      <td>0.0</td>\n",
       "      <td>0.0</td>\n",
       "      <td>0.0</td>\n",
       "      <td>0.0</td>\n",
       "      <td>0.0</td>\n",
       "      <td>1.0</td>\n",
       "      <td>0.0</td>\n",
       "      <td>...</td>\n",
       "      <td>1.0</td>\n",
       "      <td>0.0</td>\n",
       "      <td>0.0</td>\n",
       "      <td>0.0</td>\n",
       "      <td>1.0</td>\n",
       "      <td>0.0</td>\n",
       "      <td>0.0</td>\n",
       "      <td>449.95</td>\n",
       "      <td>1450.0</td>\n",
       "      <td>107.0</td>\n",
       "    </tr>\n",
       "    <tr>\n",
       "      <th>2</th>\n",
       "      <td>0.0</td>\n",
       "      <td>1.0</td>\n",
       "      <td>0.0</td>\n",
       "      <td>0.0</td>\n",
       "      <td>0.0</td>\n",
       "      <td>0.0</td>\n",
       "      <td>0.0</td>\n",
       "      <td>0.0</td>\n",
       "      <td>1.0</td>\n",
       "      <td>0.0</td>\n",
       "      <td>...</td>\n",
       "      <td>1.0</td>\n",
       "      <td>0.0</td>\n",
       "      <td>0.0</td>\n",
       "      <td>1.0</td>\n",
       "      <td>0.0</td>\n",
       "      <td>0.0</td>\n",
       "      <td>0.0</td>\n",
       "      <td>159.95</td>\n",
       "      <td>1700.0</td>\n",
       "      <td>102.0</td>\n",
       "    </tr>\n",
       "    <tr>\n",
       "      <th>3</th>\n",
       "      <td>1.0</td>\n",
       "      <td>0.0</td>\n",
       "      <td>0.0</td>\n",
       "      <td>0.0</td>\n",
       "      <td>0.0</td>\n",
       "      <td>0.0</td>\n",
       "      <td>0.0</td>\n",
       "      <td>0.0</td>\n",
       "      <td>1.0</td>\n",
       "      <td>0.0</td>\n",
       "      <td>...</td>\n",
       "      <td>1.0</td>\n",
       "      <td>0.0</td>\n",
       "      <td>0.0</td>\n",
       "      <td>0.0</td>\n",
       "      <td>1.0</td>\n",
       "      <td>0.0</td>\n",
       "      <td>0.0</td>\n",
       "      <td>359.95</td>\n",
       "      <td>2160.0</td>\n",
       "      <td>107.0</td>\n",
       "    </tr>\n",
       "    <tr>\n",
       "      <th>4</th>\n",
       "      <td>0.0</td>\n",
       "      <td>0.0</td>\n",
       "      <td>0.0</td>\n",
       "      <td>0.0</td>\n",
       "      <td>0.0</td>\n",
       "      <td>0.0</td>\n",
       "      <td>1.0</td>\n",
       "      <td>0.0</td>\n",
       "      <td>1.0</td>\n",
       "      <td>0.0</td>\n",
       "      <td>...</td>\n",
       "      <td>1.0</td>\n",
       "      <td>0.0</td>\n",
       "      <td>0.0</td>\n",
       "      <td>1.0</td>\n",
       "      <td>0.0</td>\n",
       "      <td>0.0</td>\n",
       "      <td>0.0</td>\n",
       "      <td>149.00</td>\n",
       "      <td>2210.0</td>\n",
       "      <td>107.0</td>\n",
       "    </tr>\n",
       "    <tr>\n",
       "      <th>...</th>\n",
       "      <td>...</td>\n",
       "      <td>...</td>\n",
       "      <td>...</td>\n",
       "      <td>...</td>\n",
       "      <td>...</td>\n",
       "      <td>...</td>\n",
       "      <td>...</td>\n",
       "      <td>...</td>\n",
       "      <td>...</td>\n",
       "      <td>...</td>\n",
       "      <td>...</td>\n",
       "      <td>...</td>\n",
       "      <td>...</td>\n",
       "      <td>...</td>\n",
       "      <td>...</td>\n",
       "      <td>...</td>\n",
       "      <td>...</td>\n",
       "      <td>...</td>\n",
       "      <td>...</td>\n",
       "      <td>...</td>\n",
       "      <td>...</td>\n",
       "    </tr>\n",
       "    <tr>\n",
       "      <th>85</th>\n",
       "      <td>0.0</td>\n",
       "      <td>1.0</td>\n",
       "      <td>0.0</td>\n",
       "      <td>0.0</td>\n",
       "      <td>0.0</td>\n",
       "      <td>0.0</td>\n",
       "      <td>0.0</td>\n",
       "      <td>0.0</td>\n",
       "      <td>0.0</td>\n",
       "      <td>1.0</td>\n",
       "      <td>...</td>\n",
       "      <td>1.0</td>\n",
       "      <td>0.0</td>\n",
       "      <td>0.0</td>\n",
       "      <td>0.0</td>\n",
       "      <td>0.0</td>\n",
       "      <td>1.0</td>\n",
       "      <td>0.0</td>\n",
       "      <td>199.95</td>\n",
       "      <td>4734.4</td>\n",
       "      <td>150.0</td>\n",
       "    </tr>\n",
       "    <tr>\n",
       "      <th>86</th>\n",
       "      <td>0.0</td>\n",
       "      <td>1.0</td>\n",
       "      <td>0.0</td>\n",
       "      <td>0.0</td>\n",
       "      <td>0.0</td>\n",
       "      <td>0.0</td>\n",
       "      <td>0.0</td>\n",
       "      <td>0.0</td>\n",
       "      <td>0.0</td>\n",
       "      <td>1.0</td>\n",
       "      <td>...</td>\n",
       "      <td>1.0</td>\n",
       "      <td>0.0</td>\n",
       "      <td>0.0</td>\n",
       "      <td>0.0</td>\n",
       "      <td>0.0</td>\n",
       "      <td>0.0</td>\n",
       "      <td>1.0</td>\n",
       "      <td>399.95</td>\n",
       "      <td>8306.4</td>\n",
       "      <td>193.0</td>\n",
       "    </tr>\n",
       "    <tr>\n",
       "      <th>87</th>\n",
       "      <td>0.0</td>\n",
       "      <td>0.0</td>\n",
       "      <td>0.0</td>\n",
       "      <td>0.0</td>\n",
       "      <td>0.0</td>\n",
       "      <td>1.0</td>\n",
       "      <td>0.0</td>\n",
       "      <td>0.0</td>\n",
       "      <td>0.0</td>\n",
       "      <td>1.0</td>\n",
       "      <td>...</td>\n",
       "      <td>1.0</td>\n",
       "      <td>0.0</td>\n",
       "      <td>0.0</td>\n",
       "      <td>0.0</td>\n",
       "      <td>0.0</td>\n",
       "      <td>0.0</td>\n",
       "      <td>1.0</td>\n",
       "      <td>429.00</td>\n",
       "      <td>6718.8</td>\n",
       "      <td>175.0</td>\n",
       "    </tr>\n",
       "    <tr>\n",
       "      <th>88</th>\n",
       "      <td>0.0</td>\n",
       "      <td>0.0</td>\n",
       "      <td>1.0</td>\n",
       "      <td>0.0</td>\n",
       "      <td>0.0</td>\n",
       "      <td>0.0</td>\n",
       "      <td>0.0</td>\n",
       "      <td>0.0</td>\n",
       "      <td>0.0</td>\n",
       "      <td>1.0</td>\n",
       "      <td>...</td>\n",
       "      <td>1.0</td>\n",
       "      <td>0.0</td>\n",
       "      <td>0.0</td>\n",
       "      <td>0.0</td>\n",
       "      <td>0.0</td>\n",
       "      <td>0.0</td>\n",
       "      <td>1.0</td>\n",
       "      <td>599.00</td>\n",
       "      <td>9553.8</td>\n",
       "      <td>203.0</td>\n",
       "    </tr>\n",
       "    <tr>\n",
       "      <th>89</th>\n",
       "      <td>0.0</td>\n",
       "      <td>1.0</td>\n",
       "      <td>0.0</td>\n",
       "      <td>0.0</td>\n",
       "      <td>0.0</td>\n",
       "      <td>0.0</td>\n",
       "      <td>0.0</td>\n",
       "      <td>0.0</td>\n",
       "      <td>0.0</td>\n",
       "      <td>1.0</td>\n",
       "      <td>...</td>\n",
       "      <td>1.0</td>\n",
       "      <td>0.0</td>\n",
       "      <td>0.0</td>\n",
       "      <td>0.0</td>\n",
       "      <td>0.0</td>\n",
       "      <td>1.0</td>\n",
       "      <td>0.0</td>\n",
       "      <td>299.95</td>\n",
       "      <td>5414.8</td>\n",
       "      <td>183.0</td>\n",
       "    </tr>\n",
       "  </tbody>\n",
       "</table>\n",
       "<p>90 rows × 22 columns</p>\n",
       "</div>"
      ],
      "text/plain": [
       "     0    1    2    3    4    5    6    7    8    9   ...   12   13   14   15  \\\n",
       "0   1.0  0.0  0.0  0.0  0.0  0.0  0.0  0.0  1.0  0.0  ...  1.0  0.0  0.0  1.0   \n",
       "1   1.0  0.0  0.0  0.0  0.0  0.0  0.0  0.0  1.0  0.0  ...  1.0  0.0  0.0  0.0   \n",
       "2   0.0  1.0  0.0  0.0  0.0  0.0  0.0  0.0  1.0  0.0  ...  1.0  0.0  0.0  1.0   \n",
       "3   1.0  0.0  0.0  0.0  0.0  0.0  0.0  0.0  1.0  0.0  ...  1.0  0.0  0.0  0.0   \n",
       "4   0.0  0.0  0.0  0.0  0.0  0.0  1.0  0.0  1.0  0.0  ...  1.0  0.0  0.0  1.0   \n",
       "..  ...  ...  ...  ...  ...  ...  ...  ...  ...  ...  ...  ...  ...  ...  ...   \n",
       "85  0.0  1.0  0.0  0.0  0.0  0.0  0.0  0.0  0.0  1.0  ...  1.0  0.0  0.0  0.0   \n",
       "86  0.0  1.0  0.0  0.0  0.0  0.0  0.0  0.0  0.0  1.0  ...  1.0  0.0  0.0  0.0   \n",
       "87  0.0  0.0  0.0  0.0  0.0  1.0  0.0  0.0  0.0  1.0  ...  1.0  0.0  0.0  0.0   \n",
       "88  0.0  0.0  1.0  0.0  0.0  0.0  0.0  0.0  0.0  1.0  ...  1.0  0.0  0.0  0.0   \n",
       "89  0.0  1.0  0.0  0.0  0.0  0.0  0.0  0.0  0.0  1.0  ...  1.0  0.0  0.0  0.0   \n",
       "\n",
       "     16   17   18      19      20     21  \n",
       "0   0.0  0.0  0.0  349.95   960.0   96.0  \n",
       "1   1.0  0.0  0.0  449.95  1450.0  107.0  \n",
       "2   0.0  0.0  0.0  159.95  1700.0  102.0  \n",
       "3   1.0  0.0  0.0  359.95  2160.0  107.0  \n",
       "4   0.0  0.0  0.0  149.00  2210.0  107.0  \n",
       "..  ...  ...  ...     ...     ...    ...  \n",
       "85  0.0  1.0  0.0  199.95  4734.4  150.0  \n",
       "86  0.0  0.0  1.0  399.95  8306.4  193.0  \n",
       "87  0.0  0.0  1.0  429.00  6718.8  175.0  \n",
       "88  0.0  0.0  1.0  599.00  9553.8  203.0  \n",
       "89  0.0  1.0  0.0  299.95  5414.8  183.0  \n",
       "\n",
       "[90 rows x 22 columns]"
      ]
     },
     "execution_count": 59,
     "metadata": {},
     "output_type": "execute_result"
    }
   ],
   "source": [
    "data"
   ]
  },
  {
   "cell_type": "code",
   "execution_count": 60,
   "id": "4bf99aad",
   "metadata": {
    "deletable": false,
    "nbgrader": {
     "cell_type": "code",
     "checksum": "bcd9b4b9f6141a9cc739d36bb6d2a00b",
     "grade": false,
     "grade_id": "task-3-2-solution",
     "locked": false,
     "schema_version": 3,
     "solution": true,
     "task": false
    }
   },
   "outputs": [],
   "source": [
    "# YOUR CODE HERE\n",
    "ordinal = OrdinalEncoder()\n",
    "one_hot = OneHotEncoder(sparse = False)\n",
    "t = [('ordinal', ordinal, oe_features),('one-hot', one_hot, oh_features)]\n",
    "mx = ColumnTransformer(transformers=t)\n",
    "\n",
    "\n",
    "\n"
   ]
  },
  {
   "cell_type": "code",
   "execution_count": null,
   "id": "9e0d9e4d",
   "metadata": {
    "deletable": false,
    "editable": false,
    "nbgrader": {
     "cell_type": "code",
     "checksum": "a43a322789e7066d1e5ee9be818ef1bf",
     "grade": true,
     "grade_id": "task-3-2-test",
     "locked": true,
     "points": 1,
     "schema_version": 3,
     "solution": false,
     "task": false
    }
   },
   "outputs": [],
   "source": []
  },
  {
   "cell_type": "markdown",
   "id": "bd7bd7ff",
   "metadata": {
    "deletable": false,
    "editable": false,
    "nbgrader": {
     "cell_type": "markdown",
     "checksum": "883e707930480980eb749bfce4774aee",
     "grade": false,
     "grade_id": "task-3-3-descriptor",
     "locked": true,
     "schema_version": 3,
     "solution": false,
     "task": false
    }
   },
   "source": [
    "**Task 3.3**\n",
    "\n",
    "\n",
    "Apply your transformer to the data. Overwrite/replace the original values of the columns containing the  `oe_feature` with the encoded values from the `OrdinalEncoder()`. Drop the original columns containing the `oh_features` and append the new columns with your one-hot encoded features. The new pandas DataFrame will now have some new columns and contain also the numerical variables like the initial one."
   ]
  },
  {
   "cell_type": "code",
   "execution_count": 68,
   "id": "aca6acfe",
   "metadata": {
    "deletable": false,
    "nbgrader": {
     "cell_type": "code",
     "checksum": "02c2fa0e9fdc86e8cc996ca268e5eabd",
     "grade": false,
     "grade_id": "task-3-3-solution",
     "locked": false,
     "schema_version": 3,
     "solution": true,
     "task": false
    }
   },
   "outputs": [
    {
     "data": {
      "text/html": [
       "<div>\n",
       "<style scoped>\n",
       "    .dataframe tbody tr th:only-of-type {\n",
       "        vertical-align: middle;\n",
       "    }\n",
       "\n",
       "    .dataframe tbody tr th {\n",
       "        vertical-align: top;\n",
       "    }\n",
       "\n",
       "    .dataframe thead th {\n",
       "        text-align: right;\n",
       "    }\n",
       "</style>\n",
       "<table border=\"1\" class=\"dataframe\">\n",
       "  <thead>\n",
       "    <tr style=\"text-align: right;\">\n",
       "      <th></th>\n",
       "      <th>price</th>\n",
       "      <th>weight</th>\n",
       "      <th>height</th>\n",
       "      <th>0</th>\n",
       "      <th>1</th>\n",
       "      <th>2</th>\n",
       "      <th>3</th>\n",
       "      <th>4</th>\n",
       "      <th>5</th>\n",
       "      <th>6</th>\n",
       "      <th>7</th>\n",
       "      <th>8</th>\n",
       "      <th>9</th>\n",
       "      <th>10</th>\n",
       "      <th>11</th>\n",
       "      <th>12</th>\n",
       "      <th>13</th>\n",
       "      <th>14</th>\n",
       "    </tr>\n",
       "  </thead>\n",
       "  <tbody>\n",
       "    <tr>\n",
       "      <th>0</th>\n",
       "      <td>349.95</td>\n",
       "      <td>960.0</td>\n",
       "      <td>96</td>\n",
       "      <td>1.0</td>\n",
       "      <td>0.0</td>\n",
       "      <td>1.0</td>\n",
       "      <td>0.0</td>\n",
       "      <td>1.0</td>\n",
       "      <td>0.0</td>\n",
       "      <td>0.0</td>\n",
       "      <td>0.0</td>\n",
       "      <td>0.0</td>\n",
       "      <td>0.0</td>\n",
       "      <td>0.0</td>\n",
       "      <td>0.0</td>\n",
       "      <td>1.0</td>\n",
       "      <td>0.0</td>\n",
       "      <td>0.0</td>\n",
       "    </tr>\n",
       "    <tr>\n",
       "      <th>1</th>\n",
       "      <td>449.95</td>\n",
       "      <td>1450.0</td>\n",
       "      <td>107</td>\n",
       "      <td>2.0</td>\n",
       "      <td>0.0</td>\n",
       "      <td>1.0</td>\n",
       "      <td>0.0</td>\n",
       "      <td>1.0</td>\n",
       "      <td>0.0</td>\n",
       "      <td>0.0</td>\n",
       "      <td>0.0</td>\n",
       "      <td>0.0</td>\n",
       "      <td>0.0</td>\n",
       "      <td>0.0</td>\n",
       "      <td>0.0</td>\n",
       "      <td>1.0</td>\n",
       "      <td>0.0</td>\n",
       "      <td>0.0</td>\n",
       "    </tr>\n",
       "    <tr>\n",
       "      <th>2</th>\n",
       "      <td>159.95</td>\n",
       "      <td>1700.0</td>\n",
       "      <td>102</td>\n",
       "      <td>1.0</td>\n",
       "      <td>0.0</td>\n",
       "      <td>1.0</td>\n",
       "      <td>0.0</td>\n",
       "      <td>0.0</td>\n",
       "      <td>1.0</td>\n",
       "      <td>0.0</td>\n",
       "      <td>0.0</td>\n",
       "      <td>0.0</td>\n",
       "      <td>0.0</td>\n",
       "      <td>0.0</td>\n",
       "      <td>0.0</td>\n",
       "      <td>1.0</td>\n",
       "      <td>0.0</td>\n",
       "      <td>0.0</td>\n",
       "    </tr>\n",
       "    <tr>\n",
       "      <th>3</th>\n",
       "      <td>359.95</td>\n",
       "      <td>2160.0</td>\n",
       "      <td>107</td>\n",
       "      <td>2.0</td>\n",
       "      <td>0.0</td>\n",
       "      <td>1.0</td>\n",
       "      <td>0.0</td>\n",
       "      <td>1.0</td>\n",
       "      <td>0.0</td>\n",
       "      <td>0.0</td>\n",
       "      <td>0.0</td>\n",
       "      <td>0.0</td>\n",
       "      <td>0.0</td>\n",
       "      <td>0.0</td>\n",
       "      <td>0.0</td>\n",
       "      <td>1.0</td>\n",
       "      <td>0.0</td>\n",
       "      <td>0.0</td>\n",
       "    </tr>\n",
       "    <tr>\n",
       "      <th>4</th>\n",
       "      <td>149.00</td>\n",
       "      <td>2210.0</td>\n",
       "      <td>107</td>\n",
       "      <td>1.0</td>\n",
       "      <td>0.0</td>\n",
       "      <td>1.0</td>\n",
       "      <td>0.0</td>\n",
       "      <td>0.0</td>\n",
       "      <td>0.0</td>\n",
       "      <td>0.0</td>\n",
       "      <td>0.0</td>\n",
       "      <td>0.0</td>\n",
       "      <td>0.0</td>\n",
       "      <td>1.0</td>\n",
       "      <td>0.0</td>\n",
       "      <td>1.0</td>\n",
       "      <td>0.0</td>\n",
       "      <td>0.0</td>\n",
       "    </tr>\n",
       "  </tbody>\n",
       "</table>\n",
       "</div>"
      ],
      "text/plain": [
       "    price  weight  height    0    1    2    3    4    5    6    7    8    9  \\\n",
       "0  349.95   960.0      96  1.0  0.0  1.0  0.0  1.0  0.0  0.0  0.0  0.0  0.0   \n",
       "1  449.95  1450.0     107  2.0  0.0  1.0  0.0  1.0  0.0  0.0  0.0  0.0  0.0   \n",
       "2  159.95  1700.0     102  1.0  0.0  1.0  0.0  0.0  1.0  0.0  0.0  0.0  0.0   \n",
       "3  359.95  2160.0     107  2.0  0.0  1.0  0.0  1.0  0.0  0.0  0.0  0.0  0.0   \n",
       "4  149.00  2210.0     107  1.0  0.0  1.0  0.0  0.0  0.0  0.0  0.0  0.0  0.0   \n",
       "\n",
       "    10   11   12   13   14  \n",
       "0  0.0  0.0  1.0  0.0  0.0  \n",
       "1  0.0  0.0  1.0  0.0  0.0  \n",
       "2  0.0  0.0  1.0  0.0  0.0  \n",
       "3  0.0  0.0  1.0  0.0  0.0  \n",
       "4  1.0  0.0  1.0  0.0  0.0  "
      ]
     },
     "execution_count": 68,
     "metadata": {},
     "output_type": "execute_result"
    }
   ],
   "source": [
    "# YOUR CODE HERE\n",
    "data_mx1 = pd.DataFrame(mx.fit_transform(data1))\n",
    "data_mx = pd.concat([data1.drop(columns=cat_features),data_mx1],axis=1)\n",
    "data_mx.head()"
   ]
  },
  {
   "cell_type": "code",
   "execution_count": null,
   "id": "e8e805d6",
   "metadata": {
    "deletable": false,
    "editable": false,
    "nbgrader": {
     "cell_type": "code",
     "checksum": "ce684e029b63d771daad20eaa8063994",
     "grade": true,
     "grade_id": "task-3-3-test-1",
     "locked": true,
     "points": 1,
     "schema_version": 3,
     "solution": false,
     "task": false
    }
   },
   "outputs": [],
   "source": []
  },
  {
   "cell_type": "code",
   "execution_count": null,
   "id": "1b405572",
   "metadata": {
    "deletable": false,
    "editable": false,
    "nbgrader": {
     "cell_type": "code",
     "checksum": "6cd5d4d35e4df0fdf69959bf4e71f533",
     "grade": true,
     "grade_id": "task-3-3-test-2",
     "locked": true,
     "points": 1,
     "schema_version": 3,
     "solution": false,
     "task": false
    }
   },
   "outputs": [],
   "source": []
  },
  {
   "cell_type": "code",
   "execution_count": null,
   "id": "f54071cb",
   "metadata": {
    "deletable": false,
    "editable": false,
    "nbgrader": {
     "cell_type": "code",
     "checksum": "3b02642496c21152c4066b7061793973",
     "grade": true,
     "grade_id": "task-3-3-test-3",
     "locked": true,
     "points": 1,
     "schema_version": 3,
     "solution": false,
     "task": false
    }
   },
   "outputs": [],
   "source": []
  },
  {
   "cell_type": "markdown",
   "id": "3c99258e",
   "metadata": {
    "deletable": false,
    "editable": false,
    "nbgrader": {
     "cell_type": "markdown",
     "checksum": "41149c175031ae3f3741314c429c10d3",
     "grade": false,
     "grade_id": "task-3-4-descriptor",
     "locked": true,
     "schema_version": 3,
     "solution": false,
     "task": false
    }
   },
   "source": [
    "**Task 3.4**\n",
    "\n",
    "Once again, split your data into training and test set using the sklearn function `train_test_split()`. The tent price will be the target y. The data split has to be 70/30, i.e. a `test_size` of 0.3 (30% of the data will be randomly picked for testing). In order to repeat your experiments (also important for us to grade it) apply `random_state=42` as argument to the `train_test_split()` function. \n",
    "\n",
    "Use the following names for the variables: \n",
    "- `X_train_mx`: Training features encoded with the `OrdinalEncoder()` and `OneHotEncoder()`\n",
    "- `X_test_mx`: Test features encoded with the `OrdinalEncoder()`and `OneHotEncoder()` \n",
    "- `y_train_mx`: Training target `price`\n",
    "- `y_test_mx`: Test target `price`"
   ]
  },
  {
   "cell_type": "code",
   "execution_count": 70,
   "id": "e121a250",
   "metadata": {
    "deletable": false,
    "nbgrader": {
     "cell_type": "code",
     "checksum": "bc4801cd11ae70ad056a65537984d653",
     "grade": false,
     "grade_id": "task-3-4-solution",
     "locked": false,
     "schema_version": 3,
     "solution": true,
     "task": false
    }
   },
   "outputs": [],
   "source": [
    "# YOUR CODE HERE\n",
    "X_column = data_mx.columns != 'price'\n",
    "X = data_mx.loc[:,X_column ]\n",
    "y_column = data_mx.columns == 'price'\n",
    "y = data_mx.loc[:, y_column]\n",
    "\n",
    "X_train_mx, X_test_mx, y_train_mx, y_test_mx = train_test_split( X, y, test_size=0.3, random_state=42,shuffle=True)\n"
   ]
  },
  {
   "cell_type": "code",
   "execution_count": null,
   "id": "3c4edb63",
   "metadata": {
    "deletable": false,
    "editable": false,
    "nbgrader": {
     "cell_type": "code",
     "checksum": "07843992e5b607ccd309bd25500fb845",
     "grade": true,
     "grade_id": "task-3-4-test-1",
     "locked": true,
     "points": 1,
     "schema_version": 3,
     "solution": false,
     "task": false
    }
   },
   "outputs": [],
   "source": []
  },
  {
   "cell_type": "code",
   "execution_count": null,
   "id": "46c379ca",
   "metadata": {
    "deletable": false,
    "editable": false,
    "nbgrader": {
     "cell_type": "code",
     "checksum": "2b68d509525a353c139e6d5e6675a1eb",
     "grade": true,
     "grade_id": "task-3-4-test-2",
     "locked": true,
     "points": 1,
     "schema_version": 3,
     "solution": false,
     "task": false
    }
   },
   "outputs": [],
   "source": []
  },
  {
   "cell_type": "markdown",
   "id": "06dbab52",
   "metadata": {
    "deletable": false,
    "editable": false,
    "nbgrader": {
     "cell_type": "markdown",
     "checksum": "b69d45343e03a58c847b4bd403795f68",
     "grade": false,
     "grade_id": "task-3-5-descriptor",
     "locked": true,
     "schema_version": 3,
     "solution": false,
     "task": false
    }
   },
   "source": [
    "**Task 3.5**\n",
    "\n",
    "Fit a `LinearRegression()` estimator with the training data `X_train_mx` and `y_train` and store it to the variable `lr_mx`. Watch the performance measures printed below."
   ]
  },
  {
   "cell_type": "code",
   "execution_count": 71,
   "id": "8940fc59",
   "metadata": {
    "deletable": false,
    "nbgrader": {
     "cell_type": "code",
     "checksum": "829917782a38e6d972723cb888c14c35",
     "grade": false,
     "grade_id": "task-3-5-solution",
     "locked": false,
     "schema_version": 3,
     "solution": true,
     "task": false
    }
   },
   "outputs": [
    {
     "name": "stdout",
     "output_type": "stream",
     "text": [
      "RMSE (test) with mixed encoded features: 82.67$.\n",
      "R^2 (test) with mixed encoded features: 0.467\n",
      "\n",
      "coef: [[ 2.55962732e-02  1.67814494e+00  3.42980467e+01  2.88606955e+01\n",
      "  -5.93657670e+01  3.05050715e+01  5.08567042e+01 -1.03864649e+02\n",
      "   1.09855450e+01  1.26759438e+02  8.63485519e+01  2.42998282e+01\n",
      "  -7.46651279e+01 -1.20720290e+02  4.98666528e+01 -1.58758652e+02\n",
      "   1.08892000e+02]] \n",
      "intercept: [34.57366933]\n"
     ]
    }
   ],
   "source": [
    "# YOUR CODE HERE\n",
    "from sklearn.linear_model import LinearRegression\n",
    "from sklearn.metrics import mean_squared_error\n",
    "lr_mx = LinearRegression().fit(X_train_mx, y_train_mx)\n",
    "rmse_mx = np.sqrt(mean_squared_error(y_test_mx,lr_mx.predict(X_test_mx)))\n",
    "r2_mx = lr_mx.score(X_test_mx,y_test_mx)\n",
    "print('RMSE (test) with mixed encoded features: {:.2f}$.'.format(rmse_mx))\n",
    "print('R^2 (test) with mixed encoded features: {:.3f}'.format(r2_mx))\n",
    "print('\\ncoef:', lr_mx.coef_,'\\nintercept:',lr_mx.intercept_)"
   ]
  },
  {
   "cell_type": "code",
   "execution_count": null,
   "id": "372530e0",
   "metadata": {
    "deletable": false,
    "editable": false,
    "nbgrader": {
     "cell_type": "code",
     "checksum": "f48b2009dfaa3aff8cb9da18068a694f",
     "grade": true,
     "grade_id": "task-3-5-test",
     "locked": true,
     "points": 1,
     "schema_version": 3,
     "solution": false,
     "task": false
    }
   },
   "outputs": [],
   "source": []
  },
  {
   "cell_type": "markdown",
   "id": "ac367fc1",
   "metadata": {
    "deletable": false,
    "editable": false,
    "nbgrader": {
     "cell_type": "markdown",
     "checksum": "4446ae04af498056c1c55af2c9477e13",
     "grade": false,
     "grade_id": "task-4-1-descriptor",
     "locked": true,
     "schema_version": 3,
     "solution": false,
     "task": false
    }
   },
   "source": [
    "**Task 4.1**\n",
    "\n",
    "In a last step we want to see if centering and scaling can further improve the RMSE on the test set of your best model (from task 3). Set up a `StandardScaler()` and call the variable `mx_ss`. Fit it to your training data and transform your training features `X_train_mx` and test feature `X_test_mx`. Use the variables `X_train_mx_ss` and `X_test_mx_ss` for the centered and scaled features! The mean and standard deviation of the two data partions will be printed for each column."
   ]
  },
  {
   "cell_type": "code",
   "execution_count": 72,
   "id": "632cfd75",
   "metadata": {
    "deletable": false,
    "nbgrader": {
     "cell_type": "code",
     "checksum": "fa9d3577563208bd251bee30718cd67e",
     "grade": false,
     "grade_id": "task-4-1-solution",
     "locked": false,
     "schema_version": 3,
     "solution": true,
     "task": false
    }
   },
   "outputs": [
    {
     "name": "stdout",
     "output_type": "stream",
     "text": [
      "Column means of centered and scaled features (training set): [ 1.23358114e-17 -2.12352182e-16  5.81545394e-17  1.32169408e-17\n",
      " -2.29093640e-17  1.05735526e-17  4.93432455e-17 -7.04903508e-18\n",
      " -1.40980702e-17 -7.04903508e-18 -1.40980702e-17  5.11055043e-17\n",
      "  4.58187280e-17  2.02659758e-17  5.99167982e-17  3.87696929e-17\n",
      "  2.64338815e-17]$.\n",
      "Column means of centered and scaled features (test set): [ 1.66622112e-01  1.73061203e-01  8.99062894e-02  2.41428656e-01\n",
      " -6.35641726e-02 -7.20984094e-02 -7.29324957e-02 -1.98270626e-01\n",
      " -4.11193713e-17 -4.93432455e-17  0.00000000e+00 -1.95740073e-02\n",
      "  1.78174161e-01  1.69333503e-01 -7.85674201e-02  5.95998783e-02\n",
      "  4.33963037e-02]$.\n"
     ]
    }
   ],
   "source": [
    "# YOUR CODE HERE\n",
    "from sklearn.preprocessing import StandardScaler\n",
    "mx_ss = StandardScaler()\n",
    "\n",
    "\n",
    "X_train_mx_ss = mx_ss.fit_transform(X_train_mx)\n",
    "X_test_mx_ss = mx_ss.transform(X_test_mx)\n",
    "\n",
    "print('Column means of centered and scaled features (training set): {}$.'.format(X_train_mx_ss.mean(axis=0)))\n",
    "print('Column means of centered and scaled features (test set): {}$.'.format(X_test_mx_ss.mean(axis=0)))"
   ]
  },
  {
   "cell_type": "code",
   "execution_count": null,
   "id": "5ffe4b86",
   "metadata": {
    "deletable": false,
    "editable": false,
    "nbgrader": {
     "cell_type": "code",
     "checksum": "faecb191ca790ec6a8be91f2c77416a3",
     "grade": true,
     "grade_id": "task-4-1-test1",
     "locked": true,
     "points": 1,
     "schema_version": 3,
     "solution": false,
     "task": false
    }
   },
   "outputs": [],
   "source": []
  },
  {
   "cell_type": "code",
   "execution_count": null,
   "id": "cceb8dc7",
   "metadata": {
    "deletable": false,
    "editable": false,
    "nbgrader": {
     "cell_type": "code",
     "checksum": "7474a21922641e85195e5d404824f080",
     "grade": true,
     "grade_id": "task-4-1-test-2",
     "locked": true,
     "points": 2,
     "schema_version": 3,
     "solution": false,
     "task": false
    }
   },
   "outputs": [],
   "source": []
  },
  {
   "cell_type": "markdown",
   "id": "dc411db3",
   "metadata": {
    "deletable": false,
    "editable": false,
    "nbgrader": {
     "cell_type": "markdown",
     "checksum": "a61c7b4daccad9caae2d9052e657c222",
     "grade": false,
     "grade_id": "task-4-2-descriptor",
     "locked": true,
     "schema_version": 3,
     "solution": false,
     "task": false
    }
   },
   "source": [
    "**Task 4.2**\n",
    "\n",
    "Fit a `LinearRegression()` estimator with the training data `X_train_mx_ss` and `y_train_mx` and store it to the variable `lr_mx_ss`. Watch the performance measures printed below."
   ]
  },
  {
   "cell_type": "code",
   "execution_count": 73,
   "id": "05de339e",
   "metadata": {
    "deletable": false,
    "nbgrader": {
     "cell_type": "code",
     "checksum": "dc0161b9cd6851ffcb1db48c030cd5bc",
     "grade": false,
     "grade_id": "task-4-2-solution",
     "locked": false,
     "schema_version": 3,
     "solution": true,
     "task": false
    }
   },
   "outputs": [
    {
     "name": "stdout",
     "output_type": "stream",
     "text": [
      "RMSE (test) with mixed encoded features: 82.67$.\n",
      "R^2 (test) with mixed encoded features: 0.467\n",
      "\n",
      "coef: [[ 55.32167231  54.12780382  42.38740253   7.4196749  -15.28479977\n",
      "   12.90545361  17.01706162 -33.94149986  -0.24406524  36.140159\n",
      "   23.44024287   3.38902964 -35.93125384 -16.55821937  37.02138356\n",
      "  -57.74446783  33.54333451]] \n",
      "intercept: [352.4952381]\n"
     ]
    }
   ],
   "source": [
    "# YOUR CODE HERE\n",
    "lr_mx_ss = LinearRegression().fit(X_train_mx_ss, y_train_mx)\n",
    "\n",
    "\n",
    "rmse_mx_ss = np.sqrt(mean_squared_error(y_test_mx,lr_mx_ss.predict(X_test_mx_ss)))\n",
    "r2_mx_ss = lr_mx_ss.score(X_test_mx_ss,y_test_mx)\n",
    "print('RMSE (test) with mixed encoded features: {:.2f}$.'.format(rmse_mx_ss))\n",
    "print('R^2 (test) with mixed encoded features: {:.3f}'.format(r2_mx_ss))\n",
    "print('\\ncoef:', lr_mx_ss.coef_,'\\nintercept:',lr_mx_ss.intercept_)"
   ]
  },
  {
   "cell_type": "code",
   "execution_count": null,
   "id": "02652ef5",
   "metadata": {
    "deletable": false,
    "editable": false,
    "nbgrader": {
     "cell_type": "code",
     "checksum": "1fc55296fd4cc62e231d836cd677a124",
     "grade": true,
     "grade_id": "task-4-2-test",
     "locked": true,
     "points": 1,
     "schema_version": 3,
     "solution": false,
     "task": false
    }
   },
   "outputs": [],
   "source": []
  },
  {
   "cell_type": "markdown",
   "id": "c5180504",
   "metadata": {
    "deletable": false,
    "editable": false,
    "nbgrader": {
     "cell_type": "markdown",
     "checksum": "571a5c835f10065e0354ca8e30b166a7",
     "grade": false,
     "grade_id": "task-4-3-descriptor",
     "locked": true,
     "schema_version": 3,
     "solution": false,
     "task": false
    }
   },
   "source": [
    "**Task 4.3**\n",
    "\n",
    "Why did the scaling by the standard deviation and centering not improve the performance?\n",
    "\n",
    "'a': We would also need to center and scale the target y. Then the performance would improve significantly.\n",
    "    \n",
    "'b': This is just a random artifact of the data set at hand. With other data we would benefit from scaling.\n",
    "\n",
    "'c': Scaling the data in linear regression leads to different coefficients but to the same performance as if we would not scale the data.\n",
    "  \n",
    "'d': Scaling should have been done with the variance and not the standard deviation.\n",
    "    \n",
    "*Use a variable* `x43` *and assign your answer of the question (if 'e' would be the correct answer your code should look like this:* `x43='e'`*. There is only one correct answer.* "
   ]
  },
  {
   "cell_type": "code",
   "execution_count": 74,
   "id": "033c9a40",
   "metadata": {
    "deletable": false,
    "nbgrader": {
     "cell_type": "code",
     "checksum": "f57cf29e37eeb96e196fd198320ab975",
     "grade": false,
     "grade_id": "task-4-3-solution",
     "locked": false,
     "schema_version": 3,
     "solution": true,
     "task": false
    }
   },
   "outputs": [
    {
     "name": "stdout",
     "output_type": "stream",
     "text": [
      "The answer is c.\n"
     ]
    }
   ],
   "source": [
    "# YOUR CODE HERE\n",
    "x43='c'\n",
    "print('The answer is ' + x43 + '.')"
   ]
  },
  {
   "cell_type": "code",
   "execution_count": null,
   "id": "a14cfe5d",
   "metadata": {
    "deletable": false,
    "editable": false,
    "nbgrader": {
     "cell_type": "code",
     "checksum": "acfbfed5a44327691ec2361228c1292f",
     "grade": true,
     "grade_id": "task-4-3-test",
     "locked": true,
     "points": 1,
     "schema_version": 3,
     "solution": false,
     "task": false
    }
   },
   "outputs": [],
   "source": []
  }
 ],
 "metadata": {
  "kernelspec": {
   "display_name": "Python 3 (ipykernel)",
   "language": "python",
   "name": "python3"
  },
  "language_info": {
   "codemirror_mode": {
    "name": "ipython",
    "version": 3
   },
   "file_extension": ".py",
   "mimetype": "text/x-python",
   "name": "python",
   "nbconvert_exporter": "python",
   "pygments_lexer": "ipython3",
   "version": "3.9.5"
  }
 },
 "nbformat": 4,
 "nbformat_minor": 5
}
