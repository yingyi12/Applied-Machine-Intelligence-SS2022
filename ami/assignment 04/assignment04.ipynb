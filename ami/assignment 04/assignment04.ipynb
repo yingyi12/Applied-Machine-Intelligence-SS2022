{
 "cells": [
  {
   "cell_type": "markdown",
   "id": "ba6a421e",
   "metadata": {
    "deletable": false,
    "editable": false,
    "nbgrader": {
     "cell_type": "markdown",
     "checksum": "697ac09dd345c50714f220f3bab9d33f",
     "grade": false,
     "grade_id": "intro",
     "locked": true,
     "schema_version": 3,
     "solution": false,
     "task": false
    }
   },
   "source": [
    "# Fourth assignment\n",
    "The assignment provides problems regarding basic applications of linear algebra and machine learning. Use this notebook to perform the computations and insert your comments into it. All the coding must be done in Python 3. \n",
    "\n",
    "The assignment has to be submitted individually!\n",
    "\n",
    "All your plots have to be labelled properly!  (Non-labeled plots will result in point deductions!)\n",
    "\n",
    "**Non running cells/tasks will not be considered!**\n",
    "\n",
    "The tasks/questions are 1.1), 1.2), 1.3), 1.4), 1.5), 1.6), 1.7), 2.1), 2.2), 2.3), 2.4), 2.5), 2.6). After each task description there is an answer cell for your code or text. For coding tasks they look like this:\n",
    "\n",
    "```\n",
    "# YOUR CODE HERE\n",
    "```\n",
    "(You can delete the \"YOUR CODE HERE\" comment, if you like.)\n",
    "\n",
    "For markdown (text) cells the response cell will include this:\n",
    "\n",
    "**WRITE YOUR ANSWER HERE**\n",
    "\n",
    "Sometimes they are followed by test cells. You can run the test cells after you finished the task. If these cells don't show any errors, your answer is right. You can't/shouldn't edit test cells!\n",
    "\n",
    "After you finished the notebook you can hit the \"Validate\" button on the top of the notebook to see if all test are good. You can also use the \"Validate\" button on the \"Assignment\" tap on the main page of python.ldv.ei.tum.de. Some tasks will be graded manually (e.g. plots, text answers). They don't have a following test cell. \n",
    "\n",
    "Please make sure to hit the \"Submit\" button on the \"Assignment\" tab on the main page of python.ldv.ei.tum.de before the deadline passes. You will get your final score after the deadline.\n",
    "\n",
    "**Some tips:**\n",
    "- Only change cells with `# YOUR CODE HERE` or **WRITE YOUR ANSWER HERE**\n",
    "- Do not change cell types or the notebook name.\n",
    "- Do not add other .ipynb files into the ami22 folder or subfolders.\n",
    "- Do not override the original files in the ami22 folder or subfolders.\n",
    "- For every plot makes sure that axes are correctly labeled with original labels and not encoded ones. \n",
    "- If you are asked to provide multiple plots, make sure that the titles are clear. A plot should be self explanatory, we should not have to look at your code to know what is plotted. \n",
    "\n",
    "#### Date of submission: May 30, 2022, 23:55 hrs"
   ]
  },
  {
   "cell_type": "code",
   "execution_count": 1,
   "id": "49c5caf8",
   "metadata": {
    "deletable": false,
    "editable": false,
    "nbgrader": {
     "cell_type": "code",
     "checksum": "880127c5450769e1f671fb7f9dc78e31",
     "grade": false,
     "grade_id": "additional-pkg",
     "locked": true,
     "schema_version": 3,
     "solution": false,
     "task": false
    }
   },
   "outputs": [
    {
     "name": "stdout",
     "output_type": "stream",
     "text": [
      "Note: you may need to restart the kernel to use updated packages.\n"
     ]
    }
   ],
   "source": [
    "'''\n",
    "You do not need to run this cell multiple times.\n",
    "In your homework you will not need to install any packages.\n",
    "'''\n",
    "%pip install mlxtend --quiet --exists-action i"
   ]
  },
  {
   "cell_type": "code",
   "execution_count": 2,
   "id": "6991628b",
   "metadata": {
    "deletable": false,
    "editable": false,
    "nbgrader": {
     "cell_type": "code",
     "checksum": "03419ed7efb7498edfa2ab350f1ca0ae",
     "grade": false,
     "grade_id": "import",
     "locked": true,
     "schema_version": 3,
     "solution": false,
     "task": false
    }
   },
   "outputs": [],
   "source": [
    "from sklearn.datasets import make_regression\n",
    "from sklearn.metrics import mean_squared_error\n",
    "from mlxtend.evaluate import BootstrapOutOfBag\n",
    "from sklearn.model_selection import train_test_split, KFold, LeaveOneOut, ShuffleSplit, cross_validate\n",
    "import pandas as pd\n",
    "import numpy as np\n",
    "import seaborn as sns"
   ]
  },
  {
   "cell_type": "markdown",
   "id": "807bdef7",
   "metadata": {
    "deletable": false,
    "editable": false,
    "nbgrader": {
     "cell_type": "markdown",
     "checksum": "6c78e59b176f81532515cc1dcf100ccd",
     "grade": false,
     "grade_id": "dataset-descriptor",
     "locked": true,
     "schema_version": 3,
     "solution": false,
     "task": false
    }
   },
   "source": [
    "In this notebook we will look at different validation methods. In order to know the \"real\"/best linear model, we will work with artificially generated data."
   ]
  },
  {
   "cell_type": "code",
   "execution_count": 3,
   "id": "ac2ef454",
   "metadata": {
    "deletable": false,
    "editable": false,
    "nbgrader": {
     "cell_type": "code",
     "checksum": "6b9eefc75912ce471acdc850a3e7a8f0",
     "grade": false,
     "grade_id": "dataset-generator",
     "locked": true,
     "schema_version": 3,
     "solution": false,
     "task": false
    }
   },
   "outputs": [],
   "source": [
    "def gen_data(n_samp, n_feat, noise_std, bias, outlier_strength):\n",
    "    X, y, true_coef = make_regression(n_samples=n_samp, n_informative=n_feat-1, n_features=n_feat, random_state=43, noise=noise_std,bias=bias, coef=True)\n",
    "    true_intercept=bias\n",
    "    return X,y,true_coef, true_intercept\n",
    "\n",
    "X, y, true_coef, true_intercept = gen_data(n_samp=300,n_feat=3,noise_std=3.3,bias=0.3, outlier_strength=0)"
   ]
  },
  {
   "cell_type": "markdown",
   "id": "a7b0a7c3",
   "metadata": {
    "deletable": false,
    "editable": false,
    "nbgrader": {
     "cell_type": "markdown",
     "checksum": "c9e923bed78fcdfd5414e2c72d01167d",
     "grade": false,
     "grade_id": "fixed-model-descriptor",
     "locked": true,
     "schema_version": 3,
     "solution": false,
     "task": false
    }
   },
   "source": [
    "For benchmarking we will need the true model, which is actually the linear model underlying the generated data. There will be no better linear model for the given data. In order to be able to use this like a regular LinearRegression we use an own class which always keeps the coefficients and intercept provided even during additional training."
   ]
  },
  {
   "cell_type": "code",
   "execution_count": 4,
   "id": "0924cd3a",
   "metadata": {
    "deletable": false,
    "editable": false,
    "nbgrader": {
     "cell_type": "code",
     "checksum": "09cef06948f7c60a78ee97b83eee5631",
     "grade": false,
     "grade_id": "fixed-model-implementation",
     "locked": true,
     "schema_version": 3,
     "solution": false,
     "task": false
    }
   },
   "outputs": [],
   "source": [
    "from sklearn.linear_model import LinearRegression\n",
    "class FixedCoefLinearRegression(LinearRegression):\n",
    "    def __init__(self, fixed_coef, fixed_intercept):\n",
    "        super(FixedCoefLinearRegression, self).__init__()\n",
    "        self.fixed_coef = fixed_coef\n",
    "        self.fixed_intercept = fixed_intercept\n",
    "    def fit(self, X, y, sample_weight=None):\n",
    "        self.coef_ = self.fixed_coef\n",
    "        self.intercept_ = self.fixed_intercept\n",
    "lr_true = FixedCoefLinearRegression(fixed_coef=true_coef, fixed_intercept=true_intercept)"
   ]
  },
  {
   "cell_type": "markdown",
   "id": "241f2731",
   "metadata": {
    "deletable": false,
    "editable": false,
    "nbgrader": {
     "cell_type": "markdown",
     "checksum": "c8291241039f6c3889b28598c1bf0ab5",
     "grade": false,
     "grade_id": "task-1-1-descriptor",
     "locked": true,
     "schema_version": 3,
     "solution": false,
     "task": false
    }
   },
   "source": [
    "Another interesting estimator for benchmarking is a model that does not actually learn anything. In regression, for example, such a model would always predict the mean value of the target (estimated from the training set).\n",
    "\n",
    "**Task 1.1**\n",
    "\n",
    "Create a so called Dummy Estimator for regression using sklearn. Use the default values (meaning the strategy will be 'mean'). Store the estimator in the variable `lr_dummy`."
   ]
  },
  {
   "cell_type": "code",
   "execution_count": 5,
   "id": "6789abf4",
   "metadata": {
    "deletable": false,
    "nbgrader": {
     "cell_type": "code",
     "checksum": "1181861886032b0a787f338fef5432d5",
     "grade": false,
     "grade_id": "task-1-1-solution",
     "locked": false,
     "schema_version": 3,
     "solution": true,
     "task": false
    }
   },
   "outputs": [],
   "source": [
    "# YOUR CODE HERE\n",
    "from sklearn.dummy import DummyRegressor\n",
    "lr_dummy = DummyRegressor(strategy=\"mean\")"
   ]
  },
  {
   "cell_type": "code",
   "execution_count": null,
   "id": "4c3f3c56",
   "metadata": {
    "deletable": false,
    "editable": false,
    "nbgrader": {
     "cell_type": "code",
     "checksum": "afd5cdb389fc70a829e11ae6ae3e52bc",
     "grade": true,
     "grade_id": "task-1-1-test-1",
     "locked": true,
     "points": 1,
     "schema_version": 3,
     "solution": false,
     "task": false
    }
   },
   "outputs": [],
   "source": []
  },
  {
   "cell_type": "code",
   "execution_count": null,
   "id": "f6544562",
   "metadata": {
    "deletable": false,
    "editable": false,
    "nbgrader": {
     "cell_type": "code",
     "checksum": "3793c85a89c791789f07bedacef30e4f",
     "grade": true,
     "grade_id": "task-1-1-test-2",
     "locked": true,
     "points": 1,
     "schema_version": 3,
     "solution": false,
     "task": false
    }
   },
   "outputs": [],
   "source": []
  },
  {
   "cell_type": "markdown",
   "id": "c6f998d0",
   "metadata": {
    "deletable": false,
    "editable": false,
    "nbgrader": {
     "cell_type": "markdown",
     "checksum": "fd79cca36a3648759160d9c6b4af451a",
     "grade": false,
     "grade_id": "task-1-2-descriptor",
     "locked": true,
     "schema_version": 3,
     "solution": false,
     "task": false
    }
   },
   "source": [
    "**Task 1.2** \n",
    "\n",
    "As the generated data is for a linear problem you will have to define a `LinearRegression()` object with default parameters and store it in the variable `lr`. You do not have to fit it."
   ]
  },
  {
   "cell_type": "code",
   "execution_count": 6,
   "id": "edb6d175",
   "metadata": {
    "deletable": false,
    "nbgrader": {
     "cell_type": "code",
     "checksum": "ab292c6d6d25281da64333fe452e153b",
     "grade": false,
     "grade_id": "task-1-2-solution",
     "locked": false,
     "schema_version": 3,
     "solution": true,
     "task": false
    }
   },
   "outputs": [],
   "source": [
    "# YOUR CODE HERE\n",
    "lr = LinearRegression()"
   ]
  },
  {
   "cell_type": "code",
   "execution_count": null,
   "id": "d9743111",
   "metadata": {
    "deletable": false,
    "editable": false,
    "nbgrader": {
     "cell_type": "code",
     "checksum": "129e8efb8fb45ab1bc3017489b0e183e",
     "grade": true,
     "grade_id": "task-1-2-test-1",
     "locked": true,
     "points": 1,
     "schema_version": 3,
     "solution": false,
     "task": false
    }
   },
   "outputs": [],
   "source": []
  },
  {
   "cell_type": "markdown",
   "id": "d102a53c",
   "metadata": {
    "deletable": false,
    "editable": false,
    "nbgrader": {
     "cell_type": "markdown",
     "checksum": "4bdf8f65540e14ac08499c2993f16049",
     "grade": false,
     "grade_id": "task-1-3-descriptor",
     "locked": true,
     "schema_version": 3,
     "solution": false,
     "task": false
    }
   },
   "source": [
    "Now we have three models: the optimal model for the data at hand `lr_true`, the worst-case baseline `lr_dummy` and the usual `lr` which will be fitted to the data. Next we want to use the RMSE which we used during the last sessions.\n",
    "\n",
    "**Task 1.3**\n",
    "\n",
    "Write a function `root_mean_squared_error(y, y_pred)` which calculates the RMSE between the true values `y` and the predicted values `y_pred`! *(We will only use/test the function with 1 dimensonal data, no need to make it work for matrices.)*"
   ]
  },
  {
   "cell_type": "code",
   "execution_count": 7,
   "id": "b93c9312",
   "metadata": {
    "deletable": false,
    "nbgrader": {
     "cell_type": "code",
     "checksum": "61247bec580b197e160ed291171d3f02",
     "grade": false,
     "grade_id": "task-1-3-solution",
     "locked": false,
     "schema_version": 3,
     "solution": true,
     "task": false
    }
   },
   "outputs": [],
   "source": [
    "def root_mean_squared_error(y, y_pred):\n",
    "    # YOUR CODE HERE\n",
    "    rmse = np.sqrt(mean_squared_error(y, y_pred))\n",
    "    return rmse"
   ]
  },
  {
   "cell_type": "code",
   "execution_count": null,
   "id": "15bd2057",
   "metadata": {
    "deletable": false,
    "editable": false,
    "nbgrader": {
     "cell_type": "code",
     "checksum": "5c1491056eba9e19d76df57fbc69a17f",
     "grade": true,
     "grade_id": "task-1-3-test-1",
     "locked": true,
     "points": 1,
     "schema_version": 3,
     "solution": false,
     "task": false
    }
   },
   "outputs": [],
   "source": []
  },
  {
   "cell_type": "markdown",
   "id": "8f9b350f",
   "metadata": {
    "deletable": false,
    "editable": false,
    "nbgrader": {
     "cell_type": "markdown",
     "checksum": "35ff8214a3e874c4429024eaad735ccb",
     "grade": false,
     "grade_id": "task-1-4-descriptor",
     "locked": true,
     "schema_version": 3,
     "solution": false,
     "task": false
    }
   },
   "source": [
    "**Task 1.4**\n",
    "\n",
    "Which of the following plots shows the correct visualization of the error that is used to calculate the RMSE?\n",
    "\n",
    "The blue line represents our linear regression model.\n",
    "\n",
    "![error](error.svg)\n",
    "\n",
    "'a': left.\n",
    "\n",
    "'b': middle\n",
    "\n",
    "'c': right\n",
    "\n",
    "*Use a variable* `x14` *and assign your answer of the question (if 'e' would be the correct answer your code should look like this:* `x14='e'`. *There is only one correct answer.*"
   ]
  },
  {
   "cell_type": "code",
   "execution_count": 8,
   "id": "bbbfcb68",
   "metadata": {
    "deletable": false,
    "nbgrader": {
     "cell_type": "code",
     "checksum": "de679ba335e9a114fc3cf110c3d823bf",
     "grade": false,
     "grade_id": "task-1-4-solution",
     "locked": false,
     "schema_version": 3,
     "solution": true,
     "task": false
    }
   },
   "outputs": [
    {
     "name": "stdout",
     "output_type": "stream",
     "text": [
      "The answer is a.\n"
     ]
    }
   ],
   "source": [
    "# YOUR CODE HERE\n",
    "x14='a'\n",
    "print('The answer is ' + x14 + '.')"
   ]
  },
  {
   "cell_type": "code",
   "execution_count": null,
   "id": "d6fb935f",
   "metadata": {
    "deletable": false,
    "editable": false,
    "nbgrader": {
     "cell_type": "code",
     "checksum": "4d36204a92fd44c1c082e50e68df3266",
     "grade": true,
     "grade_id": "task-1-4-test-1",
     "locked": true,
     "points": 1,
     "schema_version": 3,
     "solution": false,
     "task": false
    }
   },
   "outputs": [],
   "source": []
  },
  {
   "cell_type": "markdown",
   "id": "aad5c3fd",
   "metadata": {
    "deletable": false,
    "editable": false,
    "nbgrader": {
     "cell_type": "markdown",
     "checksum": "894f823b7673a95b51d571e067b9ceb4",
     "grade": false,
     "grade_id": "task-1-5-descriptor",
     "locked": true,
     "schema_version": 3,
     "solution": false,
     "task": false
    }
   },
   "source": [
    "**Taks 1.5**\n",
    "\n",
    "What is the advantage of the RMSE over the MSE?\n",
    "\n",
    "'a': The error has the same unit as the target variables.\n",
    "\n",
    "'b': The RMSE is more robust because squaring can exacerbate large errors on some samples.\n",
    "\n",
    "'c': The RMSE is independent of the range of the target variable.\n",
    "\n",
    "'d': The RMSE is numerically more stable than MSE.\n",
    "\n",
    "*Use a variable* `x15` *and assign your answer of the question (if 'e' would be the correct answer your code should look like this:* `x15='e'`. *There is only one correct answer.*"
   ]
  },
  {
   "cell_type": "code",
   "execution_count": 9,
   "id": "323e8f1a",
   "metadata": {
    "deletable": false,
    "nbgrader": {
     "cell_type": "code",
     "checksum": "c111a38ee8a5cdbae543d880823481a0",
     "grade": false,
     "grade_id": "task-1-5-solution",
     "locked": false,
     "schema_version": 3,
     "solution": true,
     "task": false
    }
   },
   "outputs": [
    {
     "name": "stdout",
     "output_type": "stream",
     "text": [
      "The answer is a.\n"
     ]
    }
   ],
   "source": [
    "# YOUR CODE HERE\n",
    "x15='a'\n",
    "print('The answer is ' + x15 + '.')"
   ]
  },
  {
   "cell_type": "code",
   "execution_count": null,
   "id": "1803c4e4",
   "metadata": {
    "deletable": false,
    "editable": false,
    "nbgrader": {
     "cell_type": "code",
     "checksum": "252ede24394adef2f16d495effea7c58",
     "grade": true,
     "grade_id": "task-1-5-test-1",
     "locked": true,
     "points": 1,
     "schema_version": 3,
     "solution": false,
     "task": false
    }
   },
   "outputs": [],
   "source": []
  },
  {
   "cell_type": "markdown",
   "id": "b836afcf",
   "metadata": {
    "deletable": false,
    "editable": false,
    "nbgrader": {
     "cell_type": "markdown",
     "checksum": "63542f10732e47ad907329d6f1aa7bcd",
     "grade": false,
     "grade_id": "task-1-6-descriptor",
     "locked": true,
     "schema_version": 3,
     "solution": false,
     "task": false
    }
   },
   "source": [
    "**Task 1.6**\n",
    "\n",
    "Write a function `r_pearson(y,y_pred)` which calculates the the pearson correlation between the true values `y` and the predicted values `y_pred`! *(We will only use/test the function with 1 dimensonal data, no need to make it work for matrices.)*"
   ]
  },
  {
   "cell_type": "code",
   "execution_count": 10,
   "id": "3810fc65",
   "metadata": {
    "deletable": false,
    "nbgrader": {
     "cell_type": "code",
     "checksum": "65158cb71e917ff9016c304f686c1856",
     "grade": false,
     "grade_id": "task-1-6-solution",
     "locked": false,
     "schema_version": 3,
     "solution": true,
     "task": false
    }
   },
   "outputs": [],
   "source": [
    "def r_pearson(y, y_pred):\n",
    "    # YOUR CODE HERE\n",
    "    rp = np.corrcoef(y, y_pred)\n",
    "    return rp"
   ]
  },
  {
   "cell_type": "code",
   "execution_count": null,
   "id": "b3c54c8e",
   "metadata": {
    "deletable": false,
    "editable": false,
    "nbgrader": {
     "cell_type": "code",
     "checksum": "ee75bf2b1d57311d4ae8d7e609e80964",
     "grade": true,
     "grade_id": "task-1-6-test-1",
     "locked": true,
     "points": 1,
     "schema_version": 3,
     "solution": false,
     "task": false
    }
   },
   "outputs": [],
   "source": []
  },
  {
   "cell_type": "markdown",
   "id": "26a4efee",
   "metadata": {
    "deletable": false,
    "editable": false,
    "nbgrader": {
     "cell_type": "markdown",
     "checksum": "145108b302f54844a59a53f3a577b465",
     "grade": false,
     "grade_id": "task-1-7-descriptor",
     "locked": true,
     "schema_version": 3,
     "solution": false,
     "task": false
    }
   },
   "source": [
    "**Task 1.7**\n",
    "\n",
    "In the remaining part of the notebook, you will be using sklearns `cross_validate()` routine. If we want to use our metrics from above within the cross validation, we have to make them callable for `cross_validate()`. Use the function `make_scorer()` with default parameters to create a scorer for the rmse and call the variable `rmse_scorer`. Repeat the process for the pearson correlation and call the variable `rp_scorer`!"
   ]
  },
  {
   "cell_type": "code",
   "execution_count": 11,
   "id": "78d60d8d",
   "metadata": {
    "deletable": false,
    "nbgrader": {
     "cell_type": "code",
     "checksum": "e527d66d40fcd2e0284485cec0c66432",
     "grade": false,
     "grade_id": "task-1-7-solution",
     "locked": false,
     "schema_version": 3,
     "solution": true,
     "task": false
    }
   },
   "outputs": [],
   "source": [
    "from sklearn.metrics import make_scorer\n",
    "# YOUR CODE HERE\n",
    "rmse_scorer = make_scorer(root_mean_squared_error)\n",
    "rp_scorer =  make_scorer(r_pearson)"
   ]
  },
  {
   "cell_type": "code",
   "execution_count": null,
   "id": "fb56990d",
   "metadata": {
    "deletable": false,
    "editable": false,
    "nbgrader": {
     "cell_type": "code",
     "checksum": "42d07ba17108aae59ce83f12ed50e903",
     "grade": true,
     "grade_id": "task-1-7-test-1",
     "locked": true,
     "points": 1,
     "schema_version": 3,
     "solution": false,
     "task": false
    }
   },
   "outputs": [],
   "source": []
  },
  {
   "cell_type": "code",
   "execution_count": null,
   "id": "5965b58f",
   "metadata": {
    "deletable": false,
    "editable": false,
    "nbgrader": {
     "cell_type": "code",
     "checksum": "3cd2815d32e49d5b2ee96b51aa08e847",
     "grade": true,
     "grade_id": "task-1-7-test-2",
     "locked": true,
     "points": 1,
     "schema_version": 3,
     "solution": false,
     "task": false
    }
   },
   "outputs": [],
   "source": []
  },
  {
   "cell_type": "markdown",
   "id": "08e12e27",
   "metadata": {
    "deletable": false,
    "editable": false,
    "nbgrader": {
     "cell_type": "markdown",
     "checksum": "ac13dc3b2b76c2eb88b72879f4223fc9",
     "grade": false,
     "grade_id": "split_grid_descriptor",
     "locked": true,
     "schema_version": 3,
     "solution": false,
     "task": false
    }
   },
   "source": [
    "In the next part you will run several experiments with different validation techniques. At first a grid of several number of splits/k-values is defined which will be used for the three different validation techniques."
   ]
  },
  {
   "cell_type": "code",
   "execution_count": 12,
   "id": "29825d96",
   "metadata": {
    "deletable": false,
    "editable": false,
    "nbgrader": {
     "cell_type": "code",
     "checksum": "9427988242b158d27838414569a235ed",
     "grade": false,
     "grade_id": "split_grid_implementation",
     "locked": true,
     "schema_version": 3,
     "solution": false,
     "task": false
    }
   },
   "outputs": [
    {
     "name": "stdout",
     "output_type": "stream",
     "text": [
      "k or number of splits for the following validation experiments:\n",
      "  [  2   3   5  10  15  35  55  75  95 115 135 155 175 195 215 235 255 275\n",
      " 300]\n"
     ]
    }
   ],
   "source": [
    "k_max = 280 #second largest k (max for generating the grid)\n",
    "ks = np.array([2,3,5,10]) \n",
    "ks = np.append(ks,np.arange(15,k_max, 20)) #grid of k values\n",
    "ks = np.append(ks,X.shape[0]) #k=n_samples\n",
    "print('k or number of splits for the following validation experiments:\\n ', ks)"
   ]
  },
  {
   "cell_type": "markdown",
   "id": "06fe92c3",
   "metadata": {
    "deletable": false,
    "editable": false,
    "nbgrader": {
     "cell_type": "markdown",
     "checksum": "875b72d80b2a3603c9356b9942fbe3f2",
     "grade": false,
     "grade_id": "task-2-1-descriptor",
     "locked": true,
     "schema_version": 3,
     "solution": false,
     "task": false
    }
   },
   "source": [
    "The first stop in your validation journey will be the technique of _Resampling_. There is already code provided in the cell below to record the results for later inspection and plotting. \n",
    "\n",
    "**Task 2.1**\n",
    "\n",
    "Within the already given for-loop, generate a random permutation cross-validator which resembles the resampling technique. Set the arguments as follows: \n",
    "- `n_splits=kk`\n",
    "- `test_size=0.37` \n",
    "- `random_state=350` \n",
    "\n",
    "Store the cross-val object in the variable `cv`.\n",
    "\n",
    "Next, use the sklearn function `cross_validate()` to run the experiments and store the return values in the variable `c_v`. Use the following arguments:\n",
    "- estimator: `lr` (your LinearRegression object)\n",
    "- X, y: `X` and `y`\n",
    "- `cv=cv` (your cv object to mimic Resampling)\n",
    "- `scoring=rmse_scorer` (your scorer for the RMSE)\n",
    "- `return_train_score=True`\n",
    "\n",
    "Furthermore, the cross-validation function should return the estimator!\n",
    "Running the cell will yield to two pandas data frames. One will contain the RMSEs on the test data in each cv-run and the other the regression coefficients of the different models."
   ]
  },
  {
   "cell_type": "code",
   "execution_count": 13,
   "id": "b575fa8e",
   "metadata": {
    "deletable": false,
    "nbgrader": {
     "cell_type": "code",
     "checksum": "83484a428913becf3fc10f611d6993b4",
     "grade": false,
     "grade_id": "task-2-1-solution",
     "locked": false,
     "schema_version": 3,
     "solution": true,
     "task": false
    }
   },
   "outputs": [],
   "source": [
    "re_cf = pd.DataFrame()\n",
    "re_rmse = pd.DataFrame()\n",
    "for kk in ks:\n",
    "    # YOUR CODE HERE\n",
    "    cv = ShuffleSplit(n_splits=kk, test_size=0.37, random_state=350)\n",
    "    c_v = cross_validate(lr, X, y, cv=cv,scoring=rmse_scorer,return_train_score=True,return_estimator=True)\n",
    "    re_rmse = re_rmse.append(pd.DataFrame({'splits': kk*np.ones(len(c_v['test_score'])),'set': len(c_v['test_score'])*['test'],'model': len(c_v['test_score'])*['lr'],'type': len(c_v['test_score'])*['resampling'] , 'RMSE': c_v['test_score']}),ignore_index=True)\n",
    "    re_rmse = re_rmse.append(pd.DataFrame({'splits': kk*np.ones(len(c_v['train_score'])),'set': len(c_v['train_score'])*['train'], 'model': len(c_v['train_score'])*['lr'],'type': len(c_v['train_score'])*['resampling'] , 'RMSE': c_v['train_score']}),ignore_index=True)\n",
    "    tmp = pd.DataFrame([true_coef-est.coef_ for est in c_v['estimator']])\n",
    "    tmp['diff_intercept'] = [true_intercept-est.intercept_ for est in c_v['estimator']]\n",
    "    tmp['splits'] = kk*np.ones((len(tmp)))\n",
    "    tmp['type'] = 'resampling'\n",
    "    re_cf = re_cf.append(tmp)\n",
    "re_cf.columns = ['diff_coef_' + str(i) for i in range(len(true_coef))] + ['diff_intercept'] + ['splits'] + ['type']"
   ]
  },
  {
   "cell_type": "code",
   "execution_count": null,
   "id": "f408a5d1",
   "metadata": {
    "deletable": false,
    "editable": false,
    "nbgrader": {
     "cell_type": "code",
     "checksum": "574fb75d01104ca4ed04ae0276695f74",
     "grade": true,
     "grade_id": "task-2-1-test-1",
     "locked": true,
     "points": 1,
     "schema_version": 3,
     "solution": false,
     "task": false
    }
   },
   "outputs": [],
   "source": []
  },
  {
   "cell_type": "code",
   "execution_count": null,
   "id": "b69d8e86",
   "metadata": {
    "deletable": false,
    "editable": false,
    "nbgrader": {
     "cell_type": "code",
     "checksum": "f5aaa59431cc0bddacf541126e4c1c6e",
     "grade": true,
     "grade_id": "task-2-1-test-2",
     "locked": true,
     "points": 1,
     "schema_version": 3,
     "solution": false,
     "task": false
    }
   },
   "outputs": [],
   "source": []
  },
  {
   "cell_type": "markdown",
   "id": "42554554",
   "metadata": {
    "deletable": false,
    "editable": false,
    "nbgrader": {
     "cell_type": "markdown",
     "checksum": "39f1db1ba1a1e46ff8b259430eab89a2",
     "grade": false,
     "grade_id": "task-2-2-descriptor",
     "locked": true,
     "schema_version": 3,
     "solution": false,
     "task": false
    }
   },
   "source": [
    "**Task 2.2**\n",
    "\n",
    "Next stop: *k-Fold*. Within the already given for-loop, generate a k-fold cross-validator. Set the arguments as follows: \n",
    "- `n_splits=kk`\n",
    "- `shuffle=true` \n",
    "- `random_state=350` \n",
    "\n",
    "Store the cross-val object in the variable `cv`.\n",
    "\n",
    "Next, use the sklearn function `cross_validate()` to run the experiments and store the return values in the variable `c_v`. Use the following arguments:\n",
    "- estimator: `lr` (your LinearRegression object)\n",
    "- X,y: `X` and `y`\n",
    "- `cv=cv` (your cv object to mimic k-Fold)\n",
    "- `scoring=rmse_scorer` (your scorer for the RMSE)\n",
    "- `return_train_score=True`\n",
    "\n",
    "Furthermore, the cross-validation function should return the estimator!\n",
    "Running the cell will yield to two pandas data frames. One will contain the RMSEs on the test data in each cv-run and the other the regression coefficients of the different models."
   ]
  },
  {
   "cell_type": "code",
   "execution_count": 14,
   "id": "8ad6527e",
   "metadata": {
    "deletable": false,
    "nbgrader": {
     "cell_type": "code",
     "checksum": "17b2c1e0bb508fdff2764194ad4d0137",
     "grade": false,
     "grade_id": "task-2-2-solution",
     "locked": false,
     "schema_version": 3,
     "solution": true,
     "task": false
    }
   },
   "outputs": [],
   "source": [
    "kf_cf = pd.DataFrame()\n",
    "kf_rmse = pd.DataFrame()\n",
    "for kk in ks:\n",
    "    # YOUR CODE HERE\n",
    "    cv = KFold(n_splits=kk, random_state=350, shuffle=True)\n",
    "    c_v = cross_validate(lr, X, y, cv=cv,scoring=rmse_scorer,return_train_score=True,return_estimator=True)\n",
    "    kf_rmse = kf_rmse.append(pd.DataFrame({'splits': kk*np.ones(len(c_v['test_score'])),'set': len(c_v['test_score'])*['test'],'model': len(c_v['test_score'])*['lr'], 'type': len(c_v['test_score'])*['kfold'] , 'RMSE': c_v['test_score']}),ignore_index=True)\n",
    "    kf_rmse = kf_rmse.append(pd.DataFrame({'splits': kk*np.ones(len(c_v['train_score'])),'set': len(c_v['train_score'])*['train'], 'model': len(c_v['train_score'])*['lr'],'type': len(c_v['train_score'])*['kfold'] , 'RMSE': c_v['train_score']}),ignore_index=True)\n",
    "    tmp = pd.DataFrame([true_coef-est.coef_ for est in c_v['estimator']])\n",
    "    tmp['diff_intercept'] = [true_intercept-est.intercept_ for est in c_v['estimator']]\n",
    "    tmp['splits'] = kk*np.ones((len(tmp)))\n",
    "    tmp['type'] = 'kfold'\n",
    "    kf_cf = kf_cf.append(tmp)\n",
    "kf_cf.columns = ['diff_coef_' + str(i) for i in range(len(true_coef))] + ['diff_intercept'] + ['splits'] + ['type']"
   ]
  },
  {
   "cell_type": "code",
   "execution_count": null,
   "id": "114e9841",
   "metadata": {
    "deletable": false,
    "editable": false,
    "nbgrader": {
     "cell_type": "code",
     "checksum": "ae1783a8282068e402a8440d418c4171",
     "grade": true,
     "grade_id": "task-2-2-test-1",
     "locked": true,
     "points": 1,
     "schema_version": 3,
     "solution": false,
     "task": false
    }
   },
   "outputs": [],
   "source": []
  },
  {
   "cell_type": "code",
   "execution_count": null,
   "id": "88d73eb6",
   "metadata": {
    "deletable": false,
    "editable": false,
    "nbgrader": {
     "cell_type": "code",
     "checksum": "69e2cc0e3325cb562b3cf6a9bf04af8f",
     "grade": true,
     "grade_id": "task-2-2-test-2",
     "locked": true,
     "points": 1,
     "schema_version": 3,
     "solution": false,
     "task": false
    }
   },
   "outputs": [],
   "source": []
  },
  {
   "cell_type": "markdown",
   "id": "c4601e50",
   "metadata": {
    "deletable": false,
    "editable": false,
    "nbgrader": {
     "cell_type": "markdown",
     "checksum": "04d4b7678c5981e406e63784de3f315f",
     "grade": false,
     "grade_id": "task-2-3-descriptor",
     "locked": true,
     "schema_version": 3,
     "solution": false,
     "task": false
    },
    "scrolled": false
   },
   "source": [
    "**Task 2.3**\n",
    "\n",
    "Last but not least you will investigate the behaviour of out-of-bag *bootstrapping*. There is no sklearn function which implements this technique. Fortunately, there is a cross-validator in the library _mlxtend_ which does the job and behaves like a sklearn cross-validator. \n",
    "\n",
    "Within the already given for-loop, generate a `BootstrapOutOfBag()` cross-validator from mlxtend. Set the arguments as follows: \n",
    "- `n_splits=int(kk)`\n",
    "- `random_seed=350` \n",
    "\n",
    "Store the cross-val object in the variable `cv`.\n",
    "\n",
    "Next, use the sklearn function `cross_validate()` to run the experiments and store the return values in the variable `c_v`. Use the following arguments:\n",
    "- estimator: `lr` (your LinearRegression object)\n",
    "- X,y: `X` and `y`\n",
    "- `cv=cv` (your cv object to mimic Bootstrapping)\n",
    "- `scoring=rmse_scorer` (your scorer for the RMSE)\n",
    "- `return_train_score=True`\n",
    "\n",
    "Furthermore, the cross-validation function should return the estimator!\n",
    "Running the cell will yield to two pandas data frames. One will contain the RMSEs on the test data in each cv-run and the other the regression coefficients of the different models."
   ]
  },
  {
   "cell_type": "code",
   "execution_count": 15,
   "id": "79fc365a",
   "metadata": {
    "deletable": false,
    "nbgrader": {
     "cell_type": "code",
     "checksum": "f6bb28803d309bb28ee041cbe4090951",
     "grade": false,
     "grade_id": "task-2-3-solution",
     "locked": false,
     "schema_version": 3,
     "solution": true,
     "task": false
    }
   },
   "outputs": [],
   "source": [
    "bs_cf = pd.DataFrame()\n",
    "bs_rmse = pd.DataFrame()\n",
    "for kk in ks:\n",
    "    # YOUR CODE HERE\n",
    "    cv = BootstrapOutOfBag(n_splits=int(kk),random_seed=350)\n",
    "    c_v = cross_validate(lr, X, y, cv=cv,scoring=rmse_scorer,return_train_score=True,return_estimator=True)\n",
    "    bs_rmse = bs_rmse.append(pd.DataFrame({'splits': kk*np.ones(len(c_v['test_score'])), 'set': len(c_v['test_score'])*['test'],'model': len(c_v['test_score'])*['lr'],'type': len(c_v['test_score'])*['bootstrap'] , 'RMSE': c_v['test_score']}),ignore_index=True)\n",
    "    bs_rmse = bs_rmse.append(pd.DataFrame({'splits': kk*np.ones(len(c_v['train_score'])),'set': len(c_v['train_score'])*['train'], 'model': len(c_v['train_score'])*['lr'],'type': len(c_v['train_score'])*['bootstrap'] , 'RMSE': c_v['train_score']}),ignore_index=True)\n",
    "    tmp = pd.DataFrame([true_coef-est.coef_ for est in c_v['estimator']])\n",
    "    tmp['diff_intercept'] = [true_intercept-est.intercept_ for est in c_v['estimator']]\n",
    "    tmp['splits'] = kk*np.ones((len(tmp)))\n",
    "    tmp['type'] = 'bootstrap'\n",
    "    bs_cf = bs_cf.append(tmp)\n",
    "bs_cf.columns = ['diff_coef_' + str(i) for i in range(len(true_coef))] + ['diff_intercept'] + ['splits'] + ['type']"
   ]
  },
  {
   "cell_type": "code",
   "execution_count": null,
   "id": "33f562f9",
   "metadata": {
    "deletable": false,
    "editable": false,
    "nbgrader": {
     "cell_type": "code",
     "checksum": "ccd3187710aa65063bb6f39238bf33f8",
     "grade": true,
     "grade_id": "task-2-3-test-1",
     "locked": true,
     "points": 1,
     "schema_version": 3,
     "solution": false,
     "task": false
    }
   },
   "outputs": [],
   "source": []
  },
  {
   "cell_type": "code",
   "execution_count": null,
   "id": "05a23bcd",
   "metadata": {
    "deletable": false,
    "editable": false,
    "nbgrader": {
     "cell_type": "code",
     "checksum": "83f390c5e9b0a7caf97a6bc3d3c0cd81",
     "grade": true,
     "grade_id": "task-2-3-test-2",
     "locked": true,
     "points": 1,
     "schema_version": 3,
     "solution": false,
     "task": false
    }
   },
   "outputs": [],
   "source": []
  },
  {
   "cell_type": "markdown",
   "id": "20489d5b",
   "metadata": {
    "deletable": false,
    "editable": false,
    "nbgrader": {
     "cell_type": "markdown",
     "checksum": "a1dac24db03049dd58b5a8fff53a4fe1",
     "grade": false,
     "grade_id": "task-2-4-descriptor",
     "locked": true,
     "schema_version": 3,
     "solution": false,
     "task": false
    }
   },
   "source": [
    "**Task 2.4**\n",
    "\n",
    "Which of the following statements is wrong?\n",
    "\n",
    "'a': The bootstrap sample has the same size as the entire dataset.\n",
    "\n",
    "'b': Training and test set are disjunct when using Out-Of-Bag-Bootstrap.\n",
    "\n",
    "'c': Bootstrap can introduce bias especially for small datasets.\n",
    "\n",
    "'d': The number of Out-Of-Bag samples is constant for different splits.\n",
    "\n",
    "*Use a variable* `x24` *and assign your answer of the question (if 'e' would be the correct answer your code should look like this:* `x24='e'`. *There is only one correct answer.*"
   ]
  },
  {
   "cell_type": "code",
   "execution_count": 16,
   "id": "6648a68e",
   "metadata": {
    "deletable": false,
    "nbgrader": {
     "cell_type": "code",
     "checksum": "b06a4d1d0e69046e28dd25769d14de7d",
     "grade": false,
     "grade_id": "task-2-4-solution",
     "locked": false,
     "schema_version": 3,
     "solution": true,
     "task": false
    }
   },
   "outputs": [
    {
     "name": "stdout",
     "output_type": "stream",
     "text": [
      "The answer is d.\n"
     ]
    }
   ],
   "source": [
    "# YOUR CODE HERE\n",
    "x24='d'\n",
    "print('The answer is ' + x24 + '.')"
   ]
  },
  {
   "cell_type": "code",
   "execution_count": null,
   "id": "822175b6",
   "metadata": {
    "deletable": false,
    "editable": false,
    "nbgrader": {
     "cell_type": "code",
     "checksum": "c614b07a8d6e6b3b7623e321560f4549",
     "grade": true,
     "grade_id": "task-2-4-test-1",
     "locked": true,
     "points": 1,
     "schema_version": 3,
     "solution": false,
     "task": false
    }
   },
   "outputs": [],
   "source": []
  },
  {
   "cell_type": "code",
   "execution_count": 17,
   "id": "e8c2d32f",
   "metadata": {
    "deletable": false,
    "editable": false,
    "nbgrader": {
     "cell_type": "code",
     "checksum": "8a4f71c9afe1f41db76acc992840bcbe",
     "grade": false,
     "grade_id": "coef-visualization",
     "locked": true,
     "schema_version": 3,
     "solution": false,
     "task": false
    }
   },
   "outputs": [
    {
     "data": {
      "text/plain": [
       "<seaborn.axisgrid.FacetGrid at 0x7f814814fe80>"
      ]
     },
     "execution_count": 17,
     "metadata": {},
     "output_type": "execute_result"
    },
    {
     "data": {
      "image/png": "[encoded data removed]",
      "text/plain": [
       "<Figure size 677.35x1152 with 4 Axes>"
      ]
     },
     "metadata": {},
     "output_type": "display_data"
    }
   ],
   "source": [
    "sns.set_theme()\n",
    "kf_pl = pd.melt(kf_cf, id_vars=['splits','type'], value_vars=['diff_coef_0', 'diff_coef_1','diff_coef_2', 'diff_intercept'],value_name='difference', var_name='coef')\n",
    "re_pl = pd.melt(re_cf, id_vars= ['splits','type'], value_vars=['diff_coef_0', 'diff_coef_1','diff_coef_2', 'diff_intercept'],value_name='difference', var_name='coef')\n",
    "bs_pl = pd.melt(bs_cf, id_vars= ['splits','type'], value_vars=['diff_coef_0', 'diff_coef_1','diff_coef_2', 'diff_intercept'],value_name='difference', var_name='coef')\n",
    "all_coef = pd.concat([re_pl, kf_pl, bs_pl], axis=0)\n",
    "g = sns.FacetGrid(all_coef, row=\"coef\", height=4, aspect=2)\n",
    "g.map(sns.pointplot, \"splits\", \"difference\", \"type\", hue_order = ['resampling', 'kfold', 'bootstrap'],order=bs_cf.splits.unique(), linestyles=[':', '--','-.'],markers=['o','d','s'],dodge=.35,ci='sd',palette='husl')\n",
    "g.add_legend()\n",
    "g.tight_layout()\n",
    "g.set_xticklabels(ks)"
   ]
  },
  {
   "cell_type": "markdown",
   "id": "4719bf3f",
   "metadata": {
    "deletable": false,
    "editable": false,
    "nbgrader": {
     "cell_type": "markdown",
     "checksum": "df06e560bf1abe3086d16d4b173b8cc0",
     "grade": false,
     "grade_id": "task-2-5-descriptor",
     "locked": true,
     "schema_version": 3,
     "solution": false,
     "task": false
    }
   },
   "source": [
    "In the plot above you see the mean (marker) +/- the standard deviation (vertical line) of the difference between the true coefficients and the estimated coefficients(`true_coef-lr.coef_`). \n",
    "\n",
    "**Task 2.5**\n",
    "\n",
    "Why is the standard deviation for the k-fold technique decreasing with increasing number of folds (for non highly correlated datasets)?\n",
    "\n",
    "'a': The greater k, the more similar the test folds. More similar test folds lead to more similar coefficients.\n",
    "\n",
    "'b': The greater k, the more samples are in the train-folds. More similar training folds lead to more similar coefficients.  \n",
    "\n",
    "'c': The standard deviation of the coefficients is independent of k, the observerd result is only valid for the data at hand.\n",
    "\n",
    "'d': It can be shown that the standard deviation of the coefficients is inversly proportional to k.\n",
    "\n",
    "\n",
    "*Use a variable* `x25` *and assign your answer of the question (if 'e' would be the correct answer your code should look like this:* `x25='e'`. *There is only one correct answer.*"
   ]
  },
  {
   "cell_type": "code",
   "execution_count": 18,
   "id": "0e92a5e5",
   "metadata": {
    "deletable": false,
    "nbgrader": {
     "cell_type": "code",
     "checksum": "831a690a79e20b825fedeffbd20af7b3",
     "grade": false,
     "grade_id": "task-2-5-solution",
     "locked": false,
     "schema_version": 3,
     "solution": true,
     "task": false
    }
   },
   "outputs": [
    {
     "name": "stdout",
     "output_type": "stream",
     "text": [
      "The answer is b.\n"
     ]
    }
   ],
   "source": [
    "# YOUR CODE HERE\n",
    "x25='b'\n",
    "print('The answer is ' + x25 + '.')"
   ]
  },
  {
   "cell_type": "code",
   "execution_count": null,
   "id": "01cc5fda",
   "metadata": {
    "deletable": false,
    "editable": false,
    "nbgrader": {
     "cell_type": "code",
     "checksum": "9e9f43a89f3016dbb5a37bd552e85820",
     "grade": true,
     "grade_id": "task-2-5-test",
     "locked": true,
     "points": 1,
     "schema_version": 3,
     "solution": false,
     "task": false
    }
   },
   "outputs": [],
   "source": []
  },
  {
   "cell_type": "markdown",
   "id": "b6751b2e",
   "metadata": {
    "deletable": false,
    "editable": false,
    "nbgrader": {
     "cell_type": "markdown",
     "checksum": "7a387d4f092aa34927f3a2b4db9450a7",
     "grade": false,
     "grade_id": "rmse-visualization",
     "locked": true,
     "schema_version": 3,
     "solution": false,
     "task": false
    }
   },
   "source": [
    "![all](RMSE_all.svg)\n",
    "\n",
    "In the plot above you see the mean (marker) +/- the standard deviation (vertical line) of the RMSE on train and test sets during the differenct cv's.\n",
    "\n",
    "**Task 2.6**\n",
    "\n",
    "Which of the following statements is not true?\n",
    "\n",
    "\n",
    "'a': The RMSE for the true model is fluctuating due to the different sets to evaluate the model.\n",
    "\n",
    "'b': In k-fold the model will see all samples at least one time in a training fold.  \n",
    "\n",
    "'c': For an overfitted model the RMSE on the training set is in general lower than on the test set.\n",
    "\n",
    "'d': Always choose the validation method which leads to the smallest test error (on average).\n",
    "\n",
    "\n",
    "*Use a variable* `x26` *and assign your answer of the question (if 'e' would be the correct answer your code should look like this:* `x26='e'`. *There is only one correct answer.*"
   ]
  },
  {
   "cell_type": "code",
   "execution_count": 20,
   "id": "fa91da8b",
   "metadata": {
    "deletable": false,
    "nbgrader": {
     "cell_type": "code",
     "checksum": "b88fd612bca43d90c1a1df2a0ce1ef93",
     "grade": false,
     "grade_id": "task-2-6-solution",
     "locked": false,
     "schema_version": 3,
     "solution": true,
     "task": false
    }
   },
   "outputs": [
    {
     "name": "stdout",
     "output_type": "stream",
     "text": [
      "The answer is d.\n"
     ]
    }
   ],
   "source": [
    "# YOUR CODE HERE\n",
    "x26='d'\n",
    "print('The answer is ' + x26 + '.')"
   ]
  },
  {
   "cell_type": "code",
   "execution_count": null,
   "id": "1a273fb8",
   "metadata": {
    "deletable": false,
    "editable": false,
    "nbgrader": {
     "cell_type": "code",
     "checksum": "2b1900870e1f796df9b4a11a0c240e5d",
     "grade": true,
     "grade_id": "task-2-6-test",
     "locked": true,
     "points": 1,
     "schema_version": 3,
     "solution": false,
     "task": false
    }
   },
   "outputs": [],
   "source": []
  },
  {
   "cell_type": "code",
   "execution_count": null,
   "id": "a1623d56",
   "metadata": {},
   "outputs": [],
   "source": []
  },
  {
   "cell_type": "code",
   "execution_count": null,
   "id": "bb7992fd",
   "metadata": {},
   "outputs": [],
   "source": []
  },
  {
   "cell_type": "code",
   "execution_count": null,
   "id": "4ec73613",
   "metadata": {},
   "outputs": [],
   "source": []
  }
 ],
 "metadata": {
  "kernelspec": {
   "display_name": "Python 3 (ipykernel)",
   "language": "python",
   "name": "python3"
  },
  "language_info": {
   "codemirror_mode": {
    "name": "ipython",
    "version": 3
   },
   "file_extension": ".py",
   "mimetype": "text/x-python",
   "name": "python",
   "nbconvert_exporter": "python",
   "pygments_lexer": "ipython3",
   "version": "3.9.5"
  }
 },
 "nbformat": 4,
 "nbformat_minor": 5
}
