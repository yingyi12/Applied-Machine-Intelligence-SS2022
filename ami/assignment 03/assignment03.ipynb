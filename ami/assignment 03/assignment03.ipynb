{
 "cells": [
  {
   "cell_type": "markdown",
   "id": "731ac468",
   "metadata": {
    "deletable": false,
    "editable": false,
    "nbgrader": {
     "cell_type": "markdown",
     "checksum": "7adec7407ebca84a7ce728aca66c6e12",
     "grade": false,
     "grade_id": "intro",
     "locked": true,
     "schema_version": 3,
     "solution": false,
     "task": false
    }
   },
   "source": [
    "# Third assignment\n",
    "The assignment provides problems regarding basic applications of linear algebra and machine learning. Use this notebook to perform the computations and insert your comments into it. All the coding must be done in Python 3. \n",
    "\n",
    "The assignment has to be submitted individually!\n",
    "\n",
    "All your plots have to be labelled properly!  (Non-labeled plots will result in point deductions!)\n",
    "\n",
    "**Non running cells/tasks will not be considered!**\n",
    "\n",
    "The tasks/questions are 1.1), 1.2), 1.3), 1.4), 1.5), 2.1), 2.2), 2.3), 2.4), 2.5), 3.1), 3.2), 3.3), 3.4), 4.1) and 4.2). After each task description there is an answer cell for your code or text. For coding tasks they look like this:\n",
    "\n",
    "```\n",
    "# YOUR CODE HERE\n",
    "```\n",
    "(You can delete the \"YOUR CODE HERE\" comment, if you like.)\n",
    "\n",
    "For markdown (text) cells the response cell will include this:\n",
    "\n",
    "**WRITE YOUR ANSWER HERE**\n",
    "\n",
    "Sometimes they are followed by test cells. You can run the test cells after you finished the task. If these cells don't show any errors, your answer is right. You can't/shouldn't edit test cells!\n",
    "\n",
    "After you finished the notebook you can hit the \"Validate\" button on the top of the notebook to see if all test are good. You can also use the \"Validate\" button on the \"Assignment\" tap on the main page of python.ldv.ei.tum.de. Some tasks will be graded manually (e.g. plots, text answers). They don't have a following test cell. \n",
    "\n",
    "Please make sure to hit the \"Submit\" button on the \"Assignment\" tab on the main page of python.ldv.ei.tum.de before the deadline passes. You will get your final score after the deadline.\n",
    "\n",
    "**Some tips:**\n",
    "- Only change cells with `# YOUR CODE HERE` or **WRITE YOUR ANSWER HERE**\n",
    "- Do not change cell types or the notebook name.\n",
    "- Do not add other .ipynb files into the ami22 folder or subfolders.\n",
    "- Do not override the original files in the ami22 folder or subfolders.\n",
    "- For every plot makes sure that axes are correctly labeled with original labels and not encoded ones. \n",
    "- If you are asked to provide multiple plots, make sure that the titles are clear. A plot should be self explanatory, we should not have to look at your code to know what is plotted. \n",
    "\n",
    "#### Date of submission: May 23, 2022, 23:55 hrs"
   ]
  },
  {
   "cell_type": "code",
   "execution_count": 111,
   "id": "b467b963",
   "metadata": {
    "deletable": false,
    "editable": false,
    "nbgrader": {
     "cell_type": "code",
     "checksum": "4b3cbbe661dc56856ca18c871a898e38",
     "grade": false,
     "grade_id": "import",
     "locked": true,
     "schema_version": 3,
     "solution": false,
     "task": false
    }
   },
   "outputs": [],
   "source": [
    "from sklearn.datasets import fetch_openml\n",
    "from sklearn.model_selection import train_test_split\n",
    "import pandas as pd\n",
    "import numpy as np\n",
    "import seaborn as sns\n",
    "import matplotlib.pyplot as plt"
   ]
  },
  {
   "cell_type": "markdown",
   "id": "a75ba3ec",
   "metadata": {
    "deletable": false,
    "editable": false,
    "nbgrader": {
     "cell_type": "markdown",
     "checksum": "4c1013a3fb468171de3eaeb04c0034be",
     "grade": false,
     "grade_id": "dataset-descriptor",
     "locked": true,
     "schema_version": 3,
     "solution": false,
     "task": false
    }
   },
   "source": [
    "### Insurance Dataset\n",
    "\n",
    "In this assignment you will explore an insurance dataset. The target to be predicted will be the charges for a person given its age, BMI, region and so on. To get a better insight into the data and a potentally better model, you will explore the Principal Component Analysis.\n",
    "In contrast to the last assignment, where we used sklearn's encoder/transformer, we now show the possibility to use pandas routines to encode the categorical features. Moreover, we have already done the data splitting for you. "
   ]
  },
  {
   "cell_type": "code",
   "execution_count": 112,
   "id": "8949997b",
   "metadata": {
    "deletable": false,
    "editable": false,
    "nbgrader": {
     "cell_type": "code",
     "checksum": "f09cec82c72e0d4cc42da58659466b83",
     "grade": false,
     "grade_id": "dataset-loader",
     "locked": true,
     "schema_version": 3,
     "solution": false,
     "task": false
    }
   },
   "outputs": [],
   "source": [
    "data = pd.read_csv('https://raw.githubusercontent.com/stedy/Machine-Learning-with-R-datasets/master/insurance.csv')\n",
    "region_cat = data.region\n",
    "data = pd.get_dummies(data, columns=['sex', 'smoker', 'region'])\n",
    "X=data.drop(columns=['charges', 'sex_male', 'smoker_no'])\n",
    "y=data.charges\n",
    "X_train,X_test,y_train,y_test = train_test_split(X, y, test_size=.33, random_state=150)"
   ]
  },
  {
   "cell_type": "markdown",
   "id": "e8a8c8c6",
   "metadata": {
    "deletable": false,
    "editable": false,
    "nbgrader": {
     "cell_type": "markdown",
     "checksum": "8f318c98590b02d17eae62444cc65289",
     "grade": false,
     "grade_id": "task-1-1-descriptor",
     "locked": true,
     "schema_version": 3,
     "solution": false,
     "task": false
    }
   },
   "source": [
    "**Task 1.1**\n",
    "\n",
    "Generate a `PCA()` object using sklearn (with default values, so no arguments need to be passed). Assign the `PCA()`object to the variable `pca1`. Fit `pca1` with the training features and `X_train` and inspect the *scree plot* below."
   ]
  },
  {
   "cell_type": "code",
   "execution_count": 113,
   "id": "98c7af34",
   "metadata": {
    "deletable": false,
    "nbgrader": {
     "cell_type": "code",
     "checksum": "96d5aad220f536cd0215850345188d05",
     "grade": false,
     "grade_id": "task-1-1-solution",
     "locked": false,
     "schema_version": 3,
     "solution": true,
     "task": false
    }
   },
   "outputs": [
    {
     "data": {
      "image/png": "[encoded data removed]",
      "text/plain": [
       "<Figure size 432x288 with 1 Axes>"
      ]
     },
     "metadata": {
      "needs_background": "light"
     },
     "output_type": "display_data"
    }
   ],
   "source": [
    "# YOUR CODE HERE\n",
    "from sklearn import decomposition\n",
    "from sklearn.decomposition import PCA\n",
    "pca1 = PCA()\n",
    "pca1.fit_transform(X_train)\n",
    "\n",
    "evr1 = pca1.explained_variance_ratio_\n",
    "sns.lineplot(x=np.arange(X.shape[1])+1,y=np.cumsum(evr1))\n",
    "plotdf = pd.DataFrame({'n_comp': np.arange(X.shape[1])+1, 'exp_var': evr1, 'cum_exp_var': np.cumsum(evr1)})\n",
    "sns.lineplot(x='n_comp', y='(cumulative) explained variance ratio', hue='', data=pd.melt(plotdf, ['n_comp'], var_name='', value_name='(cumulative) explained variance ratio'))\n",
    "plt.show()"
   ]
  },
  {
   "cell_type": "code",
   "execution_count": null,
   "id": "b75bc60b",
   "metadata": {
    "deletable": false,
    "editable": false,
    "nbgrader": {
     "cell_type": "code",
     "checksum": "afd5cdb389fc70a829e11ae6ae3e52bc",
     "grade": true,
     "grade_id": "task-1-1-test-1",
     "locked": true,
     "points": 1,
     "schema_version": 3,
     "solution": false,
     "task": false
    }
   },
   "outputs": [],
   "source": []
  },
  {
   "cell_type": "code",
   "execution_count": null,
   "id": "89b44f49",
   "metadata": {
    "deletable": false,
    "editable": false,
    "nbgrader": {
     "cell_type": "code",
     "checksum": "3793c85a89c791789f07bedacef30e4f",
     "grade": true,
     "grade_id": "task-1-1-test-2",
     "locked": true,
     "points": 1,
     "schema_version": 3,
     "solution": false,
     "task": false
    }
   },
   "outputs": [],
   "source": []
  },
  {
   "cell_type": "markdown",
   "id": "aaa32d92",
   "metadata": {
    "deletable": false,
    "editable": false,
    "nbgrader": {
     "cell_type": "markdown",
     "checksum": "8cecd100fa0e7ba64be5ddea488ae5d5",
     "grade": false,
     "grade_id": "task-1-2-descriptor",
     "locked": true,
     "schema_version": 3,
     "solution": false,
     "task": false
    }
   },
   "source": [
    "**Task 1.2**\n",
    "\n",
    "Which of the following statements is true? \n",
    "\n",
    "The values of `explained_variance_ratio_`... \n",
    "\n",
    "'a': ... can be derived from the singular values of X_train (after mean centering)\n",
    "\n",
    "'b': ... can be derived from the eigenvalues of X_train (after mean centering)\n",
    "\n",
    "'c': ... are the same as the squared eigenvalues of X_train (after mean centering)\n",
    "\n",
    "'d': ... are computed on the test set only (after mean centering).\n",
    "\n",
    "*Use a variable* `x12` *and assign your answer of the question (if 'e' would be the correct answer your code should look like this:* `x12='e'`. *There is only one correct answer.*"
   ]
  },
  {
   "cell_type": "code",
   "execution_count": 114,
   "id": "2ca7e419",
   "metadata": {
    "deletable": false,
    "nbgrader": {
     "cell_type": "code",
     "checksum": "0d60a4c0475a209f28dfa5f5699d1776",
     "grade": false,
     "grade_id": "task-1-2-solution",
     "locked": false,
     "schema_version": 3,
     "solution": true,
     "task": false
    }
   },
   "outputs": [
    {
     "name": "stdout",
     "output_type": "stream",
     "text": [
      "The answer is b.\n"
     ]
    }
   ],
   "source": [
    "# YOUR CODE HERE\n",
    "x12='b'\n",
    "print('The answer is ' + x12 + '.')"
   ]
  },
  {
   "cell_type": "code",
   "execution_count": null,
   "id": "8ab4dac8",
   "metadata": {
    "deletable": false,
    "editable": false,
    "nbgrader": {
     "cell_type": "code",
     "checksum": "476d32c68845312c0ced66a13c2bbc21",
     "grade": true,
     "grade_id": "task-1-2-test",
     "locked": true,
     "points": 1,
     "schema_version": 3,
     "solution": false,
     "task": false
    }
   },
   "outputs": [],
   "source": []
  },
  {
   "cell_type": "markdown",
   "id": "9628f1de",
   "metadata": {
    "deletable": false,
    "editable": false,
    "nbgrader": {
     "cell_type": "markdown",
     "checksum": "f276256c695c8c7ac501b6a04c5a2dea",
     "grade": false,
     "grade_id": "task-1-3-descriptor",
     "locked": true,
     "schema_version": 3,
     "solution": false,
     "task": false
    }
   },
   "source": [
    "**Task 1.3**\n",
    "\n",
    "Compute the so called *scores* by transforming `X_train` and assign it to the variable `T1`. As you can see, your scores `T1` will be put together in a big dataframe, which will be used for visualization."
   ]
  },
  {
   "cell_type": "code",
   "execution_count": 115,
   "id": "0a93d644",
   "metadata": {
    "deletable": false,
    "nbgrader": {
     "cell_type": "code",
     "checksum": "48105318cd9b5373756d4690a43bb1aa",
     "grade": false,
     "grade_id": "task-1-3-solution",
     "locked": false,
     "schema_version": 3,
     "solution": true,
     "task": false
    }
   },
   "outputs": [
    {
     "data": {
      "text/html": [
       "<div>\n",
       "<style scoped>\n",
       "    .dataframe tbody tr th:only-of-type {\n",
       "        vertical-align: middle;\n",
       "    }\n",
       "\n",
       "    .dataframe tbody tr th {\n",
       "        vertical-align: top;\n",
       "    }\n",
       "\n",
       "    .dataframe thead th {\n",
       "        text-align: right;\n",
       "    }\n",
       "</style>\n",
       "<table border=\"1\" class=\"dataframe\">\n",
       "  <thead>\n",
       "    <tr style=\"text-align: right;\">\n",
       "      <th></th>\n",
       "      <th>age</th>\n",
       "      <th>bmi</th>\n",
       "      <th>children</th>\n",
       "      <th>sex_female</th>\n",
       "      <th>smoker_yes</th>\n",
       "      <th>region_northeast</th>\n",
       "      <th>region_northwest</th>\n",
       "      <th>region_southeast</th>\n",
       "      <th>region_southwest</th>\n",
       "      <th>T0</th>\n",
       "      <th>T1</th>\n",
       "      <th>T2</th>\n",
       "      <th>T3</th>\n",
       "      <th>T4</th>\n",
       "      <th>T5</th>\n",
       "      <th>T6</th>\n",
       "      <th>T7</th>\n",
       "      <th>T8</th>\n",
       "      <th>charges</th>\n",
       "      <th>region_cat</th>\n",
       "    </tr>\n",
       "  </thead>\n",
       "  <tbody>\n",
       "    <tr>\n",
       "      <th>1</th>\n",
       "      <td>18</td>\n",
       "      <td>33.770</td>\n",
       "      <td>1</td>\n",
       "      <td>0</td>\n",
       "      <td>0</td>\n",
       "      <td>0</td>\n",
       "      <td>0</td>\n",
       "      <td>1</td>\n",
       "      <td>0</td>\n",
       "      <td>-20.560615</td>\n",
       "      <td>4.382231</td>\n",
       "      <td>-0.064625</td>\n",
       "      <td>0.674097</td>\n",
       "      <td>-0.021924</td>\n",
       "      <td>-0.410551</td>\n",
       "      <td>0.001873</td>\n",
       "      <td>-0.381023</td>\n",
       "      <td>-5.513942e-17</td>\n",
       "      <td>1725.55230</td>\n",
       "      <td>southeast</td>\n",
       "    </tr>\n",
       "    <tr>\n",
       "      <th>77</th>\n",
       "      <td>21</td>\n",
       "      <td>35.530</td>\n",
       "      <td>0</td>\n",
       "      <td>0</td>\n",
       "      <td>0</td>\n",
       "      <td>0</td>\n",
       "      <td>0</td>\n",
       "      <td>1</td>\n",
       "      <td>0</td>\n",
       "      <td>-17.453746</td>\n",
       "      <td>5.936607</td>\n",
       "      <td>-1.077163</td>\n",
       "      <td>0.636624</td>\n",
       "      <td>0.015492</td>\n",
       "      <td>-0.392975</td>\n",
       "      <td>0.024971</td>\n",
       "      <td>-0.382389</td>\n",
       "      <td>-1.661617e-16</td>\n",
       "      <td>1532.46970</td>\n",
       "      <td>southeast</td>\n",
       "    </tr>\n",
       "    <tr>\n",
       "      <th>1022</th>\n",
       "      <td>47</td>\n",
       "      <td>36.080</td>\n",
       "      <td>1</td>\n",
       "      <td>0</td>\n",
       "      <td>1</td>\n",
       "      <td>0</td>\n",
       "      <td>0</td>\n",
       "      <td>1</td>\n",
       "      <td>0</td>\n",
       "      <td>8.526935</td>\n",
       "      <td>4.796134</td>\n",
       "      <td>-0.122455</td>\n",
       "      <td>0.880059</td>\n",
       "      <td>0.092683</td>\n",
       "      <td>-0.501449</td>\n",
       "      <td>-0.046149</td>\n",
       "      <td>0.623850</td>\n",
       "      <td>-1.661617e-16</td>\n",
       "      <td>42211.13820</td>\n",
       "      <td>southeast</td>\n",
       "    </tr>\n",
       "    <tr>\n",
       "      <th>827</th>\n",
       "      <td>36</td>\n",
       "      <td>28.025</td>\n",
       "      <td>1</td>\n",
       "      <td>0</td>\n",
       "      <td>1</td>\n",
       "      <td>1</td>\n",
       "      <td>0</td>\n",
       "      <td>0</td>\n",
       "      <td>0</td>\n",
       "      <td>-2.973738</td>\n",
       "      <td>-2.552831</td>\n",
       "      <td>-0.052094</td>\n",
       "      <td>0.570084</td>\n",
       "      <td>0.639132</td>\n",
       "      <td>0.591366</td>\n",
       "      <td>-0.159170</td>\n",
       "      <td>0.683852</td>\n",
       "      <td>-1.939173e-16</td>\n",
       "      <td>20773.62775</td>\n",
       "      <td>northeast</td>\n",
       "    </tr>\n",
       "    <tr>\n",
       "      <th>1005</th>\n",
       "      <td>29</td>\n",
       "      <td>31.730</td>\n",
       "      <td>2</td>\n",
       "      <td>0</td>\n",
       "      <td>0</td>\n",
       "      <td>0</td>\n",
       "      <td>1</td>\n",
       "      <td>0</td>\n",
       "      <td>0</td>\n",
       "      <td>-9.715068</td>\n",
       "      <td>1.608232</td>\n",
       "      <td>0.956450</td>\n",
       "      <td>0.014943</td>\n",
       "      <td>0.051567</td>\n",
       "      <td>0.102899</td>\n",
       "      <td>1.018720</td>\n",
       "      <td>-0.134961</td>\n",
       "      <td>2.501719e-16</td>\n",
       "      <td>4433.38770</td>\n",
       "      <td>northwest</td>\n",
       "    </tr>\n",
       "  </tbody>\n",
       "</table>\n",
       "</div>"
      ],
      "text/plain": [
       "      age     bmi  children  sex_female  smoker_yes  region_northeast  \\\n",
       "1      18  33.770         1           0           0                 0   \n",
       "77     21  35.530         0           0           0                 0   \n",
       "1022   47  36.080         1           0           1                 0   \n",
       "827    36  28.025         1           0           1                 1   \n",
       "1005   29  31.730         2           0           0                 0   \n",
       "\n",
       "      region_northwest  region_southeast  region_southwest         T0  \\\n",
       "1                    0                 1                 0 -20.560615   \n",
       "77                   0                 1                 0 -17.453746   \n",
       "1022                 0                 1                 0   8.526935   \n",
       "827                  0                 0                 0  -2.973738   \n",
       "1005                 1                 0                 0  -9.715068   \n",
       "\n",
       "            T1        T2        T3        T4        T5        T6        T7  \\\n",
       "1     4.382231 -0.064625  0.674097 -0.021924 -0.410551  0.001873 -0.381023   \n",
       "77    5.936607 -1.077163  0.636624  0.015492 -0.392975  0.024971 -0.382389   \n",
       "1022  4.796134 -0.122455  0.880059  0.092683 -0.501449 -0.046149  0.623850   \n",
       "827  -2.552831 -0.052094  0.570084  0.639132  0.591366 -0.159170  0.683852   \n",
       "1005  1.608232  0.956450  0.014943  0.051567  0.102899  1.018720 -0.134961   \n",
       "\n",
       "                T8      charges region_cat  \n",
       "1    -5.513942e-17   1725.55230  southeast  \n",
       "77   -1.661617e-16   1532.46970  southeast  \n",
       "1022 -1.661617e-16  42211.13820  southeast  \n",
       "827  -1.939173e-16  20773.62775  northeast  \n",
       "1005  2.501719e-16   4433.38770  northwest  "
      ]
     },
     "execution_count": 115,
     "metadata": {},
     "output_type": "execute_result"
    }
   ],
   "source": [
    "# YOUR CODE HERE\n",
    "\n",
    "T1 = pca1.transform(X_train)\n",
    "all_data_train1 = pd.concat([X_train,pd.DataFrame(T1, index=X_train.index).add_prefix('T')], axis=1)\n",
    "all_data_train1['charges'] = y_train\n",
    "all_data_train1['region_cat'] = region_cat[X_train.index]\n",
    "all_data_train1.head(5)"
   ]
  },
  {
   "cell_type": "code",
   "execution_count": null,
   "id": "35b4aacc",
   "metadata": {
    "deletable": false,
    "editable": false,
    "nbgrader": {
     "cell_type": "code",
     "checksum": "00e1d8cfc9a109e1ca516cf53391b0d2",
     "grade": true,
     "grade_id": "task-1-3-test",
     "locked": true,
     "points": 1,
     "schema_version": 3,
     "solution": false,
     "task": false
    }
   },
   "outputs": [],
   "source": []
  },
  {
   "cell_type": "markdown",
   "id": "a8f763d4",
   "metadata": {
    "deletable": false,
    "editable": false,
    "nbgrader": {
     "cell_type": "markdown",
     "checksum": "40592dfac746502c22f632a7296d76c6",
     "grade": false,
     "grade_id": "task-1-4-descriptor",
     "locked": true,
     "schema_version": 3,
     "solution": false,
     "task": false
    }
   },
   "source": [
    "**Task 1.4**\n",
    "\n",
    "Get the so called *loadings* from the `pca1` object and store it in the variable `P1`. It is easier to interpret, if the loadings are in a common range, therefore the so called *correlation loadings* can be obtained by scaling the loadings with the square root of the `explained_variance_ratio_`. To do so, transpose the loadings `P1` and multiply it with the square root of the `explained_variance_ratio_`. Store the correlation loadings in the variable `R1`!"
   ]
  },
  {
   "cell_type": "code",
   "execution_count": 116,
   "id": "755c171d",
   "metadata": {
    "deletable": false,
    "nbgrader": {
     "cell_type": "code",
     "checksum": "20f936af255f69ef80945463c06f8805",
     "grade": false,
     "grade_id": "task-1-4-solution",
     "locked": false,
     "schema_version": 3,
     "solution": true,
     "task": false
    }
   },
   "outputs": [],
   "source": [
    "# YOUR CODE HERE\n",
    "\n",
    "P1 = pca1.components_\n",
    "correlation_loadings = P1.T * np.sqrt(evr1)\n",
    "R1 = correlation_loadings"
   ]
  },
  {
   "cell_type": "code",
   "execution_count": null,
   "id": "e9b87a65",
   "metadata": {
    "deletable": false,
    "editable": false,
    "nbgrader": {
     "cell_type": "code",
     "checksum": "4d36204a92fd44c1c082e50e68df3266",
     "grade": true,
     "grade_id": "task-1-4-test-1",
     "locked": true,
     "points": 1,
     "schema_version": 3,
     "solution": false,
     "task": false
    }
   },
   "outputs": [],
   "source": []
  },
  {
   "cell_type": "code",
   "execution_count": null,
   "id": "5f3ee0ef",
   "metadata": {
    "deletable": false,
    "editable": false,
    "nbgrader": {
     "cell_type": "code",
     "checksum": "d37d9940b08083908bc43f0a6bd443fb",
     "grade": true,
     "grade_id": "task-1-4-test-2",
     "locked": true,
     "points": 1,
     "schema_version": 3,
     "solution": false,
     "task": false
    }
   },
   "outputs": [],
   "source": []
  },
  {
   "cell_type": "markdown",
   "id": "f6d76c03",
   "metadata": {
    "deletable": false,
    "editable": false,
    "nbgrader": {
     "cell_type": "markdown",
     "checksum": "2a550196821a93872681ec9ee0e4e79d",
     "grade": false,
     "grade_id": "task-1-5-descriptor",
     "locked": true,
     "schema_version": 3,
     "solution": false,
     "task": false
    }
   },
   "source": [
    "Let's have some look into scores and loadings (at least for the first two principal components):\n",
    "\n",
    "\n",
    "| |\n",
    "|:--:|\n",
    "|PCA Scores and Loadings|\n",
    "|![4scatter1](4scatter1.svg)|\n",
    "||\n",
    "\n",
    "**Task 1.5**\n",
    "\n",
    "Which of the following statements is true?\n",
    "\n",
    "'a': If we use a PCA before Linear Regression the target (in our case `charges`) has the highest correlation with the first principal component.\n",
    "\n",
    "'b': The more principal components are computed the closer the pair-wise correlation between the principal components will be to zero.\n",
    "\n",
    "'c': The second principal component can be associated with the variable `bmi`.\n",
    "\n",
    "'d': PCA seeks to maximize the covariance between the features `X_train` and the target `y_train`.\n",
    "\n",
    "*Use a variable* `x15` *and assign your answer of the question (if 'e' would be the correct answer your code should look like this:* `x15='e'`. *There is only one correct answer.*"
   ]
  },
  {
   "cell_type": "code",
   "execution_count": 117,
   "id": "d4e0165c",
   "metadata": {
    "deletable": false,
    "nbgrader": {
     "cell_type": "code",
     "checksum": "b60a4678c756dc3e0c7cb771dac7a498",
     "grade": false,
     "grade_id": "task-1-5-solution",
     "locked": false,
     "schema_version": 3,
     "solution": true,
     "task": false
    }
   },
   "outputs": [
    {
     "name": "stdout",
     "output_type": "stream",
     "text": [
      "The answer is c.\n"
     ]
    }
   ],
   "source": [
    "# YOUR CODE HERE\n",
    "x15='c'\n",
    "print('The answer is ' + x15 + '.')"
   ]
  },
  {
   "cell_type": "code",
   "execution_count": null,
   "id": "dbb86193",
   "metadata": {
    "deletable": false,
    "editable": false,
    "nbgrader": {
     "cell_type": "code",
     "checksum": "ed6cc8f62b7c0d60f16341e78b823851",
     "grade": true,
     "grade_id": "task-1-5-test",
     "locked": true,
     "points": 1,
     "schema_version": 3,
     "solution": false,
     "task": false
    }
   },
   "outputs": [],
   "source": []
  },
  {
   "cell_type": "markdown",
   "id": "15148ab2",
   "metadata": {
    "deletable": false,
    "editable": false,
    "nbgrader": {
     "cell_type": "markdown",
     "checksum": "7246375057cf72c524a8dead86239cf0",
     "grade": false,
     "grade_id": "task-2-1-descriptor",
     "locked": true,
     "schema_version": 3,
     "solution": false,
     "task": false
    }
   },
   "source": [
    "**Task 2.1**\n",
    "\n",
    "Now, we will repeat the calculation of the PCA but with scaled features. Create a `StandardScaler()` object and assign it to the variable `sc`. Fit it and transform the training features to `X_train_s` and the test features to `X_test_s`."
   ]
  },
  {
   "cell_type": "code",
   "execution_count": 141,
   "id": "13839d58",
   "metadata": {
    "deletable": false,
    "nbgrader": {
     "cell_type": "code",
     "checksum": "d1c991e4e70dc4e866f091fa71d48e2c",
     "grade": false,
     "grade_id": "task-2-1-solution",
     "locked": false,
     "schema_version": 3,
     "solution": true,
     "task": false
    }
   },
   "outputs": [],
   "source": [
    "# YOUR CODE HERE\n",
    "from sklearn.preprocessing import StandardScaler\n",
    "sc = StandardScaler()\n",
    "X_train_s = sc.fit_transform(X_train)\n",
    "X_test_s = sc.transform(X_test)\n",
    "X_train_s = pd.DataFrame(X_train_s, columns=X_train.columns, index=X_train.index)\n",
    "X_test_s = pd.DataFrame(X_test_s, columns=X_test.columns, index=X_test.index)"
   ]
  },
  {
   "cell_type": "code",
   "execution_count": null,
   "id": "3512edf4",
   "metadata": {
    "deletable": false,
    "editable": false,
    "nbgrader": {
     "cell_type": "code",
     "checksum": "574fb75d01104ca4ed04ae0276695f74",
     "grade": true,
     "grade_id": "task-2-1-test-1",
     "locked": true,
     "points": 1,
     "schema_version": 3,
     "solution": false,
     "task": false
    }
   },
   "outputs": [],
   "source": []
  },
  {
   "cell_type": "code",
   "execution_count": null,
   "id": "02623148",
   "metadata": {
    "deletable": false,
    "editable": false,
    "nbgrader": {
     "cell_type": "code",
     "checksum": "f5aaa59431cc0bddacf541126e4c1c6e",
     "grade": true,
     "grade_id": "task-2-1-test-2",
     "locked": true,
     "points": 1,
     "schema_version": 3,
     "solution": false,
     "task": false
    }
   },
   "outputs": [],
   "source": []
  },
  {
   "cell_type": "code",
   "execution_count": null,
   "id": "bd9f73f6",
   "metadata": {
    "deletable": false,
    "editable": false,
    "nbgrader": {
     "cell_type": "code",
     "checksum": "f16450f221a8cca13a29953b14c450f3",
     "grade": true,
     "grade_id": "task-2-1-test-3",
     "locked": true,
     "points": 1,
     "schema_version": 3,
     "solution": false,
     "task": false
    }
   },
   "outputs": [],
   "source": []
  },
  {
   "cell_type": "markdown",
   "id": "ccf4a4f9",
   "metadata": {
    "deletable": false,
    "editable": false,
    "nbgrader": {
     "cell_type": "markdown",
     "checksum": "931592c9e5949888ee39bf1b637c8b3d",
     "grade": false,
     "grade_id": "task-2-2-descriptor",
     "locked": true,
     "schema_version": 3,
     "solution": false,
     "task": false
    }
   },
   "source": [
    "**Task 2.2**\n",
    "\n",
    "Generate a `PCA()` object using sklearn (with default values, so no arguments need to be passed). Assign the `PCA()`object to the variable `pca2`. Fit `pca2` with the scaled training features and inspect the *scree plot*, again."
   ]
  },
  {
   "cell_type": "code",
   "execution_count": 142,
   "id": "0a4cf097",
   "metadata": {
    "deletable": false,
    "nbgrader": {
     "cell_type": "code",
     "checksum": "ca30be8a6199eb1888609650eea700ec",
     "grade": false,
     "grade_id": "task-2-2-solution",
     "locked": false,
     "schema_version": 3,
     "solution": true,
     "task": false
    }
   },
   "outputs": [
    {
     "data": {
      "image/png": "[encoded data removed]",
      "text/plain": [
       "<Figure size 432x288 with 1 Axes>"
      ]
     },
     "metadata": {
      "needs_background": "light"
     },
     "output_type": "display_data"
    }
   ],
   "source": [
    "# YOUR CODE HERE\n",
    "pca2 = PCA()\n",
    "pca2.fit_transform(X_train_s)\n",
    "evr2 = pca2.explained_variance_ratio_\n",
    "sns.lineplot(x=np.arange(X.shape[1])+1, y=np.cumsum(evr2))\n",
    "plotdf = pd.DataFrame({'n_comp': np.arange(X.shape[1])+1, 'exp_var': evr2, 'cum_exp_var': np.cumsum(evr2)})\n",
    "sns.lineplot(x='n_comp', y = '(cumulative) explained variance ratio', hue='', data=pd.melt(plotdf, ['n_comp'], var_name='', value_name='(cumulative) explained variance ratio'))\n",
    "plt.show()"
   ]
  },
  {
   "cell_type": "code",
   "execution_count": null,
   "id": "7050d2d8",
   "metadata": {
    "deletable": false,
    "editable": false,
    "nbgrader": {
     "cell_type": "code",
     "checksum": "ae1783a8282068e402a8440d418c4171",
     "grade": true,
     "grade_id": "task-2-2-test-1",
     "locked": true,
     "points": 1,
     "schema_version": 3,
     "solution": false,
     "task": false
    }
   },
   "outputs": [],
   "source": []
  },
  {
   "cell_type": "code",
   "execution_count": null,
   "id": "9300a585",
   "metadata": {
    "deletable": false,
    "editable": false,
    "nbgrader": {
     "cell_type": "code",
     "checksum": "69e2cc0e3325cb562b3cf6a9bf04af8f",
     "grade": true,
     "grade_id": "task-2-2-test-2",
     "locked": true,
     "points": 1,
     "schema_version": 3,
     "solution": false,
     "task": false
    }
   },
   "outputs": [],
   "source": []
  },
  {
   "cell_type": "markdown",
   "id": "55b253f2",
   "metadata": {
    "deletable": false,
    "editable": false,
    "nbgrader": {
     "cell_type": "markdown",
     "checksum": "1022f2bd71c794b2073445b0efef39c6",
     "grade": false,
     "grade_id": "task-2-3-descriptor",
     "locked": true,
     "schema_version": 3,
     "solution": false,
     "task": false
    }
   },
   "source": [
    "**Task 2.3**\n",
    "\n",
    "Compute the so called *scores* by transforming `X_train_s` and assign it to the variable `T2`. Again, your scores `T2` will be put together in a big dataframe, which will be used for visualization."
   ]
  },
  {
   "cell_type": "code",
   "execution_count": 143,
   "id": "195ed9d7",
   "metadata": {
    "deletable": false,
    "nbgrader": {
     "cell_type": "code",
     "checksum": "236afd355d34f27205cb29dd23d96215",
     "grade": false,
     "grade_id": "task-2-3-solution",
     "locked": false,
     "schema_version": 3,
     "solution": true,
     "task": false
    }
   },
   "outputs": [
    {
     "data": {
      "text/html": [
       "<div>\n",
       "<style scoped>\n",
       "    .dataframe tbody tr th:only-of-type {\n",
       "        vertical-align: middle;\n",
       "    }\n",
       "\n",
       "    .dataframe tbody tr th {\n",
       "        vertical-align: top;\n",
       "    }\n",
       "\n",
       "    .dataframe thead th {\n",
       "        text-align: right;\n",
       "    }\n",
       "</style>\n",
       "<table border=\"1\" class=\"dataframe\">\n",
       "  <thead>\n",
       "    <tr style=\"text-align: right;\">\n",
       "      <th></th>\n",
       "      <th>age</th>\n",
       "      <th>bmi</th>\n",
       "      <th>children</th>\n",
       "      <th>sex_female</th>\n",
       "      <th>smoker_yes</th>\n",
       "      <th>region_northeast</th>\n",
       "      <th>region_northwest</th>\n",
       "      <th>region_southeast</th>\n",
       "      <th>region_southwest</th>\n",
       "      <th>T0</th>\n",
       "      <th>T1</th>\n",
       "      <th>T2</th>\n",
       "      <th>T3</th>\n",
       "      <th>T4</th>\n",
       "      <th>T5</th>\n",
       "      <th>T6</th>\n",
       "      <th>T7</th>\n",
       "      <th>T8</th>\n",
       "      <th>charges</th>\n",
       "      <th>region_cat</th>\n",
       "    </tr>\n",
       "  </thead>\n",
       "  <tbody>\n",
       "    <tr>\n",
       "      <th>1</th>\n",
       "      <td>-1.499440</td>\n",
       "      <td>0.495801</td>\n",
       "      <td>-0.051325</td>\n",
       "      <td>-0.977922</td>\n",
       "      <td>-0.508357</td>\n",
       "      <td>-0.567040</td>\n",
       "      <td>-0.541229</td>\n",
       "      <td>1.616448</td>\n",
       "      <td>-0.582505</td>\n",
       "      <td>1.742888</td>\n",
       "      <td>-0.566507</td>\n",
       "      <td>0.132481</td>\n",
       "      <td>1.197608</td>\n",
       "      <td>0.155433</td>\n",
       "      <td>-1.278609</td>\n",
       "      <td>-0.892143</td>\n",
       "      <td>0.113520</td>\n",
       "      <td>-2.345792e-16</td>\n",
       "      <td>1725.55230</td>\n",
       "      <td>southeast</td>\n",
       "    </tr>\n",
       "    <tr>\n",
       "      <th>77</th>\n",
       "      <td>-1.283177</td>\n",
       "      <td>0.785328</td>\n",
       "      <td>-0.887455</td>\n",
       "      <td>-0.977922</td>\n",
       "      <td>-0.508357</td>\n",
       "      <td>-0.567040</td>\n",
       "      <td>-0.541229</td>\n",
       "      <td>1.616448</td>\n",
       "      <td>-0.582505</td>\n",
       "      <td>1.910294</td>\n",
       "      <td>-0.694871</td>\n",
       "      <td>0.153748</td>\n",
       "      <td>1.055548</td>\n",
       "      <td>-0.354999</td>\n",
       "      <td>-0.754439</td>\n",
       "      <td>-1.333063</td>\n",
       "      <td>0.300252</td>\n",
       "      <td>-2.345792e-16</td>\n",
       "      <td>1532.46970</td>\n",
       "      <td>southeast</td>\n",
       "    </tr>\n",
       "    <tr>\n",
       "      <th>1022</th>\n",
       "      <td>0.591103</td>\n",
       "      <td>0.875806</td>\n",
       "      <td>-0.051325</td>\n",
       "      <td>-0.977922</td>\n",
       "      <td>1.967121</td>\n",
       "      <td>-0.567040</td>\n",
       "      <td>-0.541229</td>\n",
       "      <td>1.616448</td>\n",
       "      <td>-0.582505</td>\n",
       "      <td>2.285337</td>\n",
       "      <td>-0.775893</td>\n",
       "      <td>-0.253108</td>\n",
       "      <td>0.772830</td>\n",
       "      <td>0.748072</td>\n",
       "      <td>1.427407</td>\n",
       "      <td>0.551846</td>\n",
       "      <td>-0.352002</td>\n",
       "      <td>9.848771e-17</td>\n",
       "      <td>42211.13820</td>\n",
       "      <td>southeast</td>\n",
       "    </tr>\n",
       "    <tr>\n",
       "      <th>827</th>\n",
       "      <td>-0.201862</td>\n",
       "      <td>-0.449274</td>\n",
       "      <td>-0.051325</td>\n",
       "      <td>-0.977922</td>\n",
       "      <td>1.967121</td>\n",
       "      <td>1.763545</td>\n",
       "      <td>-0.541229</td>\n",
       "      <td>-0.618640</td>\n",
       "      <td>-0.582505</td>\n",
       "      <td>-0.856842</td>\n",
       "      <td>-1.624484</td>\n",
       "      <td>-1.551124</td>\n",
       "      <td>1.072445</td>\n",
       "      <td>0.755476</td>\n",
       "      <td>1.131453</td>\n",
       "      <td>0.597412</td>\n",
       "      <td>0.243096</td>\n",
       "      <td>4.315546e-16</td>\n",
       "      <td>20773.62775</td>\n",
       "      <td>northeast</td>\n",
       "    </tr>\n",
       "    <tr>\n",
       "      <th>1005</th>\n",
       "      <td>-0.706476</td>\n",
       "      <td>0.160213</td>\n",
       "      <td>0.784805</td>\n",
       "      <td>-0.977922</td>\n",
       "      <td>-0.508357</td>\n",
       "      <td>-0.567040</td>\n",
       "      <td>1.847645</td>\n",
       "      <td>-0.618640</td>\n",
       "      <td>-0.582505</td>\n",
       "      <td>-0.704688</td>\n",
       "      <td>0.168267</td>\n",
       "      <td>1.770866</td>\n",
       "      <td>0.659747</td>\n",
       "      <td>1.392184</td>\n",
       "      <td>-0.391470</td>\n",
       "      <td>-0.550985</td>\n",
       "      <td>0.567158</td>\n",
       "      <td>-7.896907e-16</td>\n",
       "      <td>4433.38770</td>\n",
       "      <td>northwest</td>\n",
       "    </tr>\n",
       "  </tbody>\n",
       "</table>\n",
       "</div>"
      ],
      "text/plain": [
       "           age       bmi  children  sex_female  smoker_yes  region_northeast  \\\n",
       "1    -1.499440  0.495801 -0.051325   -0.977922   -0.508357         -0.567040   \n",
       "77   -1.283177  0.785328 -0.887455   -0.977922   -0.508357         -0.567040   \n",
       "1022  0.591103  0.875806 -0.051325   -0.977922    1.967121         -0.567040   \n",
       "827  -0.201862 -0.449274 -0.051325   -0.977922    1.967121          1.763545   \n",
       "1005 -0.706476  0.160213  0.784805   -0.977922   -0.508357         -0.567040   \n",
       "\n",
       "      region_northwest  region_southeast  region_southwest        T0  \\\n",
       "1            -0.541229          1.616448         -0.582505  1.742888   \n",
       "77           -0.541229          1.616448         -0.582505  1.910294   \n",
       "1022         -0.541229          1.616448         -0.582505  2.285337   \n",
       "827          -0.541229         -0.618640         -0.582505 -0.856842   \n",
       "1005          1.847645         -0.618640         -0.582505 -0.704688   \n",
       "\n",
       "            T1        T2        T3        T4        T5        T6        T7  \\\n",
       "1    -0.566507  0.132481  1.197608  0.155433 -1.278609 -0.892143  0.113520   \n",
       "77   -0.694871  0.153748  1.055548 -0.354999 -0.754439 -1.333063  0.300252   \n",
       "1022 -0.775893 -0.253108  0.772830  0.748072  1.427407  0.551846 -0.352002   \n",
       "827  -1.624484 -1.551124  1.072445  0.755476  1.131453  0.597412  0.243096   \n",
       "1005  0.168267  1.770866  0.659747  1.392184 -0.391470 -0.550985  0.567158   \n",
       "\n",
       "                T8      charges region_cat  \n",
       "1    -2.345792e-16   1725.55230  southeast  \n",
       "77   -2.345792e-16   1532.46970  southeast  \n",
       "1022  9.848771e-17  42211.13820  southeast  \n",
       "827   4.315546e-16  20773.62775  northeast  \n",
       "1005 -7.896907e-16   4433.38770  northwest  "
      ]
     },
     "execution_count": 143,
     "metadata": {},
     "output_type": "execute_result"
    }
   ],
   "source": [
    "# YOUR CODE HERE\n",
    "T2 = pca2.transform(X_train_s)\n",
    "all_data_train2 = pd.concat([X_train_s,pd.DataFrame(T2, index=X_train.index).add_prefix('T')], axis=1)\n",
    "all_data_train2['charges'] = y_train\n",
    "all_data_train2['region_cat'] = region_cat[X_train_s.index]\n",
    "all_data_train2.head(5)"
   ]
  },
  {
   "cell_type": "code",
   "execution_count": null,
   "id": "c8f33b5f",
   "metadata": {
    "deletable": false,
    "editable": false,
    "nbgrader": {
     "cell_type": "code",
     "checksum": "4de2ac11e1d1d0c2a2c32ffdbdff049f",
     "grade": true,
     "grade_id": "task-2-3-test",
     "locked": true,
     "points": 1,
     "schema_version": 3,
     "solution": false,
     "task": false
    }
   },
   "outputs": [],
   "source": []
  },
  {
   "cell_type": "markdown",
   "id": "9a7aec96",
   "metadata": {
    "deletable": false,
    "editable": false,
    "nbgrader": {
     "cell_type": "markdown",
     "checksum": "a7069365accf0b817f0dbda87ac86939",
     "grade": false,
     "grade_id": "task-2-4-descriptor",
     "locked": true,
     "schema_version": 3,
     "solution": false,
     "task": false
    }
   },
   "source": [
    "**Task 2.4**\n",
    "\n",
    "Get the so called *loadings* from the `pca2` object and store it in the variable `P2`. It is easier to interpret, if the loadings are in a common range, therefore the so called *correlation loadings* can be obtained by scaling the loadings with the square root of the `explained_variance_ratio_`. To do so, transpose the loadings `P2` and multiply it with the square root of the `explained_variance_ratio_`. Store the correlation loadings in the variable `R2`!"
   ]
  },
  {
   "cell_type": "code",
   "execution_count": 121,
   "id": "a6464642",
   "metadata": {
    "deletable": false,
    "nbgrader": {
     "cell_type": "code",
     "checksum": "fb8a8924701d811bd01b11d8eee2ece9",
     "grade": false,
     "grade_id": "task-2-4-solution",
     "locked": false,
     "schema_version": 3,
     "solution": true,
     "task": false
    }
   },
   "outputs": [],
   "source": [
    "# YOUR CODE HERE\n",
    "\n",
    "P2 = pca2.components_\n",
    "correlation_loadings = P2.T * np.sqrt(evr2)\n",
    "R2 = correlation_loadings"
   ]
  },
  {
   "cell_type": "code",
   "execution_count": null,
   "id": "3cd26756",
   "metadata": {
    "deletable": false,
    "editable": false,
    "nbgrader": {
     "cell_type": "code",
     "checksum": "c614b07a8d6e6b3b7623e321560f4549",
     "grade": true,
     "grade_id": "task-2-4-test-1",
     "locked": true,
     "points": 1,
     "schema_version": 3,
     "solution": false,
     "task": false
    }
   },
   "outputs": [],
   "source": []
  },
  {
   "cell_type": "code",
   "execution_count": null,
   "id": "a6f0e18f",
   "metadata": {
    "deletable": false,
    "editable": false,
    "nbgrader": {
     "cell_type": "code",
     "checksum": "23b1b33059137e9fb1e2284fd18fc687",
     "grade": true,
     "grade_id": "task-2-4-test-2",
     "locked": true,
     "points": 1,
     "schema_version": 3,
     "solution": false,
     "task": false
    }
   },
   "outputs": [],
   "source": []
  },
  {
   "cell_type": "markdown",
   "id": "185efa58",
   "metadata": {
    "deletable": false,
    "editable": false,
    "nbgrader": {
     "cell_type": "markdown",
     "checksum": "362170081b47c94981c664375d3c9770",
     "grade": false,
     "grade_id": "task-2-5-descriptor",
     "locked": true,
     "schema_version": 3,
     "solution": false,
     "task": false
    }
   },
   "source": [
    "Let's have some look into scores and loadings (at least for the first two principal components):\n",
    "\n",
    "\n",
    "| |\n",
    "|:--:|\n",
    "|PCA Scores and Loadings (Standardized Features X)|\n",
    "|![4scatter2](4scatter2.svg)|\n",
    "||\n",
    "\n",
    "**Task 2.5**\n",
    "\n",
    "Which of the following statements is true?\n",
    "\n",
    "'a': PCA is not sensitive to feature-scaling. The scaling factors can be multiplied with the scores to get the same values as in the unscaled PCA model.\n",
    "\n",
    "'b': PCA is not sensitive to feature-scaling. The scaling factors can be multiplied with the loadings to get the same values as in the unscaled PCA model.\n",
    "\n",
    "'c': The second principal component can be associated with the variable `bmi`.\n",
    "\n",
    "'d': The strongest variance in the data set can be found in the standard-scaled variables associated with regions dummy variables.\n",
    "\n",
    "*Use a variable* `x25` *and assign your answer of the question (if 'e' would be the correct answer your code should look like this:* `x25='e'`. *There is only one correct answer.*"
   ]
  },
  {
   "cell_type": "code",
   "execution_count": 122,
   "id": "ab53bf67",
   "metadata": {
    "deletable": false,
    "nbgrader": {
     "cell_type": "code",
     "checksum": "831a690a79e20b825fedeffbd20af7b3",
     "grade": false,
     "grade_id": "task-2-5-solution",
     "locked": false,
     "schema_version": 3,
     "solution": true,
     "task": false
    }
   },
   "outputs": [
    {
     "name": "stdout",
     "output_type": "stream",
     "text": [
      "The answer is d.\n"
     ]
    }
   ],
   "source": [
    "# YOUR CODE HERE\n",
    "x25='d'\n",
    "print('The answer is ' + x25 + '.')"
   ]
  },
  {
   "cell_type": "code",
   "execution_count": null,
   "id": "01448c7e",
   "metadata": {
    "deletable": false,
    "editable": false,
    "nbgrader": {
     "cell_type": "code",
     "checksum": "9e9f43a89f3016dbb5a37bd552e85820",
     "grade": true,
     "grade_id": "task-2-5-test",
     "locked": true,
     "points": 1,
     "schema_version": 3,
     "solution": false,
     "task": false
    }
   },
   "outputs": [],
   "source": []
  },
  {
   "cell_type": "markdown",
   "id": "01ff7fac",
   "metadata": {
    "deletable": false,
    "editable": false,
    "nbgrader": {
     "cell_type": "markdown",
     "checksum": "e4debb86f7dc7e245689c19f1934f1a1",
     "grade": false,
     "grade_id": "task-3-1-descriptor",
     "locked": true,
     "schema_version": 3,
     "solution": false,
     "task": false
    }
   },
   "source": [
    "**Task 3.1**\n",
    "\n",
    "Correlations and collinearity can lead to numerical problems in linear regression. The calculation of the coefficients using the closed form solution - which can be derived with paper and penicil ( $b = (X_{train}^T X_{train})^{-1}X_{train}^Ty_{train}$ ) - involves the inversion of the matrix $(X_{train}^T X_{train})^{-1}$. A high condition number is an indication that the direct inversion of such matrix can lead to problems. \n",
    "\n",
    "> _The condition number of x is defined as the norm of x times the norm of the inverse of x [1]; the norm can be the usual L2-norm (root-of-sum-of-squares) or one of a number of other matrix norms._ (https://numpy.org/doc/stable/reference/generated/numpy.linalg.cond.html)\n",
    "\n",
    "Use the function `cond()` from numpy's linear algebra package and calculate the condition number of the scaled training data `X_train_s`! Use the variable `c1` for the result."
   ]
  },
  {
   "cell_type": "code",
   "execution_count": 127,
   "id": "a982b941",
   "metadata": {
    "deletable": false,
    "nbgrader": {
     "cell_type": "code",
     "checksum": "7bd5eaff502e2d8b845027fa932edaaa",
     "grade": false,
     "grade_id": "task-3-1-solution",
     "locked": false,
     "schema_version": 3,
     "solution": true,
     "task": false
    }
   },
   "outputs": [
    {
     "name": "stdout",
     "output_type": "stream",
     "text": [
      "3806274336295715.5\n"
     ]
    }
   ],
   "source": [
    "# YOUR CODE HERE\n",
    "from numpy import linalg as LA\n",
    "c1 = LA.cond(X_train_s)\n",
    "print(c1)"
   ]
  },
  {
   "cell_type": "code",
   "execution_count": null,
   "id": "a4c64521",
   "metadata": {
    "deletable": false,
    "editable": false,
    "nbgrader": {
     "cell_type": "code",
     "checksum": "414ad15e4e65449fb7b7c2d5d4a1020a",
     "grade": true,
     "grade_id": "task-3-1-test",
     "locked": true,
     "points": 1,
     "schema_version": 3,
     "solution": false,
     "task": false
    }
   },
   "outputs": [],
   "source": []
  },
  {
   "cell_type": "markdown",
   "id": "e2b60f7b",
   "metadata": {
    "deletable": false,
    "editable": false,
    "nbgrader": {
     "cell_type": "markdown",
     "checksum": "090fb18ebd447e21aec8fa9b9e69b1b6",
     "grade": false,
     "grade_id": "task-3-2-descriptor",
     "locked": true,
     "schema_version": 3,
     "solution": false,
     "task": false
    }
   },
   "source": [
    "**Task 3.2**\n",
    "\n",
    "Now, compute the condition number `c2` of `X_train_s` but without the variable/column `region_northeast`."
   ]
  },
  {
   "cell_type": "code",
   "execution_count": 130,
   "id": "0bc043c5",
   "metadata": {
    "deletable": false,
    "nbgrader": {
     "cell_type": "code",
     "checksum": "df7296697dfb7f763f280fec9e02106b",
     "grade": false,
     "grade_id": "task-3-2-solution",
     "locked": false,
     "schema_version": 3,
     "solution": true,
     "task": false
    }
   },
   "outputs": [
    {
     "name": "stdout",
     "output_type": "stream",
     "text": [
      "2.2012058906705434\n"
     ]
    }
   ],
   "source": [
    "# YOUR CODE HERE\n",
    "\n",
    "c2 = LA.cond(X_train_s.drop(columns=['region_northeast']))\n",
    "print(c2)"
   ]
  },
  {
   "cell_type": "code",
   "execution_count": null,
   "id": "afc92153",
   "metadata": {
    "deletable": false,
    "editable": false,
    "nbgrader": {
     "cell_type": "code",
     "checksum": "a43a322789e7066d1e5ee9be818ef1bf",
     "grade": true,
     "grade_id": "task-3-2-test",
     "locked": true,
     "points": 1,
     "schema_version": 3,
     "solution": false,
     "task": false
    }
   },
   "outputs": [],
   "source": []
  },
  {
   "cell_type": "markdown",
   "id": "baf41039",
   "metadata": {
    "deletable": false,
    "editable": false,
    "nbgrader": {
     "cell_type": "markdown",
     "checksum": "f31d1bd82516dab10a04912d53f43599",
     "grade": false,
     "grade_id": "task-3-3-descriptor",
     "locked": true,
     "schema_version": 3,
     "solution": false,
     "task": false
    }
   },
   "source": [
    "**Task 3.3**\n",
    "\n",
    "What can you derive from the result above (Task 3.1 and Task 3.2)?\n",
    "\n",
    "'a': There has to be a strong correlation between `region_northeast` and another column/variable in `X_train_s`.\n",
    "\n",
    "'b': The condition number of `X_train_s` (including `region_northeast`) is high because of multi-collinearity.\n",
    "\n",
    "'c': The condition number of `X_train_s` (including `region_northeast`) is high because of `region_northeast` is strongly correlated with `y_train` (`charges`).\n",
    "\n",
    "'d': The condition number of `X_train_s` without `region_northeast` is small because it can be shown that the condition number is depending on the number of columns of a matrix.\n",
    "\n",
    "*Use a variable* `x33` *and assign your answer of the question (if 'e' would be the correct answer your code should look like this:* `x33='e'`. *There is only one correct answer.*"
   ]
  },
  {
   "cell_type": "code",
   "execution_count": 131,
   "id": "ab77dec6",
   "metadata": {
    "deletable": false,
    "nbgrader": {
     "cell_type": "code",
     "checksum": "6860b6475111065c2d60793fa7957553",
     "grade": false,
     "grade_id": "task-3-3-solution",
     "locked": false,
     "schema_version": 3,
     "solution": true,
     "task": false
    }
   },
   "outputs": [
    {
     "name": "stdout",
     "output_type": "stream",
     "text": [
      "The answer is a.\n"
     ]
    }
   ],
   "source": [
    "# YOUR CODE HERE\n",
    "x33='a'\n",
    "print('The answer is ' + x33 + '.')"
   ]
  },
  {
   "cell_type": "code",
   "execution_count": null,
   "id": "aa568a0e",
   "metadata": {
    "deletable": false,
    "editable": false,
    "nbgrader": {
     "cell_type": "code",
     "checksum": "9748c0d16b2c0930c2c1a5454c268cf8",
     "grade": true,
     "grade_id": "task-3-3-test",
     "locked": true,
     "points": 1,
     "schema_version": 3,
     "solution": false,
     "task": false
    }
   },
   "outputs": [],
   "source": []
  },
  {
   "cell_type": "markdown",
   "id": "c422d1dd",
   "metadata": {
    "deletable": false,
    "editable": false,
    "nbgrader": {
     "cell_type": "markdown",
     "checksum": "f2623790c438a31d5370153ca5460574",
     "grade": false,
     "grade_id": "task-3-4-descriptor",
     "locked": true,
     "schema_version": 3,
     "solution": false,
     "task": false
    }
   },
   "source": [
    "**Task 3.4**\n",
    "\n",
    "Write a function `predict_features(X,col)` which takes a pandas data frame (in our case it will be `X_train`) and an integer number which refers to a column in the data frame.\n",
    "Within the function you are to fit a linear regression. Remove the column corresponding to `col` from the data frame `X`. The resulting data frame/matrix serves as predictors whereas the removed column serves as target. The regression model should therefore predict the removed column from the remaining n-1 columns. Calculate the r2 score to evaluate the quality of your model. The function should return the regression coefficients `coef` as a numpy array and the `r2_score` as a scalar.\n"
   ]
  },
  {
   "cell_type": "code",
   "execution_count": 135,
   "id": "3379bfef",
   "metadata": {
    "deletable": false,
    "nbgrader": {
     "cell_type": "code",
     "checksum": "36d2e72473efb58a18a9fb940836ba93",
     "grade": false,
     "grade_id": "task-3-4-solution",
     "locked": false,
     "schema_version": 3,
     "solution": true,
     "task": false
    }
   },
   "outputs": [],
   "source": [
    "from sklearn.linear_model import LinearRegression\n",
    "from sklearn import metrics\n",
    "def predict_feature(X, col):\n",
    "    '''X: Feature Matrix of type Pandas Data Frame\n",
    "       col: Column which should be predicted from the remaining integer\n",
    "       coef: array of regression coefficients from sklearns linear_regression()\n",
    "       r2_score: r2 score of the prediction float\n",
    "    '''\n",
    "    # YOUR CODE HERE\n",
    "    X_true = X.drop(columns=X.columns[col])\n",
    "    y_true = X.iloc[:,[col]]\n",
    "    model = LinearRegression()\n",
    "    model.fit(X_true, y_true)\n",
    "    y_pred = model.predict(X_true)\n",
    "    coef = model.coef_\n",
    "    coef = np.squeeze(coef,0)\n",
    "    r2_score = metrics.r2_score(y_true,y_pred)\n",
    "   \n",
    "    return coef, r2_score"
   ]
  },
  {
   "cell_type": "code",
   "execution_count": 136,
   "id": "e7ddf914",
   "metadata": {
    "deletable": false,
    "editable": false,
    "nbgrader": {
     "cell_type": "code",
     "checksum": "244a40e44ba03c48d5e8dbe7ebfcb34d",
     "grade": false,
     "grade_id": "task-3-4-function-call",
     "locked": true,
     "schema_version": 3,
     "solution": false,
     "task": false
    }
   },
   "outputs": [
    {
     "data": {
      "text/html": [
       "<div>\n",
       "<style scoped>\n",
       "    .dataframe tbody tr th:only-of-type {\n",
       "        vertical-align: middle;\n",
       "    }\n",
       "\n",
       "    .dataframe tbody tr th {\n",
       "        vertical-align: top;\n",
       "    }\n",
       "\n",
       "    .dataframe thead th {\n",
       "        text-align: right;\n",
       "    }\n",
       "</style>\n",
       "<table border=\"1\" class=\"dataframe\">\n",
       "  <thead>\n",
       "    <tr style=\"text-align: right;\">\n",
       "      <th></th>\n",
       "      <th>age</th>\n",
       "      <th>bmi</th>\n",
       "      <th>children</th>\n",
       "      <th>sex_female</th>\n",
       "      <th>smoker_yes</th>\n",
       "      <th>region_northeast</th>\n",
       "      <th>region_northwest</th>\n",
       "      <th>region_southeast</th>\n",
       "      <th>region_southwest</th>\n",
       "    </tr>\n",
       "  </thead>\n",
       "  <tbody>\n",
       "    <tr>\n",
       "      <th>age</th>\n",
       "      <td>0.023756</td>\n",
       "      <td>3.188997e-01</td>\n",
       "      <td>1.439528e-01</td>\n",
       "      <td>1.506021e+00</td>\n",
       "      <td>-1.244031e+00</td>\n",
       "      <td>1.157780</td>\n",
       "      <td>0.257810</td>\n",
       "      <td>-1.388880</td>\n",
       "      <td>-0.026710</td>\n",
       "    </tr>\n",
       "    <tr>\n",
       "      <th>bmi</th>\n",
       "      <td>0.056874</td>\n",
       "      <td>9.333311e-02</td>\n",
       "      <td>1.599230e-01</td>\n",
       "      <td>-3.349983e-01</td>\n",
       "      <td>-1.774946e-01</td>\n",
       "      <td>-1.581535</td>\n",
       "      <td>-1.191070</td>\n",
       "      <td>2.642514</td>\n",
       "      <td>0.130091</td>\n",
       "    </tr>\n",
       "    <tr>\n",
       "      <th>children</th>\n",
       "      <td>0.001089</td>\n",
       "      <td>6.780552e-03</td>\n",
       "      <td>6.892250e-03</td>\n",
       "      <td>-7.255211e-02</td>\n",
       "      <td>-7.783049e-02</td>\n",
       "      <td>-0.039515</td>\n",
       "      <td>0.013448</td>\n",
       "      <td>-0.089477</td>\n",
       "      <td>0.115544</td>\n",
       "    </tr>\n",
       "    <tr>\n",
       "      <th>sex_female</th>\n",
       "      <td>0.001983</td>\n",
       "      <td>-2.473807e-03</td>\n",
       "      <td>-1.263628e-02</td>\n",
       "      <td>9.864702e-03</td>\n",
       "      <td>-7.771846e-02</td>\n",
       "      <td>-0.022109</td>\n",
       "      <td>0.026302</td>\n",
       "      <td>-0.003997</td>\n",
       "      <td>-0.000196</td>\n",
       "    </tr>\n",
       "    <tr>\n",
       "      <th>smoker_yes</th>\n",
       "      <td>-0.001067</td>\n",
       "      <td>-8.538981e-04</td>\n",
       "      <td>-8.831138e-03</td>\n",
       "      <td>-5.063163e-02</td>\n",
       "      <td>1.227957e-02</td>\n",
       "      <td>0.010227</td>\n",
       "      <td>-0.040181</td>\n",
       "      <td>0.042728</td>\n",
       "      <td>-0.012773</td>\n",
       "    </tr>\n",
       "    <tr>\n",
       "      <th>region_northeast</th>\n",
       "      <td>-0.0</td>\n",
       "      <td>2.602085e-17</td>\n",
       "      <td>-2.226951e-16</td>\n",
       "      <td>2.583654e-16</td>\n",
       "      <td>-2.383618e-16</td>\n",
       "      <td>1.000000</td>\n",
       "      <td>-1.000000</td>\n",
       "      <td>-1.000000</td>\n",
       "      <td>-1.000000</td>\n",
       "    </tr>\n",
       "    <tr>\n",
       "      <th>region_northwest</th>\n",
       "      <td>0.0</td>\n",
       "      <td>-2.063372e-17</td>\n",
       "      <td>-4.585443e-16</td>\n",
       "      <td>1.213709e-16</td>\n",
       "      <td>-5.416882e-18</td>\n",
       "      <td>-1.000000</td>\n",
       "      <td>1.000000</td>\n",
       "      <td>-1.000000</td>\n",
       "      <td>-1.000000</td>\n",
       "    </tr>\n",
       "    <tr>\n",
       "      <th>region_southeast</th>\n",
       "      <td>-0.0</td>\n",
       "      <td>-6.938894e-18</td>\n",
       "      <td>-2.172741e-16</td>\n",
       "      <td>-1.672924e-16</td>\n",
       "      <td>6.720698e-16</td>\n",
       "      <td>-1.000000</td>\n",
       "      <td>-1.000000</td>\n",
       "      <td>1.000000</td>\n",
       "      <td>-1.000000</td>\n",
       "    </tr>\n",
       "    <tr>\n",
       "      <th>region_southwest</th>\n",
       "      <td>0.0</td>\n",
       "      <td>-1.793270e-16</td>\n",
       "      <td>2.437388e-16</td>\n",
       "      <td>6.771500e-15</td>\n",
       "      <td>4.984555e-15</td>\n",
       "      <td>-1.000000</td>\n",
       "      <td>-1.000000</td>\n",
       "      <td>-1.000000</td>\n",
       "      <td>1.000000</td>\n",
       "    </tr>\n",
       "  </tbody>\n",
       "</table>\n",
       "</div>"
      ],
      "text/plain": [
       "                       age           bmi      children    sex_female  \\\n",
       "age               0.023756  3.188997e-01  1.439528e-01  1.506021e+00   \n",
       "bmi               0.056874  9.333311e-02  1.599230e-01 -3.349983e-01   \n",
       "children          0.001089  6.780552e-03  6.892250e-03 -7.255211e-02   \n",
       "sex_female        0.001983 -2.473807e-03 -1.263628e-02  9.864702e-03   \n",
       "smoker_yes       -0.001067 -8.538981e-04 -8.831138e-03 -5.063163e-02   \n",
       "region_northeast      -0.0  2.602085e-17 -2.226951e-16  2.583654e-16   \n",
       "region_northwest       0.0 -2.063372e-17 -4.585443e-16  1.213709e-16   \n",
       "region_southeast      -0.0 -6.938894e-18 -2.172741e-16 -1.672924e-16   \n",
       "region_southwest       0.0 -1.793270e-16  2.437388e-16  6.771500e-15   \n",
       "\n",
       "                    smoker_yes  region_northeast  region_northwest  \\\n",
       "age              -1.244031e+00          1.157780          0.257810   \n",
       "bmi              -1.774946e-01         -1.581535         -1.191070   \n",
       "children         -7.783049e-02         -0.039515          0.013448   \n",
       "sex_female       -7.771846e-02         -0.022109          0.026302   \n",
       "smoker_yes        1.227957e-02          0.010227         -0.040181   \n",
       "region_northeast -2.383618e-16          1.000000         -1.000000   \n",
       "region_northwest -5.416882e-18         -1.000000          1.000000   \n",
       "region_southeast  6.720698e-16         -1.000000         -1.000000   \n",
       "region_southwest  4.984555e-15         -1.000000         -1.000000   \n",
       "\n",
       "                  region_southeast  region_southwest  \n",
       "age                      -1.388880         -0.026710  \n",
       "bmi                       2.642514          0.130091  \n",
       "children                 -0.089477          0.115544  \n",
       "sex_female               -0.003997         -0.000196  \n",
       "smoker_yes                0.042728         -0.012773  \n",
       "region_northeast         -1.000000         -1.000000  \n",
       "region_northwest         -1.000000         -1.000000  \n",
       "region_southeast          1.000000         -1.000000  \n",
       "region_southwest         -1.000000          1.000000  "
      ]
     },
     "execution_count": 136,
     "metadata": {},
     "output_type": "execute_result"
    }
   ],
   "source": [
    "df = pd.DataFrame(columns=X_train.columns)\n",
    "for kk in range(X_train.shape[1]):\n",
    "    coef, r2_score = predict_feature(X_train,kk)\n",
    "    df = df.append(pd.DataFrame([coef],columns=X_train.drop(columns=[X_train.columns[kk]]).columns, index=[X_train.columns[kk]]))\n",
    "    df.iloc[kk,kk] = r2_score\n",
    "df"
   ]
  },
  {
   "cell_type": "code",
   "execution_count": null,
   "id": "0a5f57dd",
   "metadata": {
    "deletable": false,
    "editable": false,
    "nbgrader": {
     "cell_type": "code",
     "checksum": "ca4d0fa1d955cf15c3553beeba9a9c65",
     "grade": true,
     "grade_id": "task-3-4-test-1",
     "locked": true,
     "points": 2,
     "schema_version": 3,
     "solution": false,
     "task": false
    }
   },
   "outputs": [],
   "source": []
  },
  {
   "cell_type": "code",
   "execution_count": null,
   "id": "48199f3f",
   "metadata": {
    "deletable": false,
    "editable": false,
    "nbgrader": {
     "cell_type": "code",
     "checksum": "2b68d509525a353c139e6d5e6675a1eb",
     "grade": true,
     "grade_id": "task-3-4-test-2",
     "locked": true,
     "points": 1,
     "schema_version": 3,
     "solution": false,
     "task": false
    }
   },
   "outputs": [],
   "source": []
  },
  {
   "cell_type": "markdown",
   "id": "45f4206e",
   "metadata": {
    "deletable": false,
    "editable": false,
    "nbgrader": {
     "cell_type": "markdown",
     "checksum": "a0d16668553c4939ebd8b733d44b946f",
     "grade": false,
     "grade_id": "task-4-1-descriptor",
     "locked": true,
     "schema_version": 3,
     "solution": false,
     "task": false
    }
   },
   "source": [
    "\n",
    "\n",
    "\n",
    "![pcr](pcr.jpeg)\n",
    "\n",
    "**Task 4.1**\n",
    "\n",
    "\n",
    "Write a function `pc_regression()`. The function takes an integer `n_comp`, the number of principal components, and the DataFrames `X_train`,`X_test`,`y_train`,`y_test`. \n",
    "\n",
    "Inside the function you should create the following sklearn objects:\n",
    "- StandardScaler\n",
    "- PCA\n",
    "- LinearRegression.  \n",
    "The linear regression should then be fitted on the scores, i.e. the features transformed by the PCA and the target `y_train`. Transform also `X_test` and predict `y_test`. Calculate the following RMSE's:\n",
    "- `rmse_rec_train` and `rmse_rec_test`: These two RMSEs measure the error of when we reduce the dimensionality of our features with PCA. \n",
    "- `rmse_pcr_train` and `rmse_pcr_test`: These two RMSEs measure the error between the predicted charges and the observed charges.\n",
    "\n",
    "These 4 RMSEs are then also the return values of the function. As you can see, your function will be called during a \"manual\" 10-fold cross-validation (later we will also learn to work with sklearn's cross-validation functions, which will save us a lot of lines of code). We repeat the 10-fold CV for all available numbers of principal components to find the optimal number of components. Then we can test our best model on the test set (in Task 4.2)"
   ]
  },
  {
   "cell_type": "code",
   "execution_count": 137,
   "id": "af889d91",
   "metadata": {
    "deletable": false,
    "nbgrader": {
     "cell_type": "code",
     "checksum": "192199e2dc3ee657cc10f9a6192a6877",
     "grade": false,
     "grade_id": "task-4-1-solution",
     "locked": false,
     "schema_version": 3,
     "solution": true,
     "task": false
    }
   },
   "outputs": [],
   "source": [
    "from sklearn.model_selection import KFold\n",
    "from sklearn.metrics import mean_squared_error\n",
    "from sklearn.linear_model import LinearRegression\n",
    "from sklearn import decomposition\n",
    "from sklearn.decomposition import PCA\n",
    "from sklearn.preprocessing import StandardScaler\n",
    "\n",
    "def pc_regression(n_comp, X_train, X_test, y_train, y_test):\n",
    "    # YOUR CODE HERE\n",
    "    scaler = StandardScaler()\n",
    "    X_train_scaled  = scaler.fit_transform(X_train)\n",
    "    pca = PCA(n_components=n_comp)\n",
    "    X_reduced_train = pca.fit_transform(X_train_scaled)\n",
    "    X_train_recon = pca.inverse_transform(X_reduced_train) \n",
    "    rmse_rec_train = np.sqrt(mean_squared_error(X_train_scaled, X_train_recon))\n",
    "        \n",
    "   \n",
    "    X_test_scaled  = scaler.transform(X_test)\n",
    "    X_reduced_test = pca.transform( X_test_scaled)\n",
    "    X_test_recon = pca.inverse_transform(X_reduced_test) \n",
    "    rmse_rec_test = np.sqrt(mean_squared_error(X_test_scaled, X_test_recon))\n",
    "    \n",
    "\n",
    "    model = LinearRegression()\n",
    "    model.fit(X_reduced_train, y_train)\n",
    "    y_pred_train = model.predict(X_reduced_train)\n",
    "    rmse_pcr_train = np.sqrt(mean_squared_error(y_train, y_pred_train))  \n",
    "        \n",
    "    \n",
    "\n",
    "    y_pred_test = model.predict(X_reduced_test)\n",
    "    rmse_pcr_test = np.sqrt(mean_squared_error(y_test, y_pred_test)) \n",
    "        \n",
    "    return rmse_rec_train, rmse_rec_test, rmse_pcr_train, rmse_pcr_test"
   ]
  },
  {
   "cell_type": "code",
   "execution_count": 138,
   "id": "503c8585",
   "metadata": {
    "deletable": false,
    "editable": false,
    "nbgrader": {
     "cell_type": "code",
     "checksum": "a2484e0017b8b3536fbf148e14335299",
     "grade": false,
     "grade_id": "task-4-1-function-call",
     "locked": true,
     "schema_version": 3,
     "solution": false,
     "task": false
    }
   },
   "outputs": [
    {
     "data": {
      "image/png": "[encoded data removed]",
      "text/plain": [
       "<Figure size 1008x360 with 2 Axes>"
      ]
     },
     "metadata": {
      "needs_background": "light"
     },
     "output_type": "display_data"
    }
   ],
   "source": [
    "kf = KFold(10, shuffle=True, random_state=23)\n",
    "results = pd.DataFrame()\n",
    "idx = 0\n",
    "for nc in range(1, X.shape[1]+1):\n",
    "    fd = 0\n",
    "    for train_kf_ind, val_kf_ind in kf.split(X_train):\n",
    "        X_train_kf,y_train_kf = X_train.to_numpy()[train_kf_ind,:],y_train.to_numpy()[train_kf_ind]\n",
    "        X_val_kf,y_val_kf = X_train.to_numpy()[val_kf_ind,:], y_train.to_numpy()[val_kf_ind]\n",
    "        rmse_rec_train, rmse_rec_val, rmse_pcr_train,rmse_pcr_val = pc_regression(nc, X_train_kf, X_val_kf,y_train_kf,y_val_kf)\n",
    "        results = results.append(pd.DataFrame({'n_comp': nc, 'fold': fd,'set': 'train', 'reconstr': rmse_rec_train, 'linreg': rmse_pcr_train}, index=[idx]))\n",
    "        results = results.append(pd.DataFrame({'n_comp': nc, 'fold': fd,'set': 'val', 'reconstr': rmse_rec_val, 'linreg': rmse_pcr_val},index=[idx+1]))\n",
    "        fd = fd+1\n",
    "        idx = idx+2\n",
    "\n",
    "f,axs = plt.subplots(1,2,figsize=(14,5))\n",
    "sns.lineplot(x='n_comp', y='linreg', hue='set', data=results,ax=axs[0])\n",
    "sns.lineplot(x='n_comp', y='reconstr', hue='set', data=results,ax=axs[1])\n",
    "axs[0].set_title('PCR (PCA + Linear Regression) - Prediction')\n",
    "axs[1].set_title('PCA - Reconstruction')\n",
    "axs[0].set_ylabel('RMSE in \\$')\n",
    "axs[1].set_ylabel('RMSE')\n",
    "plt.show()"
   ]
  },
  {
   "cell_type": "code",
   "execution_count": null,
   "id": "9d3cf39d",
   "metadata": {
    "deletable": false,
    "editable": false,
    "nbgrader": {
     "cell_type": "code",
     "checksum": "0c398424922fa38e1126c0327de64d07",
     "grade": true,
     "grade_id": "task-4-1-test-1",
     "locked": true,
     "points": 2,
     "schema_version": 3,
     "solution": false,
     "task": false
    }
   },
   "outputs": [],
   "source": []
  },
  {
   "cell_type": "code",
   "execution_count": null,
   "id": "e90693b7",
   "metadata": {
    "deletable": false,
    "editable": false,
    "nbgrader": {
     "cell_type": "code",
     "checksum": "ae8fc4be9f9c68162ca08750d9542a78",
     "grade": true,
     "grade_id": "task-4-1-test-2",
     "locked": true,
     "points": 1,
     "schema_version": 3,
     "solution": false,
     "task": false
    }
   },
   "outputs": [],
   "source": []
  },
  {
   "cell_type": "markdown",
   "id": "107f4f89",
   "metadata": {
    "deletable": false,
    "editable": false,
    "nbgrader": {
     "cell_type": "markdown",
     "checksum": "5799baa09d97ed1c2747762459ad9c67",
     "grade": false,
     "grade_id": "task-4-2-descriptor",
     "locked": true,
     "schema_version": 3,
     "solution": false,
     "task": false
    }
   },
   "source": [
    "**Task 4.2**\n",
    "\n",
    "Based on the results of your cross-validation, choose the number of Principal Components you think is best. Again, build a model of a Principal Component Regression. That is, a PCA followed by a linear regression on the features transformed with the PCA. Fit your model with the scaled training data and compute the RMSE on the test set. Store your chosen number of PCs in the variable `best_n_components` and the RMSE in the variable `rmse_pcr_test`!"
   ]
  },
  {
   "cell_type": "code",
   "execution_count": 140,
   "id": "92ad0a59",
   "metadata": {
    "deletable": false,
    "nbgrader": {
     "cell_type": "code",
     "checksum": "91aafd2d53d6442fd18b60134dc25ad7",
     "grade": false,
     "grade_id": "task-4-2-solution",
     "locked": false,
     "schema_version": 3,
     "solution": true,
     "task": false
    }
   },
   "outputs": [
    {
     "name": "stdout",
     "output_type": "stream",
     "text": [
      "Final RMSE on the test set: 6287.030285341033with number of components: 8\n"
     ]
    }
   ],
   "source": [
    "# YOUR CODE HERE\n",
    "best_n_components = 8\n",
    "\n",
    "rmse_rec_train,rmse_rec_test,rmse_pcr_train,rmse_pcr_test = pc_regression(best_n_components, X_train, X_test,y_train,y_test)\n",
    "\n",
    "\n",
    "print('Final RMSE on the test set: ' + str(rmse_pcr_test) + 'with number of components: ' + str(best_n_components))"
   ]
  },
  {
   "cell_type": "code",
   "execution_count": null,
   "id": "a34b071e",
   "metadata": {
    "deletable": false,
    "editable": false,
    "nbgrader": {
     "cell_type": "code",
     "checksum": "8c93e67eb2bb0cb65f1f75396ce01bfe",
     "grade": true,
     "grade_id": "task-4-2-test-1",
     "locked": true,
     "points": 1,
     "schema_version": 3,
     "solution": false,
     "task": false
    }
   },
   "outputs": [],
   "source": []
  },
  {
   "cell_type": "code",
   "execution_count": null,
   "id": "e91f7f31",
   "metadata": {
    "deletable": false,
    "editable": false,
    "nbgrader": {
     "cell_type": "code",
     "checksum": "29e03acd78fe3d91df791f14929bd097",
     "grade": true,
     "grade_id": "task-4-2-test-2",
     "locked": true,
     "points": 1,
     "schema_version": 3,
     "solution": false,
     "task": false
    }
   },
   "outputs": [],
   "source": []
  }
 ],
 "metadata": {
  "kernelspec": {
   "display_name": "Python 3 (ipykernel)",
   "language": "python",
   "name": "python3"
  },
  "language_info": {
   "codemirror_mode": {
    "name": "ipython",
    "version": 3
   },
   "file_extension": ".py",
   "mimetype": "text/x-python",
   "name": "python",
   "nbconvert_exporter": "python",
   "pygments_lexer": "ipython3",
   "version": "3.9.5"
  }
 },
 "nbformat": 4,
 "nbformat_minor": 5
}
