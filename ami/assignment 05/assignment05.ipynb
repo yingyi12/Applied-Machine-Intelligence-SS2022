{
 "cells": [
  {
   "cell_type": "markdown",
   "id": "95568e8d",
   "metadata": {
    "deletable": false,
    "editable": false,
    "nbgrader": {
     "cell_type": "markdown",
     "checksum": "5997dd01c20ad66393452417dcd1a2af",
     "grade": false,
     "grade_id": "intro",
     "locked": true,
     "schema_version": 3,
     "solution": false,
     "task": false
    }
   },
   "source": [
    "# Fifth assignment\n",
    "The assignment provides problems regarding basic applications of linear algebra and machine learning. Use this notebook to perform the computations and insert your comments into it. All the coding must be done in Python 3. \n",
    "\n",
    "The assignment has to be submitted individually!\n",
    "\n",
    "All your plots have to be labelled properly!  (Non-labeled plots will result in point deductions!)\n",
    "\n",
    "**Non running cells/tasks will not be considered!**\n",
    "\n",
    "The tasks/questions are 1.1), 1.2), 1.3), 1.4), 1.5), 2.1) and 2.2). After each task description there is an answer cell for your code or text. For coding tasks they look like this:\n",
    "\n",
    "```\n",
    "# YOUR CODE HERE\n",
    "```\n",
    "(You can delete the \"YOUR CODE HERE\" comment, if you like.)\n",
    "\n",
    "For markdown (text) cells the response cell will include this:\n",
    "\n",
    "**WRITE YOUR ANSWER HERE**\n",
    "\n",
    "Sometimes they are followed by test cells. You can run the test cells after you finished the task. If these cells don't show any errors, your answer is right. You can't/shouldn't edit test cells!\n",
    "\n",
    "After you finished the notebook you can hit the \"Validate\" button on the top of the notebook to see if all test are good. You can also use the \"Validate\" button on the \"Assignment\" tap on the main page of python.ldv.ei.tum.de. Some tasks will be graded manually (e.g. plots, text answers). They don't have a following test cell. \n",
    "\n",
    "Please make sure to hit the \"Submit\" button on the \"Assignment\" tab on the main page of python.ldv.ei.tum.de before the deadline passes. You will get your final score after the deadline.\n",
    "\n",
    "**Some tips:**\n",
    "- Only change cells with `# YOUR CODE HERE` or **WRITE YOUR ANSWER HERE**\n",
    "- Do not change cell types or the notebook name.\n",
    "- Do not add other .ipynb files into the ami22 folder or subfolders.\n",
    "- Do not override the original files in the ami22 folder or subfolders.\n",
    "- For every plot makes sure that axes are correctly labeled with original labels and not encoded ones. \n",
    "- If you are asked to provide multiple plots, make sure that the titles are clear. A plot should be self explanatory, we should not have to look at your code to know what is plotted. \n",
    "\n",
    "#### Date of submission: June 07, 2022, 23:55 hrs"
   ]
  },
  {
   "cell_type": "code",
   "execution_count": 4,
   "id": "0edb3241",
   "metadata": {
    "deletable": false,
    "editable": false,
    "nbgrader": {
     "cell_type": "code",
     "checksum": "a57323c1289e4809d12ff279e015fe96",
     "grade": false,
     "grade_id": "import",
     "locked": true,
     "schema_version": 3,
     "solution": false,
     "task": false
    }
   },
   "outputs": [],
   "source": [
    "import seaborn as sns\n",
    "import pandas as pd\n",
    "from sklearn.metrics import mean_squared_error, r2_score, make_scorer\n",
    "from scipy.stats import pearsonr\n",
    "import numpy as np\n",
    "import matplotlib.pyplot as plt"
   ]
  },
  {
   "cell_type": "markdown",
   "id": "6dd72280",
   "metadata": {
    "deletable": false,
    "editable": false,
    "nbgrader": {
     "cell_type": "markdown",
     "checksum": "2f4691051265bad76cc0c8a860c0c3a8",
     "grade": false,
     "grade_id": "data-loading-descriptor",
     "locked": true,
     "schema_version": 3,
     "solution": false,
     "task": false
    }
   },
   "source": [
    "You will examine 4 small data sets. Each of them contains only one predictor and one target. First the data will be loaded."
   ]
  },
  {
   "cell_type": "code",
   "execution_count": 5,
   "id": "966e753e",
   "metadata": {
    "deletable": false,
    "editable": false,
    "nbgrader": {
     "cell_type": "code",
     "checksum": "a47363fcd166a134f4f7ae80e047ad2b",
     "grade": false,
     "grade_id": "data-loading",
     "locked": true,
     "schema_version": 3,
     "solution": false,
     "task": false
    }
   },
   "outputs": [
    {
     "data": {
      "text/html": [
       "<div>\n",
       "<style scoped>\n",
       "    .dataframe tbody tr th:only-of-type {\n",
       "        vertical-align: middle;\n",
       "    }\n",
       "\n",
       "    .dataframe tbody tr th {\n",
       "        vertical-align: top;\n",
       "    }\n",
       "\n",
       "    .dataframe thead th {\n",
       "        text-align: right;\n",
       "    }\n",
       "</style>\n",
       "<table border=\"1\" class=\"dataframe\">\n",
       "  <thead>\n",
       "    <tr style=\"text-align: right;\">\n",
       "      <th></th>\n",
       "      <th>x0</th>\n",
       "      <th>x1</th>\n",
       "      <th>x2</th>\n",
       "      <th>x3</th>\n",
       "      <th>y0</th>\n",
       "      <th>y1</th>\n",
       "      <th>y2</th>\n",
       "      <th>y3</th>\n",
       "    </tr>\n",
       "  </thead>\n",
       "  <tbody>\n",
       "    <tr>\n",
       "      <th>0</th>\n",
       "      <td>10.0</td>\n",
       "      <td>10.0</td>\n",
       "      <td>10.0</td>\n",
       "      <td>8.0</td>\n",
       "      <td>8.04</td>\n",
       "      <td>9.14</td>\n",
       "      <td>7.46</td>\n",
       "      <td>6.58</td>\n",
       "    </tr>\n",
       "    <tr>\n",
       "      <th>1</th>\n",
       "      <td>8.0</td>\n",
       "      <td>8.0</td>\n",
       "      <td>8.0</td>\n",
       "      <td>8.0</td>\n",
       "      <td>6.95</td>\n",
       "      <td>8.14</td>\n",
       "      <td>6.77</td>\n",
       "      <td>5.76</td>\n",
       "    </tr>\n",
       "    <tr>\n",
       "      <th>2</th>\n",
       "      <td>13.0</td>\n",
       "      <td>13.0</td>\n",
       "      <td>13.0</td>\n",
       "      <td>8.0</td>\n",
       "      <td>7.58</td>\n",
       "      <td>8.74</td>\n",
       "      <td>12.74</td>\n",
       "      <td>7.71</td>\n",
       "    </tr>\n",
       "    <tr>\n",
       "      <th>3</th>\n",
       "      <td>9.0</td>\n",
       "      <td>9.0</td>\n",
       "      <td>9.0</td>\n",
       "      <td>8.0</td>\n",
       "      <td>8.81</td>\n",
       "      <td>8.77</td>\n",
       "      <td>7.11</td>\n",
       "      <td>8.84</td>\n",
       "    </tr>\n",
       "    <tr>\n",
       "      <th>4</th>\n",
       "      <td>11.0</td>\n",
       "      <td>11.0</td>\n",
       "      <td>11.0</td>\n",
       "      <td>8.0</td>\n",
       "      <td>8.33</td>\n",
       "      <td>9.26</td>\n",
       "      <td>7.81</td>\n",
       "      <td>8.47</td>\n",
       "    </tr>\n",
       "  </tbody>\n",
       "</table>\n",
       "</div>"
      ],
      "text/plain": [
       "     x0    x1    x2   x3    y0    y1     y2    y3\n",
       "0  10.0  10.0  10.0  8.0  8.04  9.14   7.46  6.58\n",
       "1   8.0   8.0   8.0  8.0  6.95  8.14   6.77  5.76\n",
       "2  13.0  13.0  13.0  8.0  7.58  8.74  12.74  7.71\n",
       "3   9.0   9.0   9.0  8.0  8.81  8.77   7.11  8.84\n",
       "4  11.0  11.0  11.0  8.0  8.33  9.26   7.81  8.47"
      ]
     },
     "execution_count": 5,
     "metadata": {},
     "output_type": "execute_result"
    }
   ],
   "source": [
    "data = pd.read_csv('ass05_data.csv')\n",
    "data.head()"
   ]
  },
  {
   "cell_type": "markdown",
   "id": "aefac4ae",
   "metadata": {
    "deletable": false,
    "editable": false,
    "nbgrader": {
     "cell_type": "markdown",
     "checksum": "5eb6c1b63c3cdca7ea63f6f223cf1964",
     "grade": false,
     "grade_id": "task-1-1-descriptor",
     "locked": true,
     "schema_version": 3,
     "solution": false,
     "task": false
    }
   },
   "source": [
    "Johannes Daten claims to already have a very versatile model that can predict the respective target y very well for all 4 datasets. \n",
    "\n",
    "**Task 1.1**\n",
    "\n",
    "\n",
    "Use the python module *pickle* to load the model <font color='blue'>**model.sav**</font>. Use the variable `model` to store the loaded estimator."
   ]
  },
  {
   "cell_type": "code",
   "execution_count": 6,
   "id": "dfa70fc3",
   "metadata": {
    "deletable": false,
    "nbgrader": {
     "cell_type": "code",
     "checksum": "04312f41a99d3d5372c3585ab6a02400",
     "grade": false,
     "grade_id": "task-1-1-solution",
     "locked": false,
     "schema_version": 3,
     "solution": true,
     "task": false
    }
   },
   "outputs": [],
   "source": [
    "import pickle\n",
    "# YOUR CODE HERE\n",
    "#%pip install scikit-learn==1.1.1\n",
    "filename = 'model.sav'\n",
    "model = pickle.load(open( filename,'rb'))\n",
    "\n"
   ]
  },
  {
   "cell_type": "code",
   "execution_count": null,
   "id": "6edd8194",
   "metadata": {
    "deletable": false,
    "editable": false,
    "nbgrader": {
     "cell_type": "code",
     "checksum": "afd5cdb389fc70a829e11ae6ae3e52bc",
     "grade": true,
     "grade_id": "task-1-1-test-1",
     "locked": true,
     "points": 1,
     "schema_version": 3,
     "solution": false,
     "task": false
    }
   },
   "outputs": [],
   "source": []
  },
  {
   "cell_type": "markdown",
   "id": "0b79b6cc",
   "metadata": {
    "deletable": false,
    "editable": false,
    "nbgrader": {
     "cell_type": "markdown",
     "checksum": "ecaaedc787374977e0484e597271df1b",
     "grade": false,
     "grade_id": "scorer-desciptor",
     "locked": true,
     "schema_version": 3,
     "solution": false,
     "task": false
    }
   },
   "source": [
    "Now we will use the scorers that we already built in last assignment:"
   ]
  },
  {
   "cell_type": "code",
   "execution_count": 7,
   "id": "2bdf936a",
   "metadata": {
    "deletable": false,
    "editable": false,
    "nbgrader": {
     "cell_type": "code",
     "checksum": "29d804bdbfca7ce7ee1d20dee9bb03b8",
     "grade": false,
     "grade_id": "scorer",
     "locked": true,
     "schema_version": 3,
     "solution": false,
     "task": false
    }
   },
   "outputs": [],
   "source": [
    "def root_mean_squared_error(y, y_pred):\n",
    "    from sklearn.metrics import mean_squared_error\n",
    "    rmse = np.sqrt(mean_squared_error(y, y_pred))\n",
    "    return rmse\n",
    "def r_pearson(y, y_pred):\n",
    "    from scipy.stats import pearsonr \n",
    "    rp, _ = pearsonr(y, y_pred)\n",
    "    return rp\n",
    "rmse_scorer = make_scorer(root_mean_squared_error)\n",
    "rp_scorer = make_scorer(r_pearson)"
   ]
  },
  {
   "cell_type": "markdown",
   "id": "7d2bf7e0",
   "metadata": {
    "deletable": false,
    "editable": false,
    "nbgrader": {
     "cell_type": "markdown",
     "checksum": "7501b044b175a3c41e1a993365ee0d80",
     "grade": false,
     "grade_id": "task-1-2-descriptor",
     "locked": true,
     "schema_version": 3,
     "solution": false,
     "task": false
    }
   },
   "source": [
    "**Task 1.2**\n",
    "\n",
    "\n",
    "Now test with the 4 data sets what the model is good for. In the variable metrics there are already 4 metric functions which you should use. Calculate your predictions with the help of the loaded model and the corresponding predictor *x0,x1,x2,x3*. Apply the metrics for your respective predictions and the target *y0,y1,y2,y3*. Append the respective result to the list `metlist`. Follow the order according to the given table - then a dataframe will be constructed and a plot will be generated for you. \n"
   ]
  },
  {
   "cell_type": "code",
   "execution_count": null,
   "id": "55961db2",
   "metadata": {
    "deletable": false,
    "editable": false,
    "nbgrader": {
     "cell_type": "code",
     "checksum": "129e8efb8fb45ab1bc3017489b0e183e",
     "grade": true,
     "grade_id": "task-1-2-test-1",
     "locked": true,
     "points": 1,
     "schema_version": 3,
     "solution": false,
     "task": false
    }
   },
   "outputs": [],
   "source": []
  },
  {
   "cell_type": "code",
   "execution_count": 8,
   "id": "601115fa",
   "metadata": {
    "deletable": false,
    "nbgrader": {
     "cell_type": "code",
     "checksum": "f37644731f11f38f6faa5cb4bdab8e2a",
     "grade": false,
     "grade_id": "task-1-2-solution",
     "locked": false,
     "schema_version": 3,
     "solution": true,
     "task": false
    }
   },
   "outputs": [
    {
     "name": "stderr",
     "output_type": "stream",
     "text": [
      "/opt/conda/lib/python3.9/site-packages/seaborn/axisgrid.py:643: UserWarning: Using the barplot function without specifying `order` is likely to produce an incorrect plot.\n",
      "  warnings.warn(warning)\n"
     ]
    },
    {
     "data": {
      "text/plain": [
       "[]"
      ]
     },
     "execution_count": 8,
     "metadata": {},
     "output_type": "execute_result"
    },
    {
     "data": {
      "image/png": "[encoded data removed]",
      "text/plain": [
       "<Figure size 864x216 with 4 Axes>"
      ]
     },
     "metadata": {
      "needs_background": "light"
     },
     "output_type": "display_data"
    }
   ],
   "source": [
    "metrics = [mean_squared_error, root_mean_squared_error, r_pearson, r2_score]\n",
    "metlist = []\n",
    "for met in metrics:\n",
    "    # YOUR CODE HERE\n",
    "    y0_pred = model.predict(data.x0.to_numpy().reshape(-1,1))\n",
    "    y1_pred = model.predict(data.x1.to_numpy().reshape(-1,1))\n",
    "    y2_pred = model.predict(data.x2.to_numpy().reshape(-1,1))\n",
    "    y3_pred = model.predict(data.x3.to_numpy().reshape(-1,1))\n",
    "    \n",
    "    y0 = data.y0\n",
    "    y1 = data.y1\n",
    "    y2 = data.y2\n",
    "    y3 = data.y3\n",
    "\n",
    "\n",
    "    metlist.append(met(y0_pred,y0))            \n",
    "    metlist.append(met(y1_pred,y1))                                    \n",
    "    metlist.append(met(y2_pred,y2))    \n",
    "    metlist.append(met(y3_pred,y3))\n",
    "                   \n",
    "metdf = pd.DataFrame({'dataset': 4*[0,1,2,3],'model': 16*['JD'],'metric': 4*['MSE']+4*['RMSE']+4*['r']+4*['r2'], 'value': metlist})\n",
    "\n",
    "g = sns.FacetGrid(data=metdf, col='metric')\n",
    "g.map(sns.barplot, 'dataset', 'value')\n",
    "plt.plot()"
   ]
  },
  {
   "cell_type": "code",
   "execution_count": null,
   "id": "f02a67c4",
   "metadata": {
    "deletable": false,
    "editable": false,
    "nbgrader": {
     "cell_type": "code",
     "checksum": "f2733c7c3a932ad52d3f79dc70af68b7",
     "grade": true,
     "grade_id": "task-1-2-test-2",
     "locked": true,
     "points": 0,
     "schema_version": 3,
     "solution": false,
     "task": false
    }
   },
   "outputs": [],
   "source": []
  },
  {
   "cell_type": "markdown",
   "id": "d19d734b",
   "metadata": {
    "deletable": false,
    "editable": false,
    "nbgrader": {
     "cell_type": "markdown",
     "checksum": "37a4e84bb291cf7a44f5b93ddb149c18",
     "grade": false,
     "grade_id": "task1-3-descriptor",
     "locked": true,
     "schema_version": 3,
     "solution": false,
     "task": false
    }
   },
   "source": [
    "You suggest to Johannes Daten that he is into dusty old models. You decide to fit a neural network for each data set.\n",
    "\n",
    "**Task 1.3**\n",
    "\n",
    "You are given a for-loop and the list `mlps`. At first, we fit a `StandardScaler` `stsc` to all of the `X` data. Now, create and fit a scikit-learn- `MLPRegressor()` within the for loop (do not create the `MLPRegressor()` outside) on each of the 4 datasets (i.e. (x0,y0), (x1,y1) and so on). Use the `stsc` to transform the `x` data in each loop before fitting the model. Append each **fitted** estimator to the list mlps. Use 3 hidden layers with 128, 64 and 32 neurons. Set the parameters `max_iter=100000` and `n_iter_no_change=1000`. Use the random state 42. "
   ]
  },
  {
   "cell_type": "code",
   "execution_count": 9,
   "id": "a5c89c7c",
   "metadata": {
    "deletable": false,
    "nbgrader": {
     "cell_type": "code",
     "checksum": "16e21031e559a0834c25989c2e2c55f2",
     "grade": false,
     "grade_id": "task-1-3-solution",
     "locked": false,
     "schema_version": 3,
     "solution": true,
     "task": false
    }
   },
   "outputs": [],
   "source": [
    "from sklearn.neural_network import MLPRegressor\n",
    "from sklearn.preprocessing import StandardScaler\n",
    "\n",
    "stsc = StandardScaler()\n",
    "stsc.fit(pd.concat([data.x0, data.x1, data.x2, data.x3]).array.reshape(-1, 1))\n",
    "\n",
    "mlps = []\n",
    "for m in range(0,4):\n",
    "    # YOUR CODE HERE\n",
    "    x = data.iloc[:,m].to_numpy().reshape(-1,1)\n",
    "    x_scaled = stsc.transform(x)\n",
    "    \n",
    "    y = data.iloc[:,m+4]\n",
    "    regr = MLPRegressor(hidden_layer_sizes=(128,64,32),max_iter=100000,n_iter_no_change=1000,random_state=42).fit(x,y)\n",
    "    regr.fit(x_scaled,y)\n",
    "    mlps.append(regr)"
   ]
  },
  {
   "cell_type": "code",
   "execution_count": null,
   "id": "78dbccf8",
   "metadata": {
    "deletable": false,
    "editable": false,
    "nbgrader": {
     "cell_type": "code",
     "checksum": "5c1491056eba9e19d76df57fbc69a17f",
     "grade": true,
     "grade_id": "task-1-3-test-1",
     "locked": true,
     "points": 1,
     "schema_version": 3,
     "solution": false,
     "task": false
    }
   },
   "outputs": [],
   "source": []
  },
  {
   "cell_type": "code",
   "execution_count": null,
   "id": "3dfc4898",
   "metadata": {
    "deletable": false,
    "editable": false,
    "nbgrader": {
     "cell_type": "code",
     "checksum": "84cfab2c5b1421280713f1e9c89adebd",
     "grade": true,
     "grade_id": "task-1-3-test-2",
     "locked": true,
     "points": 0,
     "schema_version": 3,
     "solution": false,
     "task": false
    }
   },
   "outputs": [],
   "source": []
  },
  {
   "cell_type": "markdown",
   "id": "c8dab50a",
   "metadata": {
    "deletable": false,
    "editable": false,
    "nbgrader": {
     "cell_type": "markdown",
     "checksum": "a0c4ff7122175b634b9d0685fa2a616b",
     "grade": false,
     "grade_id": "task-1-4-descriptor",
     "locked": true,
     "schema_version": 3,
     "solution": false,
     "task": false
    }
   },
   "source": [
    "Looking at all 4 data sets, we see that all 4 predictors are in the range between 3 and 20. \n",
    "\n",
    "**Task 1.4**\n",
    "\n",
    "\n",
    "Create a variable `x` with 100 values ranging from 3 to 20. The 3 and 20 should be included. Predict the y-values to these x-values with the model `mlps[0]` and the model `model`. Remember, that for the prediction of the MLP you have to apply the `StandardScaler` on your x values again. Store your predictions in the variables `y_mlp0` and `y_jd`. A plot will be generated for you."
   ]
  },
  {
   "cell_type": "code",
   "execution_count": 11,
   "id": "4fd58628",
   "metadata": {
    "deletable": false,
    "nbgrader": {
     "cell_type": "code",
     "checksum": "f5ff72f37bc3eb0766b31c6c4507eb92",
     "grade": false,
     "grade_id": "task-1-4-solution",
     "locked": false,
     "schema_version": 3,
     "solution": true,
     "task": false
    }
   },
   "outputs": [
    {
     "data": {
      "image/png": "[encoded data removed]",
      "text/plain": [
       "<Figure size 720x504 with 4 Axes>"
      ]
     },
     "metadata": {
      "needs_background": "light"
     },
     "output_type": "display_data"
    }
   ],
   "source": [
    "# YOUR CODE HERE\n",
    "x = np.linspace(3,20,100)\n",
    "x_scaled = stsc.transform(x.reshape(-1, 1))\n",
    "y_mlp0 = mlps[0].predict(x_scaled)\n",
    "y_jd = model.predict(x.reshape(-1, 1))\n",
    "\n",
    "f,a = plt.subplots(2,2, figsize=(10,7))\n",
    "a = a.ravel()\n",
    "for p in range(0,4):\n",
    "    sns.lineplot(x=x,y=y_mlp0,ax=a[p],label='mlp0', linestyle='--')\n",
    "    sns.lineplot(x=x,y=y_jd,ax=a[p],label='JD',linestyle=':')\n",
    "    sns.scatterplot(x=data.iloc[:,p],y=data.iloc[:,4+p],ax=a[p], color='g')\n",
    "    a[p].set_title('dataset ' + str(p))\n",
    "plt.tight_layout()"
   ]
  },
  {
   "cell_type": "code",
   "execution_count": null,
   "id": "6d3596eb",
   "metadata": {
    "deletable": false,
    "editable": false,
    "nbgrader": {
     "cell_type": "code",
     "checksum": "4d36204a92fd44c1c082e50e68df3266",
     "grade": true,
     "grade_id": "task-1-4-test-1",
     "locked": true,
     "points": 1,
     "schema_version": 3,
     "solution": false,
     "task": false
    }
   },
   "outputs": [],
   "source": []
  },
  {
   "cell_type": "code",
   "execution_count": null,
   "id": "f2eb0a7b",
   "metadata": {
    "deletable": false,
    "editable": false,
    "nbgrader": {
     "cell_type": "code",
     "checksum": "d37d9940b08083908bc43f0a6bd443fb",
     "grade": true,
     "grade_id": "task-1-4-test-2",
     "locked": true,
     "points": 1,
     "schema_version": 3,
     "solution": false,
     "task": false
    }
   },
   "outputs": [],
   "source": []
  },
  {
   "cell_type": "code",
   "execution_count": null,
   "id": "b69a5c68",
   "metadata": {
    "deletable": false,
    "editable": false,
    "nbgrader": {
     "cell_type": "code",
     "checksum": "db1d84a6d3d1cde2858b417620e6d483",
     "grade": true,
     "grade_id": "task-1-4-test-3",
     "locked": true,
     "points": 1,
     "schema_version": 3,
     "solution": false,
     "task": false
    }
   },
   "outputs": [],
   "source": []
  },
  {
   "cell_type": "markdown",
   "id": "f19a0d81",
   "metadata": {
    "deletable": false,
    "editable": false,
    "nbgrader": {
     "cell_type": "markdown",
     "checksum": "b7031edf18bdd168ea82fd613e4f6102",
     "grade": false,
     "grade_id": "task-1-5-descriptor",
     "locked": true,
     "schema_version": 3,
     "solution": false,
     "task": false
    }
   },
   "source": [
    "![metrics](metrics.svg)\n",
    "\n",
    "**Tasl 1.5**\n",
    "\n",
    "Given the plots from task 1.4 and the visualization of the 4 metrics for some of the models (if you are also interested in the performance of the MLP fitted on dataset 2 and dataset 3 - go ahead in an own notebook and try it ... but not in this assignment.) which of the following statements is correct?\n",
    "\n",
    "'a': `mlp[0]` and `mlp[1]` are overfitted.\n",
    "\n",
    "'b': Johannes Daten's `model` is overfitted.\n",
    "\n",
    "'c': Neural Networks are robust against overfitting.\n",
    "\n",
    "'d': Overfitting is not as bad as underfitting, since only underfitting generates models with over-optimistic performance predictions.\n",
    "\n",
    "*Use a variable* `x15` *and assign your answer of the question (if 'e' would be the correct answer your code should look like this:* `x15='e'`. *There is only one correct answer.*"
   ]
  },
  {
   "cell_type": "code",
   "execution_count": 12,
   "id": "f876f667",
   "metadata": {
    "deletable": false,
    "nbgrader": {
     "cell_type": "code",
     "checksum": "c111a38ee8a5cdbae543d880823481a0",
     "grade": false,
     "grade_id": "task-1-5-solution",
     "locked": false,
     "schema_version": 3,
     "solution": true,
     "task": false
    }
   },
   "outputs": [
    {
     "name": "stdout",
     "output_type": "stream",
     "text": [
      "The answer is a.\n"
     ]
    }
   ],
   "source": [
    "# YOUR CODE HERE\n",
    "x15='a'\n",
    "print('The answer is ' + x15 + '.')"
   ]
  },
  {
   "cell_type": "code",
   "execution_count": null,
   "id": "12257241",
   "metadata": {
    "deletable": false,
    "editable": false,
    "nbgrader": {
     "cell_type": "code",
     "checksum": "252ede24394adef2f16d495effea7c58",
     "grade": true,
     "grade_id": "task-1-5-test-1",
     "locked": true,
     "points": 1,
     "schema_version": 3,
     "solution": false,
     "task": false
    }
   },
   "outputs": [],
   "source": []
  },
  {
   "cell_type": "markdown",
   "id": "2d54e079",
   "metadata": {
    "deletable": false,
    "editable": false,
    "nbgrader": {
     "cell_type": "markdown",
     "checksum": "102e2e2aadaf9cee3fef1b3752f1168f",
     "grade": false,
     "grade_id": "task-2-1-descriptor",
     "locked": true,
     "schema_version": 3,
     "solution": false,
     "task": false
    }
   },
   "source": [
    "The previous models were more or less evaluated only on the training set. You already know that the error on the training set is not a reliable value for the performance of the model on unseen data. With such small data sets it is hard to justify a train-test split. Therefore, you decide to do a Leave One Out Cross-Validation (LOOCV).\n",
    "\n",
    "**Task 2.1**\n",
    "\n",
    "Write a for loop from 0 to incl 3 and by doing so perform a Leave-One-Out-Cross-Validation for each of the four datasets. Use the `cross_validate()` function. Use a `LinearRegression()` as estimator and the `rmse_scorer` for the scoring. Print the mean and standard deviation of the test score in each iteration of the for-loop and append each cross_validate object to the list `crval`!\n"
   ]
  },
  {
   "cell_type": "code",
   "execution_count": 14,
   "id": "22132d48",
   "metadata": {
    "deletable": false,
    "nbgrader": {
     "cell_type": "code",
     "checksum": "542bf9f1dd0b78e85949affabbd754bf",
     "grade": false,
     "grade_id": "task-2-1-solution",
     "locked": false,
     "schema_version": 3,
     "solution": true,
     "task": false
    }
   },
   "outputs": [
    {
     "name": "stdout",
     "output_type": "stream",
     "text": [
      "iteration 0\n",
      "mean: 1.0254701043905585\n",
      "standard deviation: 0.9051256258116829\n",
      "iteration 1\n",
      "mean: 1.2316219563265016\n",
      "standard deviation: 0.8290285839560574\n",
      "iteration 2\n",
      "mean: 0.9184023615273613\n",
      "standard deviation: 1.1418863494166223\n",
      "iteration 3\n",
      "mean: 1.502939393939394\n",
      "standard deviation: 1.4256718670231174\n"
     ]
    }
   ],
   "source": [
    "crval=[]\n",
    "# YOUR CODE HERE\n",
    "from sklearn import datasets, linear_model\n",
    "from sklearn.model_selection import cross_validate\n",
    "from sklearn.model_selection import LeaveOneOut\n",
    "\n",
    "for m in range(0,4):\n",
    "    # YOUR CODE HERE\n",
    "    \n",
    "    x_m = data.iloc[:,m].array.reshape(-1,1)\n",
    "    y_m = data.iloc[:,m+4]\n",
    "    lr = linear_model.LinearRegression()\n",
    "    cv = LeaveOneOut()\n",
    "    c_v = cross_validate(lr, x_m, y_m, cv = cv, scoring = rmse_scorer, return_train_score=True, return_estimator= True)\n",
    " \n",
    "    print(f\"iteration {m}\")\n",
    "    mean = np.mean(c_v['test_score'])\n",
    "    print(f'mean: {mean}')\n",
    "    std = np.std(c_v['test_score'])\n",
    "    print(f'standard deviation: {std}')\n",
    "    \n",
    "    crval.append(c_v)"
   ]
  },
  {
   "cell_type": "code",
   "execution_count": null,
   "id": "7aa0377c",
   "metadata": {
    "deletable": false,
    "editable": false,
    "nbgrader": {
     "cell_type": "code",
     "checksum": "574fb75d01104ca4ed04ae0276695f74",
     "grade": true,
     "grade_id": "task-2-1-test-1",
     "locked": true,
     "points": 1,
     "schema_version": 3,
     "solution": false,
     "task": false
    }
   },
   "outputs": [],
   "source": []
  },
  {
   "cell_type": "code",
   "execution_count": null,
   "id": "9ce04f75",
   "metadata": {
    "deletable": false,
    "editable": false,
    "nbgrader": {
     "cell_type": "code",
     "checksum": "28bfa33e524294642e92f21b66a8756e",
     "grade": true,
     "grade_id": "task-2-1-test-2",
     "locked": true,
     "points": 0,
     "schema_version": 3,
     "solution": false,
     "task": false
    }
   },
   "outputs": [],
   "source": []
  },
  {
   "cell_type": "markdown",
   "id": "82373898",
   "metadata": {
    "deletable": false,
    "editable": false,
    "nbgrader": {
     "cell_type": "markdown",
     "checksum": "3a805bbd729adb18f897d31a3dc11f3e",
     "grade": false,
     "grade_id": "task-2-2-descriptor",
     "locked": true,
     "schema_version": 3,
     "solution": false,
     "task": false
    }
   },
   "source": [
    "![cv](cv.svg)\n",
    "\n",
    "**Task 2.2**\n",
    "\n",
    "Given the mean and standard deviation of the test errors in the LOOCV and the plots of the coefficients and intercepts. Which of the following statements is correct?\n",
    "\n",
    "'a': A linear regression with a coefficent of 0.5 and an intercept of 3 predicts all 4 datasets quite good..\n",
    "\n",
    "'b': Outliers in a dataset are problematic only if they are in the test set.\n",
    "\n",
    "'c': Models leading to similar performance metrics can have different characteristics.\n",
    "\n",
    "'d': LOOCV should not be used for small datasets.\n",
    "\n",
    "*Use a variable* `x22` *and assign your answer of the question (if 'e' would be the correct answer your code should look like this:* `x22='e'`. *There is only one correct answer.*"
   ]
  },
  {
   "cell_type": "code",
   "execution_count": 15,
   "id": "f834c915",
   "metadata": {
    "deletable": false,
    "nbgrader": {
     "cell_type": "code",
     "checksum": "4399b9e5405f0144146a9800713c3f0b",
     "grade": false,
     "grade_id": "task-2-2-solution",
     "locked": false,
     "schema_version": 3,
     "solution": true,
     "task": false
    }
   },
   "outputs": [
    {
     "name": "stdout",
     "output_type": "stream",
     "text": [
      "The answer is c.\n"
     ]
    }
   ],
   "source": [
    "# YOUR CODE HERE\n",
    "x22='c'\n",
    "print('The answer is ' + x22 + '.')"
   ]
  },
  {
   "cell_type": "code",
   "execution_count": null,
   "id": "3b279a38",
   "metadata": {
    "deletable": false,
    "editable": false,
    "nbgrader": {
     "cell_type": "code",
     "checksum": "ae1783a8282068e402a8440d418c4171",
     "grade": true,
     "grade_id": "task-2-2-test-1",
     "locked": true,
     "points": 1,
     "schema_version": 3,
     "solution": false,
     "task": false
    }
   },
   "outputs": [],
   "source": []
  }
 ],
 "metadata": {
  "kernelspec": {
   "display_name": "Python 3 (ipykernel)",
   "language": "python",
   "name": "python3"
  },
  "language_info": {
   "codemirror_mode": {
    "name": "ipython",
    "version": 3
   },
   "file_extension": ".py",
   "mimetype": "text/x-python",
   "name": "python",
   "nbconvert_exporter": "python",
   "pygments_lexer": "ipython3",
   "version": "3.9.5"
  }
 },
 "nbformat": 4,
 "nbformat_minor": 5
}
